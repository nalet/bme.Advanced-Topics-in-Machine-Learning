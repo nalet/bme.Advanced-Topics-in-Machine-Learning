{
 "cells": [
  {
   "cell_type": "markdown",
   "metadata": {},
   "source": [
    "# Odd vs Even MNIST classifier"
   ]
  },
  {
   "cell_type": "markdown",
   "metadata": {},
   "source": [
    "TASK: Classify digit images into two classes - even (0, 2, 4, 6, 8) / odd (1, 3, 5, 7, 9)\n",
    "- This file is on ILIAS - download it and open in jupyter notebook\n",
    "- Make sure you understand the code - **data loading**, **preprocessing**, **model** and **loss function** definitions are ready\n",
    "- **Implement functions _train()_ and _test()_**\n",
    "- Train the classifier using these functions"
   ]
  },
  {
   "cell_type": "markdown",
   "metadata": {},
   "source": [
    "## Colab version:\n",
    "https://colab.research.google.com/drive/1PhAGeXEFfUXUcNftLpVJ5RYBPYKjXOKP  \n",
    "https://tinyurl.com/yx75zaf6"
   ]
  },
  {
   "cell_type": "code",
   "execution_count": null,
   "metadata": {},
   "outputs": [],
   "source": [
    "import torch\n",
    "import torch.nn as nn\n",
    "from torch.utils.data import DataLoader\n",
    "from torchvision.datasets import MNIST\n",
    "from torchvision.transforms import Compose, ToTensor, Normalize\n",
    "\n",
    "device = torch.device('cuda') if torch.cuda.is_available() else torch.device('cpu')"
   ]
  },
  {
   "cell_type": "code",
   "execution_count": null,
   "metadata": {},
   "outputs": [],
   "source": [
    "# Label transformer function - transforms 0, ... 9 to 0, 1 (even / odd)\n",
    "# Label 0 - even, 1 - odd\n",
    "def label2parity(label):\n",
    "    return 0 if label % 2 == 0 else 1"
   ]
  },
  {
   "cell_type": "code",
   "execution_count": null,
   "metadata": {},
   "outputs": [],
   "source": [
    "# Define data transforms: converts Images to tensors and normalizes to [-1, 1]\n",
    "transforms = Compose([ToTensor(),\n",
    "                      Normalize(mean=(0.5,), std=(0.5,))])\n",
    "\n",
    "# Load train dataset\n",
    "train_dataset = MNIST(root='data', train=True, download=True,\n",
    "                      transform=transforms,\n",
    "                      target_transform=label2parity # transforms labels 0,..,9 to 0 - even, 1 - odd\n",
    "                     )\n",
    "\n",
    "# Load test dataset\n",
    "test_dataset = MNIST(root='data', train=False, download=True,\n",
    "                      transform=transforms,\n",
    "                      target_transform=label2parity\n",
    "                     )\n",
    "\n",
    "train_loader = DataLoader(train_dataset, batch_size=64, shuffle=True)\n",
    "test_loader = DataLoader(test_dataset, batch_size=64, shuffle=False)"
   ]
  },
  {
   "cell_type": "code",
   "execution_count": null,
   "metadata": {},
   "outputs": [],
   "source": [
    "class ParityModel(nn.Module):\n",
    "    def __init__(self):\n",
    "        super(ParityModel, self).__init__()\n",
    "        self.main = nn.Sequential(nn.Linear(28*28, 128),\n",
    "                                 nn.ReLU(),\n",
    "                                 nn.Linear(128, 2))\n",
    "    \n",
    "    def forward(self, x):\n",
    "        out = x.view(x.size(0), 28*28)\n",
    "        out = self.main(out)\n",
    "        return out"
   ]
  },
  {
   "cell_type": "code",
   "execution_count": null,
   "metadata": {},
   "outputs": [],
   "source": [
    "model = ParityModel()\n",
    "model = model.to(device)\n",
    "loss_fn = nn.CrossEntropyLoss()\n",
    "optimizer = torch.optim.SGD(model.parameters(), lr=0.005)"
   ]
  },
  {
   "cell_type": "markdown",
   "metadata": {},
   "source": [
    "### Implement train() function\n",
    "Implement *train()* function, that trains the model for 1 epoch (processes the entire dataset once)\n",
    "- iterate over train dataset\n",
    "    - get predictions with **model**\n",
    "    - compute loss with **loss_fn**, predictions and labels\n",
    "    - update parameters with **optimizer**\n",
    "    \n",
    "You can get inspired by previous tutorials and PyTorch documentation\n",
    "- https://pytorch.org/docs/stable/optim.html#taking-an-optimization-step\n",
    "- https://pytorch.org/tutorials/beginner/blitz/cifar10_tutorial.html#train-the-network"
   ]
  },
  {
   "cell_type": "code",
   "execution_count": null,
   "metadata": {},
   "outputs": [],
   "source": [
    "def train():\n",
    "    model.train()\n",
    "    for iteration, (images, labels) in enumerate(train_loader):\n",
    "        ## TODO: fill the training loop\n",
    "        \n",
    "        # The code below will print loss every 100 iterations. Make sure the loss computer by loss_fn is in variable \"loss\"\n",
    "        if iteration % 100 == 0:\n",
    "            print('Training iteration {}: loss {:.4f}'.format(iteration, loss.item()))"
   ]
  },
  {
   "cell_type": "markdown",
   "metadata": {},
   "source": [
    "### Implement test() function\n",
    "- iterate over test dataset\n",
    "    - get predictions with **model**\n",
    "    - compute loss with **loss_fn**, predictions and labels\n",
    "    - compute accuracy for the test dataset  \n",
    "    - assign average test set loss and accuracy to *average_loss* and *accuracy* variables\n",
    "    \n",
    "You can get inspired by previous tutorials and PyTorch documentation\n",
    "https://pytorch.org/tutorials/beginner/blitz/cifar10_tutorial.html#test-the-network-on-the-test-data"
   ]
  },
  {
   "cell_type": "code",
   "execution_count": null,
   "metadata": {},
   "outputs": [],
   "source": [
    "def test():\n",
    "    model.eval()\n",
    "    # TODO - initialize any variables if necessary\n",
    "    #\n",
    "    with torch.no_grad():\n",
    "        for images, labels in test_loader:\n",
    "            # TODO fill test loop\n",
    "\n",
    "    ## Store and print average test loss and accuracy\n",
    "    # average_loss = \n",
    "    # accuracy = \n",
    "    print('Test average loss: {:.4f}, accuracy: {:.3f}'.format(average_loss, accuracy))"
   ]
  },
  {
   "cell_type": "markdown",
   "metadata": {},
   "source": [
    "### Once you've completed train() and test() functions, run the cell below to train and test for 10 epochs\n",
    "You should be able to get test accuracy > 95 %"
   ]
  },
  {
   "cell_type": "code",
   "execution_count": null,
   "metadata": {},
   "outputs": [],
   "source": [
    "n_epochs = 10\n",
    "for epoch in range(n_epochs):\n",
    "    print('Epoch {}'.format(epoch+1))\n",
    "    train()\n",
    "    test()"
   ]
  },
  {
   "cell_type": "markdown",
   "metadata": {},
   "source": [
    "#### If you finished early, try to improve the model to increase test accuracy\n",
    "Things you could try:\n",
    "- train for more epochs\n",
    "- play with learning rate value\n",
    "- increase model size"
   ]
  },
  {
   "cell_type": "code",
   "execution_count": null,
   "metadata": {},
   "outputs": [],
   "source": []
  }
 ],
 "metadata": {
  "kernelspec": {
   "display_name": "Python 3",
   "language": "python",
   "name": "python3"
  },
  "language_info": {
   "codemirror_mode": {
    "name": "ipython",
    "version": 3
   },
   "file_extension": ".py",
   "mimetype": "text/x-python",
   "name": "python",
   "nbconvert_exporter": "python",
   "pygments_lexer": "ipython3",
   "version": "3.7.6"
  }
 },
 "nbformat": 4,
 "nbformat_minor": 4
}
