{
 "cells": [
  {
   "cell_type": "markdown",
   "metadata": {},
   "source": [
    "# Odd vs Even MNIST classifier\n",
    "TASK: Classify digit images into two classes - even (0, 2, 4, 6, 8) / odd (1, 3, 5, 7, 9)\n",
    "- This file is on ILIAS - download it and open in jupyter notebook\n",
    "- Make sure you understand the code - **data loading**, **preprocessing**, **model** and **loss function** definitions are ready\n",
    "- **Implement functions _train()_ and _test()_**\n",
    "- Train the classifier using these functions"
   ]
  },
  {
   "cell_type": "code",
   "execution_count": 1,
   "metadata": {},
   "outputs": [],
   "source": [
    "import torch\n",
    "import torch.nn as nn\n",
    "from torch.utils.data import DataLoader\n",
    "from torchvision.datasets import MNIST\n",
    "from torchvision.transforms import Compose, ToTensor, Normalize\n",
    "\n",
    "device = torch.device('cuda') if torch.cuda.is_available() else torch.device('cpu')"
   ]
  },
  {
   "cell_type": "code",
   "execution_count": 9,
   "metadata": {},
   "outputs": [],
   "source": [
    "# Label transformer function - transforms 0, ... 9 to 0, 1 (even / odd)\n",
    "# Label 0 - even, 1 - odd\n",
    "def label2parity(label):\n",
    "    return 0 if label % 2 == 0 else 1"
   ]
  },
  {
   "cell_type": "code",
   "execution_count": 3,
   "metadata": {},
   "outputs": [],
   "source": [
    "transforms = Compose([ToTensor(),\n",
    "                      Normalize(mean=(0.5,), std=(0.5,))]) # Converts Images to tensors and normalizes to [-1, 1]\n",
    "\n",
    "# Load train dataset\n",
    "train_dataset = MNIST(root='data', train=True, download=True,\n",
    "                      transform=transforms,\n",
    "                      target_transform=label2parity # transforms labels 0,..,9 to 0 - even, 1 - odd\n",
    "                     )\n",
    "\n",
    "# Load test dataset\n",
    "test_dataset = MNIST(root='data', train=False, download=True,\n",
    "                      transform=transforms,\n",
    "                      target_transform=label2parity\n",
    "                     )\n",
    "\n",
    "train_loader = DataLoader(train_dataset, batch_size=64, shuffle=True)\n",
    "test_loader = DataLoader(test_dataset, batch_size=64, shuffle=False)"
   ]
  },
  {
   "cell_type": "code",
   "execution_count": 4,
   "metadata": {},
   "outputs": [],
   "source": [
    "class ParityModel(nn.Module):\n",
    "    def __init__(self):\n",
    "        super(ParityModel, self).__init__()\n",
    "        self.main = nn.Sequential(nn.Linear(28*28, 128),\n",
    "                                 nn.ReLU(),\n",
    "                                 nn.Linear(128, 2))\n",
    "    \n",
    "    def forward(self, x):\n",
    "        out = x.view(x.size(0), 28*28)\n",
    "        out = self.main(out)\n",
    "        return out"
   ]
  },
  {
   "cell_type": "code",
   "execution_count": 5,
   "metadata": {},
   "outputs": [],
   "source": [
    "model = ParityModel()\n",
    "model = model.to(device)\n",
    "loss_fn = nn.CrossEntropyLoss()\n",
    "optimizer = torch.optim.SGD(model.parameters(), lr=0.005)"
   ]
  },
  {
   "cell_type": "markdown",
   "metadata": {},
   "source": [
    "### Implement train() function\n",
    "Implement *train()* function, that trains the model for 1 epoch (processes the entire dataset once)\n",
    "- iterate over train dataset\n",
    "    - get predictions with **model**\n",
    "    - compute loss with **loss_fn**, predictions and labels\n",
    "    - update parameters with **optimizer**\n",
    "    \n",
    "You can get inspired by previous tutorials and PyTorch documentation\n",
    "- https://pytorch.org/docs/stable/optim.html#taking-an-optimization-step\n",
    "- https://pytorch.org/tutorials/beginner/blitz/cifar10_tutorial.html#train-the-network"
   ]
  },
  {
   "cell_type": "code",
   "execution_count": 6,
   "metadata": {},
   "outputs": [],
   "source": [
    "def train():\n",
    "    model.train()\n",
    "    for iteration, (images, labels) in enumerate(train_loader):\n",
    "        images = images.to(device)\n",
    "        labels = labels.to(device)\n",
    "        output = model(images)\n",
    "        optimizer.zero_grad()\n",
    "        loss = loss_fn(output, labels)\n",
    "        loss.backward()\n",
    "        optimizer.step()\n",
    "        # The code below will print loss every 100 iterations. Make sure the loss computer by loss_fn is in variable \"loss\"\n",
    "        if iteration % 100 == 0:\n",
    "            print('Training iteration {}: loss {:.4f}'.format(iteration, loss.item()))"
   ]
  },
  {
   "cell_type": "markdown",
   "metadata": {},
   "source": [
    "### Implement test() function\n",
    "- iterate over test dataset\n",
    "    - get predictions with **model**\n",
    "    - compute loss with **loss_fn**, predictions and labels\n",
    "    - compute accuracy for the test dataset  \n",
    "    - assign average test set loss and accuracy to *average_loss* and *accuracy* variables\n",
    "    \n",
    "You can get inspired by previous tutorials and PyTorch documentation\n",
    "https://pytorch.org/tutorials/beginner/blitz/cifar10_tutorial.html#test-the-network-on-the-test-data"
   ]
  },
  {
   "cell_type": "code",
   "execution_count": 7,
   "metadata": {},
   "outputs": [],
   "source": [
    "def test():\n",
    "    model.eval()\n",
    "    test_loss = 0\n",
    "    n_correct = 0\n",
    "    with torch.no_grad():\n",
    "        for images, labels in test_loader:\n",
    "            images = images.to(device)\n",
    "            labels = labels.to(device)\n",
    "            output = model(images)\n",
    "            loss = loss_fn(output, labels)\n",
    "            test_loss += loss.item()\n",
    "            n_correct += torch.sum(output.argmax(1) == labels).item()\n",
    "\n",
    "    average_loss = test_loss / len(test_loader)\n",
    "    accuracy = 100.0 * n_correct / len(test_loader.dataset)\n",
    "    print('Test average loss: {:.4f}, accuracy: {:.3f}'.format(average_loss, accuracy))"
   ]
  },
  {
   "cell_type": "markdown",
   "metadata": {},
   "source": [
    "### Once you've completed train() and test() functions, run the cell below to train and test for 10 epochs\n",
    "You should be able to get test accuracy > 95 %"
   ]
  },
  {
   "cell_type": "code",
   "execution_count": 8,
   "metadata": {},
   "outputs": [
    {
     "name": "stdout",
     "output_type": "stream",
     "text": [
      "Epoch 1\n",
      "Training iteration 0: loss 0.6824\n",
      "Training iteration 100: loss 0.4411\n",
      "Training iteration 200: loss 0.4094\n",
      "Training iteration 300: loss 0.3652\n",
      "Training iteration 400: loss 0.3947\n",
      "Training iteration 500: loss 0.2979\n",
      "Training iteration 600: loss 0.2927\n",
      "Training iteration 700: loss 0.3907\n",
      "Training iteration 800: loss 0.3239\n",
      "Training iteration 900: loss 0.3174\n",
      "Test average loss: 0.2864, accuracy: 88.580\n",
      "Epoch 2\n",
      "Training iteration 0: loss 0.2550\n",
      "Training iteration 100: loss 0.2862\n",
      "Training iteration 200: loss 0.2440\n",
      "Training iteration 300: loss 0.1732\n",
      "Training iteration 400: loss 0.2514\n",
      "Training iteration 500: loss 0.2322\n",
      "Training iteration 600: loss 0.3538\n",
      "Training iteration 700: loss 0.1511\n",
      "Training iteration 800: loss 0.3168\n",
      "Training iteration 900: loss 0.2264\n",
      "Test average loss: 0.2369, accuracy: 90.470\n",
      "Epoch 3\n",
      "Training iteration 0: loss 0.2435\n",
      "Training iteration 100: loss 0.2675\n",
      "Training iteration 200: loss 0.1746\n",
      "Training iteration 300: loss 0.3510\n",
      "Training iteration 400: loss 0.1879\n",
      "Training iteration 500: loss 0.2506\n",
      "Training iteration 600: loss 0.2488\n",
      "Training iteration 700: loss 0.1923\n",
      "Training iteration 800: loss 0.1719\n",
      "Training iteration 900: loss 0.2059\n",
      "Test average loss: 0.1873, accuracy: 93.160\n",
      "Epoch 4\n",
      "Training iteration 0: loss 0.2342\n",
      "Training iteration 100: loss 0.1514\n",
      "Training iteration 200: loss 0.1019\n",
      "Training iteration 300: loss 0.0999\n",
      "Training iteration 400: loss 0.1967\n",
      "Training iteration 500: loss 0.0918\n",
      "Training iteration 600: loss 0.2705\n",
      "Training iteration 700: loss 0.1597\n",
      "Training iteration 800: loss 0.1147\n",
      "Training iteration 900: loss 0.1190\n",
      "Test average loss: 0.1583, accuracy: 94.210\n",
      "Epoch 5\n",
      "Training iteration 0: loss 0.1979\n",
      "Training iteration 100: loss 0.2107\n",
      "Training iteration 200: loss 0.1530\n",
      "Training iteration 300: loss 0.1254\n",
      "Training iteration 400: loss 0.1101\n",
      "Training iteration 500: loss 0.1528\n",
      "Training iteration 600: loss 0.1624\n",
      "Training iteration 700: loss 0.1607\n",
      "Training iteration 800: loss 0.2373\n",
      "Training iteration 900: loss 0.1244\n",
      "Test average loss: 0.1377, accuracy: 95.070\n",
      "Epoch 6\n",
      "Training iteration 0: loss 0.1369\n",
      "Training iteration 100: loss 0.0908\n",
      "Training iteration 200: loss 0.1748\n",
      "Training iteration 300: loss 0.0684\n",
      "Training iteration 400: loss 0.0858\n",
      "Training iteration 500: loss 0.1783\n",
      "Training iteration 600: loss 0.0752\n",
      "Training iteration 700: loss 0.0552\n",
      "Training iteration 800: loss 0.1534\n",
      "Training iteration 900: loss 0.0942\n",
      "Test average loss: 0.1244, accuracy: 95.740\n",
      "Epoch 7\n",
      "Training iteration 0: loss 0.1523\n",
      "Training iteration 100: loss 0.0636\n",
      "Training iteration 200: loss 0.1955\n",
      "Training iteration 300: loss 0.0873\n",
      "Training iteration 400: loss 0.0878\n",
      "Training iteration 500: loss 0.1084\n",
      "Training iteration 600: loss 0.1211\n",
      "Training iteration 700: loss 0.0462\n",
      "Training iteration 800: loss 0.1100\n",
      "Training iteration 900: loss 0.0654\n",
      "Test average loss: 0.1254, accuracy: 95.480\n",
      "Epoch 8\n",
      "Training iteration 0: loss 0.1310\n",
      "Training iteration 100: loss 0.2112\n",
      "Training iteration 200: loss 0.1240\n",
      "Training iteration 300: loss 0.1778\n",
      "Training iteration 400: loss 0.0893\n",
      "Training iteration 500: loss 0.1585\n",
      "Training iteration 600: loss 0.1392\n",
      "Training iteration 700: loss 0.0956\n",
      "Training iteration 800: loss 0.0758\n",
      "Training iteration 900: loss 0.1451\n",
      "Test average loss: 0.1056, accuracy: 96.440\n",
      "Epoch 9\n",
      "Training iteration 0: loss 0.1294\n",
      "Training iteration 100: loss 0.0987\n",
      "Training iteration 200: loss 0.0534\n",
      "Training iteration 300: loss 0.1417\n",
      "Training iteration 400: loss 0.0787\n",
      "Training iteration 500: loss 0.1002\n",
      "Training iteration 600: loss 0.1177\n",
      "Training iteration 700: loss 0.0774\n",
      "Training iteration 800: loss 0.1345\n",
      "Training iteration 900: loss 0.0442\n",
      "Test average loss: 0.0999, accuracy: 96.550\n",
      "Epoch 10\n",
      "Training iteration 0: loss 0.1235\n",
      "Training iteration 100: loss 0.0705\n",
      "Training iteration 200: loss 0.0913\n",
      "Training iteration 300: loss 0.0875\n",
      "Training iteration 400: loss 0.0421\n",
      "Training iteration 500: loss 0.1230\n",
      "Training iteration 600: loss 0.0595\n",
      "Training iteration 700: loss 0.0587\n",
      "Training iteration 800: loss 0.1155\n",
      "Training iteration 900: loss 0.1379\n",
      "Test average loss: 0.0929, accuracy: 96.980\n"
     ]
    }
   ],
   "source": [
    "n_epochs = 10\n",
    "for epoch in range(n_epochs):\n",
    "    print('Epoch {}'.format(epoch+1))\n",
    "    train()\n",
    "    test()"
   ]
  },
  {
   "cell_type": "code",
   "execution_count": null,
   "metadata": {},
   "outputs": [],
   "source": []
  },
  {
   "cell_type": "markdown",
   "metadata": {},
   "source": [
    "#### If you finished early, try to improve the model to increase test accuracy\n",
    "Things you could try:\n",
    "- train for more epochs\n",
    "- play with learning rate value\n",
    "- increase model size"
   ]
  },
  {
   "cell_type": "code",
   "execution_count": null,
   "metadata": {},
   "outputs": [],
   "source": []
  }
 ],
 "metadata": {
  "kernelspec": {
   "display_name": "Python 3",
   "language": "python",
   "name": "python3"
  },
  "language_info": {
   "codemirror_mode": {
    "name": "ipython",
    "version": 3
   },
   "file_extension": ".py",
   "mimetype": "text/x-python",
   "name": "python",
   "nbconvert_exporter": "python",
   "pygments_lexer": "ipython3",
   "version": "3.7.6"
  }
 },
 "nbformat": 4,
 "nbformat_minor": 4
}
