{
 "cells": [
  {
   "cell_type": "markdown",
   "metadata": {},
   "source": [
    "# Linear regression\n",
    "Problem:  \n",
    "Given dataset $(x_i, y_i)_{i=1}^{M}$  \n",
    "We assume that $ (x, y) $ pairs were genearted with $ y = a * x + b + \\epsilon $  \n",
    "$ \\epsilon $ - Gaussian noise\n",
    "\n",
    "Find approximation $ \\hat{y}=a*x+b $ that minimizes mean square error $L = \\frac{1}{m}\\sum_{i=1}^{M}(y_i-\\hat{y})^2 = \\frac{1}{m}\\sum_{i=1}^{M}(y_i-(a*x+b))^2$  \n",
    "We need to find parameters $a, b$"
   ]
  },
  {
   "cell_type": "markdown",
   "metadata": {},
   "source": [
    "# Generate data"
   ]
  },
  {
   "cell_type": "code",
   "execution_count": null,
   "metadata": {},
   "outputs": [],
   "source": [
    "import numpy as np\n",
    "n_samples = 100\n",
    "x = np.linspace(-5, 5, 100) # data\n",
    "a = 0.5\n",
    "b = -0.8\n",
    "y = a * x + b + np.random.randn(n_samples) # target / observations\n",
    "# Given observed pairs (x, y), we want to find a, b that minimizes mean square error"
   ]
  },
  {
   "cell_type": "code",
   "execution_count": null,
   "metadata": {},
   "outputs": [],
   "source": [
    "%matplotlib inline\n",
    "import matplotlib.pyplot as plt\n",
    "plt.scatter(x, y)"
   ]
  },
  {
   "cell_type": "code",
   "execution_count": null,
   "metadata": {},
   "outputs": [],
   "source": [
    "plt.scatter(x, y)\n",
    "plt.plot(x, x*0 + 0.1)\n",
    "plt.plot(x, x*1)\n",
    "plt.plot(x, x*-0.5)"
   ]
  },
  {
   "cell_type": "markdown",
   "metadata": {},
   "source": [
    "# PyTorch datasets\n",
    "Some default implementations available: https://pytorch.org/docs/stable/data.html  \n",
    "For images: https://pytorch.org/docs/stable/torchvision/datasets.html#imagefolder  \n",
    "**Dataset** must implement __getitem__(index) (returns indexed element) and __len__() (returns number of elements)  \n",
    "We could use **TensorDataset** but let's write it"
   ]
  },
  {
   "cell_type": "code",
   "execution_count": null,
   "metadata": {},
   "outputs": [],
   "source": [
    "import torch\n",
    "from torch.utils.data import Dataset\n",
    "class NumpyDataset(Dataset):\n",
    "    def __init__(self, data, target):\n",
    "        self.data = data\n",
    "        self.target = target\n",
    "        \n",
    "    def __getitem__(self, index):\n",
    "        # Anything could go here, e.g. image loading from file or a different structure\n",
    "        # must return samples and targets/labels (x and y in our case)\n",
    "        datapoint = self.data[index]\n",
    "        target = self.target[index]\n",
    "        return torch.tensor([datapoint]), torch.tensor([target])\n",
    "    \n",
    "    def __len__(self):\n",
    "        return len(self.data)\n",
    "        # must return number of examples"
   ]
  },
  {
   "cell_type": "code",
   "execution_count": null,
   "metadata": {},
   "outputs": [],
   "source": [
    "# Create and test dataset\n",
    "dataset = NumpyDataset(x, y)"
   ]
  },
  {
   "cell_type": "code",
   "execution_count": null,
   "metadata": {},
   "outputs": [],
   "source": [
    "dataset[4]"
   ]
  },
  {
   "cell_type": "code",
   "execution_count": null,
   "metadata": {},
   "outputs": [],
   "source": [
    "x[4], y[4]"
   ]
  },
  {
   "cell_type": "markdown",
   "metadata": {},
   "source": [
    "**DataLoader** objects provide a way to efficiently iterate over datasets https://pytorch.org/docs/stable/data.html"
   ]
  },
  {
   "cell_type": "code",
   "execution_count": null,
   "metadata": {},
   "outputs": [],
   "source": [
    "from torch.utils.data import DataLoader\n",
    "# Create data loader for dataset in dataloader variable\n",
    "dataloader = DataLoader(dataset, batch_size=100, shuffle=True)"
   ]
  },
  {
   "cell_type": "code",
   "execution_count": null,
   "metadata": {},
   "outputs": [],
   "source": [
    "#We can iterate over the dataset\n",
    "for xs, ys in dataloader:\n",
    "    print(xs.size(), ys.size())"
   ]
  },
  {
   "cell_type": "markdown",
   "metadata": {},
   "source": [
    "## PyTorch models\n",
    "Pytorch models are defined as **Module** objects that need to have a **forward** method implemented that applies transformations (neural network layers) on data. https://pytorch.org/docs/stable/nn.html"
   ]
  },
  {
   "cell_type": "code",
   "execution_count": null,
   "metadata": {},
   "outputs": [],
   "source": [
    "import torch.nn as nn\n",
    "class LinearModel(nn.Module):\n",
    "    \n",
    "    def __init__(self, input_dim):\n",
    "        super(LinearModel, self).__init__()\n",
    "        # initialize a Linear layer\n",
    "        self.fc = nn.Linear(input_dim, 1)\n",
    "        \n",
    "    def forward(self, x):\n",
    "        # apply linear transformation x * a + b and return the result\n",
    "        out = self.fc(x)\n",
    "        return out"
   ]
  },
  {
   "cell_type": "code",
   "execution_count": null,
   "metadata": {},
   "outputs": [],
   "source": [
    "# Create model\n",
    "model = LinearModel(input_dim=1)"
   ]
  },
  {
   "cell_type": "code",
   "execution_count": null,
   "metadata": {},
   "outputs": [],
   "source": [
    "# Show randomly initialized a, b\n",
    "model.fc.weight, model.fc.bias"
   ]
  },
  {
   "cell_type": "code",
   "execution_count": null,
   "metadata": {},
   "outputs": [],
   "source": [
    "# Evaluate for randomly initialized model\n",
    "# save results in `prediction`\n",
    "model.eval()\n",
    "with torch.no_grad():\n",
    "    x_data = np.linspace(-5, 5, 100)\n",
    "    x_data = torch.tensor(x_data, dtype=torch.float) #(100) -> (100x1)\n",
    "    x_data = x_data.view(-1, 1)\n",
    "    predictions = model(x_data) # model.forward(x)"
   ]
  },
  {
   "cell_type": "code",
   "execution_count": null,
   "metadata": {},
   "outputs": [],
   "source": [
    "plt.scatter(x, y)\n",
    "plt.plot(x, predictions.numpy(), color='red')"
   ]
  },
  {
   "cell_type": "code",
   "execution_count": null,
   "metadata": {},
   "outputs": [],
   "source": [
    "# Train the model\n",
    "from utils import train_mse\n",
    "train_mse(dataloader, model, n_epochs=500) ## will be covered in the next class"
   ]
  },
  {
   "cell_type": "code",
   "execution_count": null,
   "metadata": {},
   "outputs": [],
   "source": [
    "# Show A, b after training\n",
    "model.fc.weight, model.fc.bias"
   ]
  },
  {
   "cell_type": "markdown",
   "metadata": {},
   "source": [
    "# Use the model for prediction"
   ]
  },
  {
   "cell_type": "code",
   "execution_count": null,
   "metadata": {},
   "outputs": [],
   "source": [
    "model.eval()\n",
    "with torch.no_grad():\n",
    "    x_data = np.linspace(-5, 5, 100)\n",
    "    x_data = torch.tensor(x_data, dtype=torch.float) #  size [100]\n",
    "    x_data = x_data.view(-1, 1) # size [100, 1] (required)\n",
    "    predictions = model(x_data)"
   ]
  },
  {
   "cell_type": "code",
   "execution_count": null,
   "metadata": {},
   "outputs": [],
   "source": [
    "plt.scatter(x, y)\n",
    "plt.plot(x, predictions.numpy(), color='red')"
   ]
  },
  {
   "cell_type": "code",
   "execution_count": null,
   "metadata": {},
   "outputs": [],
   "source": [
    "plt.scatter(x, y)\n",
    "plt.plot(x, predictions.numpy(), color='red')\n",
    "plt.plot(x, a*x + b, color='green') # a = 0.5, b = -0.8"
   ]
  },
  {
   "cell_type": "code",
   "execution_count": null,
   "metadata": {},
   "outputs": [],
   "source": []
  }
 ],
 "metadata": {
  "kernelspec": {
   "display_name": "Python 3",
   "language": "python",
   "name": "python3"
  },
  "language_info": {
   "codemirror_mode": {
    "name": "ipython",
    "version": 3
   },
   "file_extension": ".py",
   "mimetype": "text/x-python",
   "name": "python",
   "nbconvert_exporter": "python",
   "pygments_lexer": "ipython3",
   "version": "3.7.4"
  }
 },
 "nbformat": 4,
 "nbformat_minor": 4
}
