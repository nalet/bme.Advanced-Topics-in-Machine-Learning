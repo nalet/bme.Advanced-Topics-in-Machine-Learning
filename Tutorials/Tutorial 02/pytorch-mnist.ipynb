{
 "cells": [
  {
   "cell_type": "markdown",
   "metadata": {},
   "source": [
    "# Linear model\n",
    "We'll train a linear model for images of 10 digits  \n",
    "$ f(x) = x * A + b $ - **find a function that maps image x to 10 scores**  \n",
    "Assuming images 28x28x1 (grayscale), $x$ has dimensionality $28*28 = 784$  \n",
    "$ x \\in R^{1x784} $  - image  \n",
    "$ f(x) \\in R^{1x10} $  - scores for each digit  \n",
    "$ A \\in R^{784x10} $  - linear transformation  \n",
    "$ b \\in R^{1x10} $ -  bias term"
   ]
  },
  {
   "cell_type": "markdown",
   "metadata": {},
   "source": [
    "We want to find **A, b** that will assign a **high score** to the correct digit.  \n",
    "A score for digit $i$:  \n",
    "$x * A_{:,i} + b_i = \\sum_{j=1}^{784}x_j*A_{j,i} + b_i$ - *weighted sum of pixels*"
   ]
  },
  {
   "cell_type": "markdown",
   "metadata": {},
   "source": [
    "# PyTorch datasets\n",
    "Default implementations available: https://pytorch.org/docs/stable/data.html  \n",
    "For images: https://pytorch.org/docs/stable/torchvision/datasets.html#imagefolder  \n",
    "**Dataset** must implement __getitem__(index) (returns indexed element) and __len__() (returns number of elements)  \n",
    "Some datasets have an interface ready in `torchvision` package and are downloaded automatically"
   ]
  },
  {
   "cell_type": "markdown",
   "metadata": {},
   "source": [
    "<img src=\"https://camo.githubusercontent.com/d440ac2eee1cb3ea33340a2c5f6f15a0878e9275/687474703a2f2f692e7974696d672e636f6d2f76692f3051493378675875422d512f687164656661756c742e6a7067\">"
   ]
  },
  {
   "cell_type": "code",
   "execution_count": null,
   "metadata": {},
   "outputs": [],
   "source": [
    "import torch\n",
    "device = torch.device('cuda' if torch.cuda.is_available() else 'cpu')"
   ]
  },
  {
   "cell_type": "markdown",
   "metadata": {},
   "source": [
    "**MNIST** dataset ready in https://pytorch.org/docs/stable/torchvision/datasets.html#mnist"
   ]
  },
  {
   "cell_type": "code",
   "execution_count": null,
   "metadata": {},
   "outputs": [],
   "source": [
    "from torchvision.datasets import MNIST\n",
    "# Create MNIST dataset\n",
    "root_dir = '../mnist'\n",
    "dataset = MNIST(root_dir, train=True, download=True)"
   ]
  },
  {
   "cell_type": "code",
   "execution_count": null,
   "metadata": {},
   "outputs": [],
   "source": [
    "print(len(dataset))"
   ]
  },
  {
   "cell_type": "code",
   "execution_count": null,
   "metadata": {},
   "outputs": [],
   "source": [
    "# Show elements of dataset\n",
    "image, label = dataset[0]\n",
    "print(image)\n",
    "print(label)"
   ]
  },
  {
   "cell_type": "code",
   "execution_count": null,
   "metadata": {},
   "outputs": [],
   "source": [
    "# Create MNIST dataset that transforms images to Tensors\n",
    "from torchvision.transforms import ToTensor, Normalize, Compose\n",
    "transforms = Compose([\n",
    "    ToTensor(),\n",
    "    Normalize(mean=(0.5,), std=(0.5,))\n",
    "])\n",
    "dataset = MNIST(root_dir, train=True, download=True, transform=transforms)"
   ]
  },
  {
   "cell_type": "code",
   "execution_count": null,
   "metadata": {},
   "outputs": [],
   "source": [
    "# Show elements of dataset\n",
    "image, label = dataset[0]\n",
    "print(image.size())\n",
    "label"
   ]
  },
  {
   "cell_type": "markdown",
   "metadata": {},
   "source": [
    "**DataLoader** objects provide a way to efficiently iterate over datasets https://pytorch.org/docs/stable/data.html"
   ]
  },
  {
   "cell_type": "code",
   "execution_count": null,
   "metadata": {},
   "outputs": [],
   "source": [
    "from torch.utils.data import DataLoader\n",
    "dataloader = DataLoader(dataset, batch_size=32, shuffle=True, num_workers=4) #num_workers = n - how many threads in background for efficient loading"
   ]
  },
  {
   "cell_type": "code",
   "execution_count": null,
   "metadata": {},
   "outputs": [],
   "source": [
    "#We can iterate over the dataset\n",
    "for xs, ys in dataloader:\n",
    "    print(xs.size(), ys.size())\n",
    "    print(ys)\n",
    "    break"
   ]
  },
  {
   "cell_type": "markdown",
   "metadata": {},
   "source": [
    "## PyTorch models\n",
    "Pytorch models are defined as **Module** objects that need to have a **forward** method implemented that applies transformations (neural network layers) on data. https://pytorch.org/docs/stable/nn.html"
   ]
  },
  {
   "cell_type": "code",
   "execution_count": null,
   "metadata": {},
   "outputs": [],
   "source": [
    "import torch.nn as nn\n",
    "class LinearModel(nn.Module):\n",
    "    \n",
    "    def __init__(self, input_dim, n_classes):\n",
    "        super(LinearModel, self).__init__()\n",
    "        self.fc = nn.Linear(input_dim, n_classes)\n",
    "        \n",
    "    def forward(self, x):\n",
    "        # Apply linear transform to flattened image\n",
    "        # x - batch of images Nx1x28x28\n",
    "        x = x.view(x.size(0), 784)\n",
    "        out = self.fc(x)\n",
    "        return out"
   ]
  },
  {
   "cell_type": "code",
   "execution_count": null,
   "metadata": {},
   "outputs": [],
   "source": [
    "# Create model\n",
    "model = LinearModel(input_dim=784, n_classes=10)\n",
    "model = model.to(device)"
   ]
  },
  {
   "cell_type": "code",
   "execution_count": null,
   "metadata": {},
   "outputs": [],
   "source": [
    "from utils import train\n",
    "train(dataloader, model, n_epochs=50, device=device)"
   ]
  },
  {
   "cell_type": "code",
   "execution_count": null,
   "metadata": {},
   "outputs": [],
   "source": [
    "# torch.save(model.state_dict(), 'model_tmp.ckpt')\n",
    "# model.load_state_dict(torch.load('model.ckpt'))"
   ]
  },
  {
   "cell_type": "code",
   "execution_count": null,
   "metadata": {},
   "outputs": [],
   "source": [
    "# Create test dataset and test data loader\n",
    "test_dataset = MNIST(root_dir, train=False, download=True, transform=transforms)\n",
    "test_dataloader = DataLoader(test_dataset, batch_size=32, shuffle=False, num_workers=4)"
   ]
  },
  {
   "cell_type": "code",
   "execution_count": null,
   "metadata": {},
   "outputs": [],
   "source": [
    "# Write function predict(dataloader, model) that will return predictions and labels for the entire dataset\n",
    "def predict(dataloader, model):\n",
    "    model.eval()\n",
    "    with torch.no_grad():\n",
    "        predictions = []\n",
    "        labels = []\n",
    "        for data, target in dataloader:\n",
    "            data = data.to(device)\n",
    "            output = model(data)\n",
    "            prediction = output.cpu().numpy().argmax(1)\n",
    "            predictions.extend(prediction)\n",
    "            labels.extend(target.numpy())\n",
    "    predictions = np.array(predictions)\n",
    "    labels = np.array(labels)\n",
    "    return predictions, labels"
   ]
  },
  {
   "cell_type": "code",
   "execution_count": null,
   "metadata": {},
   "outputs": [],
   "source": [
    "# Evaluate accuracy on test set and train set\n",
    "import numpy as np\n",
    "predictions, labels = predict(test_dataloader, model)"
   ]
  },
  {
   "cell_type": "code",
   "execution_count": null,
   "metadata": {},
   "outputs": [],
   "source": [
    "accuracy = 100 * (np.sum(predictions==labels) / len(labels))\n",
    "print('Test accuracy: {:.2f}%'.format(accuracy))"
   ]
  },
  {
   "cell_type": "code",
   "execution_count": null,
   "metadata": {},
   "outputs": [],
   "source": [
    "predictions, labels = predict(dataloader, model)\n",
    "accuracy = 100 * (np.sum(predictions==labels) / len(labels))\n",
    "print('Train accuracy: {:.2f}%'.format(accuracy))"
   ]
  },
  {
   "cell_type": "code",
   "execution_count": null,
   "metadata": {},
   "outputs": [],
   "source": [
    "# Visualize learned weights\n",
    "digit_weights = []\n",
    "for i in range(10):\n",
    "    digit_weight = model.fc.weight[i].view(28, 28).detach().cpu().numpy()\n",
    "    digit_weight = digit_weight - digit_weight.min()\n",
    "    digit_weight = digit_weight / digit_weight.max() # it's in [0; 1] now\n",
    "    digit_weights.append(digit_weight)"
   ]
  },
  {
   "cell_type": "code",
   "execution_count": null,
   "metadata": {},
   "outputs": [],
   "source": [
    "%matplotlib inline\n",
    "import matplotlib.pyplot as plt"
   ]
  },
  {
   "cell_type": "code",
   "execution_count": null,
   "metadata": {},
   "outputs": [],
   "source": [
    "for i in range(10):\n",
    "    plt.figure()\n",
    "    plt.imshow(digit_weights[i], cmap='gray')"
   ]
  },
  {
   "cell_type": "code",
   "execution_count": null,
   "metadata": {},
   "outputs": [],
   "source": [
    "# Show an image and prediction \n",
    "img = (test_dataset[0][0] * 0.5 + 0.5).numpy()[0]"
   ]
  },
  {
   "cell_type": "code",
   "execution_count": null,
   "metadata": {},
   "outputs": [],
   "source": [
    "plt.imshow(img, cmap='gray')"
   ]
  },
  {
   "cell_type": "code",
   "execution_count": null,
   "metadata": {},
   "outputs": [],
   "source": [
    "output = model(test_dataset[0][0].to(device))\n",
    "print(output)"
   ]
  },
  {
   "cell_type": "code",
   "execution_count": null,
   "metadata": {},
   "outputs": [],
   "source": [
    "print(output.argmax())"
   ]
  },
  {
   "cell_type": "code",
   "execution_count": null,
   "metadata": {},
   "outputs": [],
   "source": []
  }
 ],
 "metadata": {
  "kernelspec": {
   "display_name": "Python 3",
   "language": "python",
   "name": "python3"
  },
  "language_info": {
   "codemirror_mode": {
    "name": "ipython",
    "version": 3
   },
   "file_extension": ".py",
   "mimetype": "text/x-python",
   "name": "python",
   "nbconvert_exporter": "python",
   "pygments_lexer": "ipython3",
   "version": "3.7.4"
  }
 },
 "nbformat": 4,
 "nbformat_minor": 4
}
