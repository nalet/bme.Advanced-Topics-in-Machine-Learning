{
 "cells": [
  {
   "cell_type": "markdown",
   "metadata": {},
   "source": [
    "# Tutorial 07 - Convolutional Neural Networks\n",
    "\n",
    "## Cats vs Dogs\n",
    "Dataset can be downloaded from http://files.fast.ai/data/dogscats.zip  \n",
    "Classification to 2 classes  \n",
    "Basic setup as before:"
   ]
  },
  {
   "cell_type": "code",
   "execution_count": 1,
   "metadata": {},
   "outputs": [
    {
     "name": "stdout",
     "output_type": "stream",
     "text": [
      "Device: True Count: 1\n"
     ]
    }
   ],
   "source": [
    "import numpy as np\n",
    "import torch\n",
    "import torch.nn as nn\n",
    "device = torch.device('cuda' if torch.cuda.is_available() else 'cpu')\n",
    "print(\"Device: \" + str(torch.cuda.is_available()) + \" Count: \" + str(torch.cuda.device_count()))"
   ]
  },
  {
   "cell_type": "code",
   "execution_count": 2,
   "metadata": {},
   "outputs": [],
   "source": [
    "from torchvision.datasets import ImageFolder\n",
    "from torchvision.transforms import Resize, ToTensor, Normalize, Compose\n",
    "root_dir = '../data/dogscats/train'\n",
    "\n",
    "target_size = (32, 32)\n",
    "transforms = Compose([Resize(target_size), # Resizes image\n",
    "                    ToTensor(),           # Converts to Tensor, scales to [0, 1] float (from [0, 255] int)\n",
    "                    Normalize(mean=(0.5, 0.5, 0.5,), std=(0.5, 0.5, 0.5)), # scales to [-1.0, 1.0]\n",
    "                    ])\n",
    "\n",
    "train_dataset = ImageFolder(root_dir, transform=transforms)"
   ]
  },
  {
   "cell_type": "code",
   "execution_count": 3,
   "metadata": {},
   "outputs": [
    {
     "data": {
      "text/plain": [
       "23000"
      ]
     },
     "execution_count": 3,
     "metadata": {},
     "output_type": "execute_result"
    }
   ],
   "source": [
    "len(train_dataset)"
   ]
  },
  {
   "cell_type": "code",
   "execution_count": 4,
   "metadata": {},
   "outputs": [],
   "source": [
    "from torch.utils.data import DataLoader\n",
    "batch_size = 32\n",
    "train_dataloader = DataLoader(train_dataset, batch_size=batch_size, shuffle=True, num_workers=32)"
   ]
  },
  {
   "cell_type": "code",
   "execution_count": 5,
   "metadata": {},
   "outputs": [
    {
     "name": "stdout",
     "output_type": "stream",
     "text": [
      "2000\n"
     ]
    }
   ],
   "source": [
    "# Same for validation dataset\n",
    "val_root_dir = '../data/dogscats/valid'\n",
    "val_dataset = ImageFolder(val_root_dir, transform=transforms)\n",
    "val_dataloader = DataLoader(val_dataset, batch_size=batch_size, shuffle=False, num_workers=4)\n",
    "print(len(val_dataset))"
   ]
  },
  {
   "cell_type": "markdown",
   "metadata": {},
   "source": [
    "print(len(val_dataset))"
   ]
  },
  {
   "cell_type": "markdown",
   "metadata": {},
   "source": [
    "# Baseline - MLP model\n",
    "### We will compare MLP and ConvNets in terms of accuracy, number of parameters, etc."
   ]
  },
  {
   "cell_type": "markdown",
   "metadata": {},
   "source": [
    "from utils_train import fit"
   ]
  },
  {
   "cell_type": "code",
   "execution_count": 6,
   "metadata": {},
   "outputs": [],
   "source": [
    "from utils_train import fit\n",
    "class MLPModel(nn.Module):\n",
    "    \n",
    "    def __init__(self, input_dim, hidden_dim):\n",
    "        super(MLPModel, self).__init__()\n",
    "        self.layers = nn.Sequential(\n",
    "            nn.Linear(input_dim, hidden_dim),\n",
    "            nn.ReLU(),\n",
    "            nn.Linear(hidden_dim, hidden_dim),\n",
    "            nn.ReLU(),\n",
    "            nn.Linear(hidden_dim, hidden_dim),\n",
    "            nn.ReLU(),\n",
    "            nn.Linear(hidden_dim, 2)\n",
    "        )\n",
    "    \n",
    "    def forward(self, input):\n",
    "        input = input.view(input.size(0), -1)\n",
    "        return self.layers(input)"
   ]
  },
  {
   "cell_type": "code",
   "execution_count": 7,
   "metadata": {},
   "outputs": [],
   "source": [
    "model_mlp = MLPModel(32*32*3, 128)\n",
    "model_mlp = model_mlp.to(device)\n",
    "learning_rate = 0.001\n",
    "optimizer = torch.optim.Adam(model_mlp.parameters(), lr=learning_rate)\n",
    "n_epochs = 5\n",
    "loss_fn = nn.CrossEntropyLoss()"
   ]
  },
  {
   "cell_type": "code",
   "execution_count": 8,
   "metadata": {},
   "outputs": [
    {
     "name": "stdout",
     "output_type": "stream",
     "text": [
      "Training iteration 0: loss 0.6935\n",
      "Training iteration 100: loss 0.6838\n",
      "Training iteration 200: loss 0.6508\n",
      "Training iteration 300: loss 0.6335\n",
      "Training iteration 400: loss 0.6071\n",
      "Training iteration 500: loss 0.5839\n",
      "Training iteration 600: loss 0.7087\n",
      "Training iteration 700: loss 0.6009\n",
      "Test average loss: 0.6390, accuracy: 63.050\n",
      "Epoch 1/5: train_loss: 0.6524, train_accuracy: 60.9087, val_loss: 0.6390, val_accuracy: 63.0500\n",
      "Training iteration 0: loss 0.6596\n",
      "Training iteration 100: loss 0.5686\n",
      "Training iteration 200: loss 0.7198\n",
      "Training iteration 300: loss 0.6781\n",
      "Training iteration 400: loss 0.6163\n",
      "Training iteration 500: loss 0.6226\n",
      "Training iteration 600: loss 0.6632\n",
      "Training iteration 700: loss 0.6022\n",
      "Test average loss: 0.6253, accuracy: 65.100\n",
      "Epoch 2/5: train_loss: 0.6219, train_accuracy: 65.2087, val_loss: 0.6253, val_accuracy: 65.1000\n",
      "Training iteration 0: loss 0.6503\n",
      "Training iteration 100: loss 0.4985\n",
      "Training iteration 200: loss 0.6515\n",
      "Training iteration 300: loss 0.6347\n",
      "Training iteration 400: loss 0.6234\n",
      "Training iteration 500: loss 0.5692\n",
      "Training iteration 600: loss 0.6147\n",
      "Training iteration 700: loss 0.5923\n",
      "Test average loss: 0.6162, accuracy: 65.450\n",
      "Epoch 3/5: train_loss: 0.5993, train_accuracy: 66.9870, val_loss: 0.6162, val_accuracy: 65.4500\n",
      "Training iteration 0: loss 0.6673\n",
      "Training iteration 100: loss 0.6772\n",
      "Training iteration 200: loss 0.5270\n",
      "Training iteration 300: loss 0.7821\n",
      "Training iteration 400: loss 0.7005\n",
      "Training iteration 500: loss 0.5678\n",
      "Training iteration 600: loss 0.6340\n",
      "Training iteration 700: loss 0.6017\n",
      "Test average loss: 0.6130, accuracy: 66.050\n",
      "Epoch 4/5: train_loss: 0.5813, train_accuracy: 68.6565, val_loss: 0.6130, val_accuracy: 66.0500\n",
      "Training iteration 0: loss 0.5891\n",
      "Training iteration 100: loss 0.6035\n",
      "Training iteration 200: loss 0.5049\n",
      "Training iteration 300: loss 0.4948\n",
      "Training iteration 400: loss 0.5260\n",
      "Training iteration 500: loss 0.5255\n",
      "Training iteration 600: loss 0.5530\n",
      "Training iteration 700: loss 0.5138\n",
      "Test average loss: 0.6185, accuracy: 66.000\n",
      "Epoch 5/5: train_loss: 0.5601, train_accuracy: 70.4957, val_loss: 0.6185, val_accuracy: 66.0000\n"
     ]
    }
   ],
   "source": [
    "curves_mlp = fit(train_dataloader, val_dataloader, model_mlp, optimizer, loss_fn, n_epochs)"
   ]
  },
  {
   "cell_type": "markdown",
   "metadata": {},
   "source": [
    "### With some regularization the best accuracy we got before for this MLP model was ~68%"
   ]
  },
  {
   "cell_type": "markdown",
   "metadata": {},
   "source": [
    "## Convolutional Neural Network\n",
    "### Two convolutions with Max Pooling, followed by linear layer on flattened feature maps"
   ]
  },
  {
   "cell_type": "code",
   "execution_count": 9,
   "metadata": {},
   "outputs": [],
   "source": [
    "import torch.nn as nn\n",
    "    \n",
    "class ConvModel(nn.Module):\n",
    "    \n",
    "    def __init__(self):\n",
    "        super(ConvModel, self).__init__()\n",
    "        self.conv_layers = nn.Sequential(\n",
    "            # input size: 3x32x32\n",
    "            nn.Conv2d(in_channels=3, out_channels=16, kernel_size=5, stride=1, padding=0),\n",
    "            # output: 16x28x28 (because kernel_size=5 and no padding)\n",
    "            nn.ReLU(),\n",
    "            nn.MaxPool2d(kernel_size=2, stride=2),\n",
    "            # output: 16x14x14\n",
    "            nn.Conv2d(in_channels=16, out_channels=32, kernel_size=5, stride=1, padding=0),\n",
    "            nn.ReLU(),\n",
    "            # output: 32x10x10\n",
    "            nn.MaxPool2d(kernel_size=2, stride=2),\n",
    "            # output: 32x5x5\n",
    "        )\n",
    "        self.linear_layer = nn.Linear(32*5*5, 2) # map output of conv layers to number of outputs (2 classes in this case)\n",
    "    \n",
    "    def forward(self, input):\n",
    "        output = self.conv_layers(input) # NO FLATTENING HERE, expected input is of dimension batch_size x n_channels x im_height x im_width\n",
    "        output = output.view(output.size(0), 32*5*5) # Flatten to a vector before passing to a linear layer\n",
    "        output = self.linear_layer(output)\n",
    "        return output"
   ]
  },
  {
   "cell_type": "code",
   "execution_count": 10,
   "metadata": {},
   "outputs": [],
   "source": [
    "model_conv = ConvModel()\n",
    "model_conv = model_conv.to(device)\n",
    "learning_rate = 0.001\n",
    "optimizer = torch.optim.Adam(model_conv.parameters(), lr=learning_rate)\n",
    "n_epochs = 5\n",
    "loss_fn = nn.CrossEntropyLoss()"
   ]
  },
  {
   "cell_type": "code",
   "execution_count": 11,
   "metadata": {},
   "outputs": [
    {
     "name": "stdout",
     "output_type": "stream",
     "text": [
      "Training iteration 0: loss 0.6749\n",
      "Training iteration 100: loss 0.7006\n",
      "Training iteration 200: loss 0.6627\n",
      "Training iteration 300: loss 0.8456\n",
      "Training iteration 400: loss 0.6046\n",
      "Training iteration 500: loss 0.7996\n",
      "Training iteration 600: loss 0.5690\n",
      "Training iteration 700: loss 0.5284\n",
      "Test average loss: 0.5708, accuracy: 71.000\n",
      "Epoch 1/5: train_loss: 0.6237, train_accuracy: 64.7348, val_loss: 0.5708, val_accuracy: 71.0000\n",
      "Training iteration 0: loss 0.5248\n",
      "Training iteration 100: loss 0.5907\n",
      "Training iteration 200: loss 0.4593\n",
      "Training iteration 300: loss 0.6713\n",
      "Training iteration 400: loss 0.5403\n",
      "Training iteration 500: loss 0.4888\n",
      "Training iteration 600: loss 0.6069\n",
      "Training iteration 700: loss 0.5217\n",
      "Test average loss: 0.5331, accuracy: 74.450\n",
      "Epoch 2/5: train_loss: 0.5447, train_accuracy: 72.6739, val_loss: 0.5331, val_accuracy: 74.4500\n",
      "Training iteration 0: loss 0.4964\n",
      "Training iteration 100: loss 0.4939\n",
      "Training iteration 200: loss 0.6276\n",
      "Training iteration 300: loss 0.6737\n",
      "Training iteration 400: loss 0.4316\n",
      "Training iteration 500: loss 0.5771\n",
      "Training iteration 600: loss 0.3559\n",
      "Training iteration 700: loss 0.4459\n",
      "Test average loss: 0.5010, accuracy: 75.200\n",
      "Epoch 3/5: train_loss: 0.5036, train_accuracy: 75.7130, val_loss: 0.5010, val_accuracy: 75.2000\n",
      "Training iteration 0: loss 0.3925\n",
      "Training iteration 100: loss 0.5745\n",
      "Training iteration 200: loss 0.3562\n",
      "Training iteration 300: loss 0.3799\n",
      "Training iteration 400: loss 0.4276\n",
      "Training iteration 500: loss 0.4829\n",
      "Training iteration 600: loss 0.5746\n",
      "Training iteration 700: loss 0.5862\n",
      "Test average loss: 0.4769, accuracy: 77.250\n",
      "Epoch 4/5: train_loss: 0.4719, train_accuracy: 77.7522, val_loss: 0.4769, val_accuracy: 77.2500\n",
      "Training iteration 0: loss 0.4617\n",
      "Training iteration 100: loss 0.4206\n",
      "Training iteration 200: loss 0.5420\n",
      "Training iteration 300: loss 0.4284\n",
      "Training iteration 400: loss 0.4951\n",
      "Training iteration 500: loss 0.3362\n",
      "Training iteration 600: loss 0.4308\n",
      "Training iteration 700: loss 0.4196\n",
      "Test average loss: 0.4591, accuracy: 78.200\n",
      "Epoch 5/5: train_loss: 0.4502, train_accuracy: 78.9696, val_loss: 0.4591, val_accuracy: 78.2000\n"
     ]
    }
   ],
   "source": [
    "curves_conv1 = fit(train_dataloader, val_dataloader, model_conv, optimizer, loss_fn, n_epochs)"
   ]
  },
  {
   "cell_type": "code",
   "execution_count": 12,
   "metadata": {},
   "outputs": [],
   "source": [
    "import torch.nn as nn\n",
    "    \n",
    "class ConvModel2(nn.Module):\n",
    "    \n",
    "    def __init__(self):\n",
    "        super(ConvModel2, self).__init__()\n",
    "        self.conv_layers = nn.Sequential(\n",
    "            # input size: 3x32x32\n",
    "            nn.Conv2d(in_channels=3, out_channels=16, kernel_size=5, stride=1, padding=0),\n",
    "            # output: 16x28x28 (because kernel_size=5 and no padding)\n",
    "            nn.ReLU(),\n",
    "            nn.MaxPool2d(kernel_size=2, stride=2),\n",
    "            # output: 16x14x14\n",
    "            nn.Conv2d(in_channels=16, out_channels=32, kernel_size=5, stride=1, padding=0),\n",
    "            nn.ReLU(),\n",
    "            # output: 32x10x10\n",
    "            nn.MaxPool2d(kernel_size=2, stride=2),\n",
    "            # output: 32x5x5\n",
    "            nn.AvgPool2d(kernel_size=5, stride=5) # alternatively: AdaptiveAvgPool(1)\n",
    "        )\n",
    "        self.linear_layer = nn.Linear(32, 2)\n",
    "    \n",
    "    def forward(self, input):\n",
    "        output = self.conv_layers(input)\n",
    "        output = output.view(output.size(0), 32)\n",
    "        output = self.linear_layer(output)\n",
    "        return output"
   ]
  },
  {
   "cell_type": "code",
   "execution_count": 13,
   "metadata": {},
   "outputs": [],
   "source": [
    "model_conv2 = ConvModel2()\n",
    "model_conv2 = model_conv2.to(device)\n",
    "learning_rate = 0.001\n",
    "optimizer = torch.optim.Adam(model_conv2.parameters(), lr=learning_rate)\n",
    "n_epochs = 5\n",
    "loss_fn = nn.CrossEntropyLoss()"
   ]
  },
  {
   "cell_type": "code",
   "execution_count": 14,
   "metadata": {},
   "outputs": [
    {
     "name": "stdout",
     "output_type": "stream",
     "text": [
      "Training iteration 0: loss 0.7061\n",
      "Training iteration 100: loss 0.6418\n",
      "Training iteration 200: loss 0.6376\n",
      "Training iteration 300: loss 0.5289\n",
      "Training iteration 400: loss 0.6476\n",
      "Training iteration 500: loss 0.6065\n",
      "Training iteration 600: loss 0.6319\n",
      "Training iteration 700: loss 0.6235\n",
      "Test average loss: 0.6268, accuracy: 65.200\n",
      "Epoch 1/5: train_loss: 0.6592, train_accuracy: 60.7522, val_loss: 0.6268, val_accuracy: 65.2000\n",
      "Training iteration 0: loss 0.5987\n",
      "Training iteration 100: loss 0.6398\n",
      "Training iteration 200: loss 0.7438\n",
      "Training iteration 300: loss 0.5894\n",
      "Training iteration 400: loss 0.6454\n",
      "Training iteration 500: loss 0.5894\n",
      "Training iteration 600: loss 0.4880\n",
      "Training iteration 700: loss 0.5322\n",
      "Test average loss: 0.5933, accuracy: 69.200\n",
      "Epoch 2/5: train_loss: 0.6138, train_accuracy: 66.2087, val_loss: 0.5933, val_accuracy: 69.2000\n",
      "Training iteration 0: loss 0.5206\n",
      "Training iteration 100: loss 0.6212\n",
      "Training iteration 200: loss 0.5605\n",
      "Training iteration 300: loss 0.5291\n",
      "Training iteration 400: loss 0.6198\n",
      "Training iteration 500: loss 0.6187\n",
      "Training iteration 600: loss 0.5776\n",
      "Training iteration 700: loss 0.5805\n",
      "Test average loss: 0.5739, accuracy: 71.650\n",
      "Epoch 3/5: train_loss: 0.5858, train_accuracy: 69.0348, val_loss: 0.5739, val_accuracy: 71.6500\n",
      "Training iteration 0: loss 0.5655\n",
      "Training iteration 100: loss 0.5741\n",
      "Training iteration 200: loss 0.5722\n",
      "Training iteration 300: loss 0.4822\n",
      "Training iteration 400: loss 0.6463\n",
      "Training iteration 500: loss 0.5576\n",
      "Training iteration 600: loss 0.5109\n",
      "Training iteration 700: loss 0.5361\n",
      "Test average loss: 0.6010, accuracy: 67.350\n",
      "Epoch 4/5: train_loss: 0.5644, train_accuracy: 71.3652, val_loss: 0.6010, val_accuracy: 67.3500\n",
      "Training iteration 0: loss 0.4701\n",
      "Training iteration 100: loss 0.5884\n",
      "Training iteration 200: loss 0.7084\n",
      "Training iteration 300: loss 0.5033\n",
      "Training iteration 400: loss 0.5092\n",
      "Training iteration 500: loss 0.4311\n",
      "Training iteration 600: loss 0.4332\n",
      "Training iteration 700: loss 0.4431\n",
      "Test average loss: 0.5743, accuracy: 70.100\n",
      "Epoch 5/5: train_loss: 0.5505, train_accuracy: 72.2652, val_loss: 0.5743, val_accuracy: 70.1000\n"
     ]
    }
   ],
   "source": [
    "curves_conv2 = fit(train_dataloader, val_dataloader, model_conv2, optimizer, loss_fn, n_epochs)"
   ]
  },
  {
   "cell_type": "markdown",
   "metadata": {},
   "source": [
    "# Compare number of parameters"
   ]
  },
  {
   "cell_type": "code",
   "execution_count": 15,
   "metadata": {},
   "outputs": [],
   "source": [
    "def count_parameters(model):\n",
    "    return sum(p.numel() for p in model.parameters() if p.requires_grad)"
   ]
  },
  {
   "cell_type": "code",
   "execution_count": 16,
   "metadata": {},
   "outputs": [
    {
     "name": "stdout",
     "output_type": "stream",
     "text": [
      "MLP: 426626 parameters\n",
      "ConvNet1: 15650 parameters\n",
      "ConvNet2: 14114 parameters\n"
     ]
    }
   ],
   "source": [
    "print('MLP: {} parameters'.format(count_parameters(model_mlp)))\n",
    "print('ConvNet1: {} parameters'.format(count_parameters(model_conv)))\n",
    "print('ConvNet2: {} parameters'.format(count_parameters(model_conv2)))"
   ]
  },
  {
   "cell_type": "markdown",
   "metadata": {},
   "source": [
    "__Model MLP__:\n",
    "- 1st layer: (32 * 32 * 3)*128 + 128 (biases) __// input size dependant, 92% of parameters!__\n",
    "- 2nd layer: 128 * 128 + 128\n",
    "- 3rd layer: 128 * 128 + 128\n",
    "- 4th layer: 128 * 2 + 2\n",
    "\n",
    "__Model ConvNet1__:\n",
    "- 1st layer (conv): 16 * 3 * 5 * 5 + 16 (biases)\n",
    "- 2nd layer (conv): 32 * 16 * 5 * 5 + 32\n",
    "- 3rd layer (linear): (32 * 5 * 5) * 2 + 2 __// input size dependant__ <- can grow very big for bigger input size and large number of filters\n",
    "\n",
    "__Model ConvNet2__:\n",
    "- 1st layer (conv): 16 * 3 * 5 * 5 + 16 (biases)\n",
    "- 2nd layer (conv): 32 * 16 * 5 * 5 + 32\n",
    "- 3rd layer (linear): 32 * 2 + 2  \n",
    "^ Independent of input size (average pool must be set accordingly)"
   ]
  },
  {
   "cell_type": "markdown",
   "metadata": {},
   "source": [
    "# First conv layer filter visualization\n",
    "## What does the network look for in the raw image?"
   ]
  },
  {
   "cell_type": "code",
   "execution_count": 17,
   "metadata": {},
   "outputs": [],
   "source": [
    "%matplotlib inline\n",
    "import matplotlib.pyplot as plt"
   ]
  },
  {
   "cell_type": "markdown",
   "metadata": {},
   "source": [
    "### Example: AlexNet, trained on ImageNet dataset (>1 million images, 1000 classes) https://github.com/pytorch/vision/blob/master/torchvision/models/alexnet.py"
   ]
  },
  {
   "cell_type": "code",
   "execution_count": 18,
   "metadata": {},
   "outputs": [
    {
     "name": "stderr",
     "output_type": "stream",
     "text": [
      "Downloading: \"https://download.pytorch.org/models/alexnet-owt-4df8aa71.pth\" to C:\\Users\\nalet/.cache\\torch\\checkpoints\\alexnet-owt-4df8aa71.pth\n"
     ]
    },
    {
     "data": {
      "application/vnd.jupyter.widget-view+json": {
       "model_id": "92f0eb63fd42462d8731da7e0cd27edc",
       "version_major": 2,
       "version_minor": 0
      },
      "text/plain": [
       "HBox(children=(FloatProgress(value=0.0, max=244418560.0), HTML(value='')))"
      ]
     },
     "metadata": {},
     "output_type": "display_data"
    },
    {
     "name": "stdout",
     "output_type": "stream",
     "text": [
      "\n"
     ]
    }
   ],
   "source": [
    "import torchvision\n",
    "alexnet = torchvision.models.alexnet(pretrained=True)"
   ]
  },
  {
   "cell_type": "code",
   "execution_count": 19,
   "metadata": {},
   "outputs": [
    {
     "data": {
      "text/plain": [
       "AlexNet(\n",
       "  (features): Sequential(\n",
       "    (0): Conv2d(3, 64, kernel_size=(11, 11), stride=(4, 4), padding=(2, 2))\n",
       "    (1): ReLU(inplace=True)\n",
       "    (2): MaxPool2d(kernel_size=3, stride=2, padding=0, dilation=1, ceil_mode=False)\n",
       "    (3): Conv2d(64, 192, kernel_size=(5, 5), stride=(1, 1), padding=(2, 2))\n",
       "    (4): ReLU(inplace=True)\n",
       "    (5): MaxPool2d(kernel_size=3, stride=2, padding=0, dilation=1, ceil_mode=False)\n",
       "    (6): Conv2d(192, 384, kernel_size=(3, 3), stride=(1, 1), padding=(1, 1))\n",
       "    (7): ReLU(inplace=True)\n",
       "    (8): Conv2d(384, 256, kernel_size=(3, 3), stride=(1, 1), padding=(1, 1))\n",
       "    (9): ReLU(inplace=True)\n",
       "    (10): Conv2d(256, 256, kernel_size=(3, 3), stride=(1, 1), padding=(1, 1))\n",
       "    (11): ReLU(inplace=True)\n",
       "    (12): MaxPool2d(kernel_size=3, stride=2, padding=0, dilation=1, ceil_mode=False)\n",
       "  )\n",
       "  (avgpool): AdaptiveAvgPool2d(output_size=(6, 6))\n",
       "  (classifier): Sequential(\n",
       "    (0): Dropout(p=0.5, inplace=False)\n",
       "    (1): Linear(in_features=9216, out_features=4096, bias=True)\n",
       "    (2): ReLU(inplace=True)\n",
       "    (3): Dropout(p=0.5, inplace=False)\n",
       "    (4): Linear(in_features=4096, out_features=4096, bias=True)\n",
       "    (5): ReLU(inplace=True)\n",
       "    (6): Linear(in_features=4096, out_features=1000, bias=True)\n",
       "  )\n",
       ")"
      ]
     },
     "execution_count": 19,
     "metadata": {},
     "output_type": "execute_result"
    }
   ],
   "source": [
    "alexnet"
   ]
  },
  {
   "cell_type": "code",
   "execution_count": 20,
   "metadata": {},
   "outputs": [],
   "source": [
    "filters = alexnet.features[0].weight.detach().cpu().numpy()"
   ]
  },
  {
   "cell_type": "code",
   "execution_count": 21,
   "metadata": {},
   "outputs": [
    {
     "data": {
      "text/plain": [
       "(64, 3, 11, 11)"
      ]
     },
     "execution_count": 21,
     "metadata": {},
     "output_type": "execute_result"
    }
   ],
   "source": [
    "filters.shape"
   ]
  },
  {
   "cell_type": "code",
   "execution_count": 22,
   "metadata": {},
   "outputs": [],
   "source": [
    "filters = filters.transpose(0, 2, 3, 1)"
   ]
  },
  {
   "cell_type": "code",
   "execution_count": 23,
   "metadata": {},
   "outputs": [],
   "source": [
    "filters_ = filters.copy()"
   ]
  },
  {
   "cell_type": "code",
   "execution_count": 24,
   "metadata": {},
   "outputs": [],
   "source": [
    "for i in range(len(filters_)):\n",
    "    filters_[i] -= np.min(filters_[i])\n",
    "    filters_[i] /= np.max(filters_[i])"
   ]
  },
  {
   "cell_type": "code",
   "execution_count": 25,
   "metadata": {},
   "outputs": [
    {
     "data": {
      "image/png": "[encoded data removed]",
      "text/plain": [
       "<Figure size 720x720 with 64 Axes>"
      ]
     },
     "metadata": {
      "needs_background": "light"
     },
     "output_type": "display_data"
    }
   ],
   "source": [
    "\n",
    "fig, axes = plt.subplots(8, 8, figsize=(10, 10))\n",
    "for i in range(64):\n",
    "    axes[i // 8][i % 8].imshow(filters_[i], cmap='gray')\n",
    "    axes[i // 8][i % 8].axis('off')"
   ]
  },
  {
   "cell_type": "code",
   "execution_count": null,
   "metadata": {},
   "outputs": [],
   "source": []
  }
 ],
 "metadata": {
  "kernelspec": {
   "display_name": "Python 3",
   "language": "python",
   "name": "python3"
  },
  "language_info": {
   "codemirror_mode": {
    "name": "ipython",
    "version": 3
   },
   "file_extension": ".py",
   "mimetype": "text/x-python",
   "name": "python",
   "nbconvert_exporter": "python",
   "pygments_lexer": "ipython3",
   "version": "3.7.6"
  }
 },
 "nbformat": 4,
 "nbformat_minor": 4
}
