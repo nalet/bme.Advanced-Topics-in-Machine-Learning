{
 "cells": [
  {
   "cell_type": "markdown",
   "metadata": {},
   "source": [
    "# Tutorial 07 - Convolutional Neural Networks\n",
    "\n",
    "## Cats vs Dogs\n",
    "Dataset can be downloaded from http://files.fast.ai/data/dogscats.zip  \n",
    "Classification to 2 classes  \n",
    "Basic setup as before:"
   ]
  },
  {
   "cell_type": "code",
   "execution_count": 1,
   "metadata": {},
   "outputs": [],
   "source": [
    "import numpy as np\n",
    "import torch\n",
    "device = torch.device('cuda' if torch.cuda.is_available() else 'cpu')"
   ]
  },
  {
   "cell_type": "code",
   "execution_count": 2,
   "metadata": {},
   "outputs": [],
   "source": [
    "from torchvision.datasets import ImageFolder\n",
    "from torchvision.transforms import Resize, ToTensor, Normalize, Compose\n",
    "root_dir = '../dogscats/train'\n",
    "\n",
    "target_size = (32, 32)\n",
    "transforms = Compose([Resize(target_size), # Resizes image\n",
    "                    ToTensor(),           # Converts to Tensor, scales to [0, 1] float (from [0, 255] int)\n",
    "                    Normalize(mean=(0.5, 0.5, 0.5,), std=(0.5, 0.5, 0.5)), # scales to [-1.0, 1.0]\n",
    "                    ])\n",
    "\n",
    "train_dataset = ImageFolder(root_dir, transform=transforms)"
   ]
  },
  {
   "cell_type": "code",
   "execution_count": 3,
   "metadata": {},
   "outputs": [
    {
     "data": {
      "text/plain": [
       "23000"
      ]
     },
     "execution_count": 3,
     "metadata": {},
     "output_type": "execute_result"
    }
   ],
   "source": [
    "len(train_dataset)"
   ]
  },
  {
   "cell_type": "code",
   "execution_count": 5,
   "metadata": {},
   "outputs": [],
   "source": [
    "from torch.utils.data import DataLoader\n",
    "batch_size = 32\n",
    "train_dataloader = DataLoader(train_dataset, batch_size=batch_size, shuffle=True, num_workers=32)"
   ]
  },
  {
   "cell_type": "code",
   "execution_count": 6,
   "metadata": {},
   "outputs": [],
   "source": [
    "# Same for validation dataset\n",
    "val_root_dir = '../dogscats/valid'\n",
    "val_dataset = ImageFolder(val_root_dir, transform=transforms)\n",
    "val_dataloader = DataLoader(val_dataset, batch_size=batch_size, shuffle=False, num_workers=4)"
   ]
  },
  {
   "cell_type": "markdown",
   "metadata": {},
   "source": [
    "print(len(val_dataset))"
   ]
  },
  {
   "cell_type": "markdown",
   "metadata": {},
   "source": [
    "# Baseline - MLP model\n",
    "### We will compare MLP and ConvNets in terms of accuracy, number of parameters, etc."
   ]
  },
  {
   "cell_type": "markdown",
   "metadata": {},
   "source": [
    "from utils_train import fit"
   ]
  },
  {
   "cell_type": "code",
   "execution_count": 39,
   "metadata": {},
   "outputs": [],
   "source": [
    "class MLPModel(nn.Module):\n",
    "    \n",
    "    def __init__(self, input_dim, hidden_dim):\n",
    "        super(MLPModel, self).__init__()\n",
    "        self.layers = nn.Sequential(\n",
    "            nn.Linear(input_dim, hidden_dim),\n",
    "            nn.ReLU(),\n",
    "            nn.Linear(hidden_dim, hidden_dim),\n",
    "            nn.ReLU(),\n",
    "            nn.Linear(hidden_dim, hidden_dim),\n",
    "            nn.ReLU(),\n",
    "            nn.Linear(hidden_dim, 2)\n",
    "        )\n",
    "    \n",
    "    def forward(self, input):\n",
    "        input = input.view(input.size(0), -1)\n",
    "        return self.layers(input)"
   ]
  },
  {
   "cell_type": "code",
   "execution_count": 48,
   "metadata": {},
   "outputs": [],
   "source": [
    "model_mlp = MLPModel(32*32*3, 128)\n",
    "model_mlp = model_mlp.to(device)\n",
    "learning_rate = 0.001\n",
    "optimizer = torch.optim.Adam(model_mlp.parameters(), lr=learning_rate)\n",
    "n_epochs = 25\n",
    "loss_fn = nn.CrossEntropyLoss()"
   ]
  },
  {
   "cell_type": "code",
   "execution_count": 49,
   "metadata": {},
   "outputs": [
    {
     "name": "stdout",
     "output_type": "stream",
     "text": [
      "Epoch 1/25: train_loss: 0.6514, train_accuracy: 61.7783, val_loss: 0.6334, val_accuracy: 63.7500\n",
      "Epoch 2/25: train_loss: 0.6210, train_accuracy: 64.9348, val_loss: 0.6183, val_accuracy: 65.2000\n",
      "Epoch 3/25: train_loss: 0.5980, train_accuracy: 67.5391, val_loss: 0.6212, val_accuracy: 66.2000\n",
      "Epoch 4/25: train_loss: 0.5795, train_accuracy: 69.1826, val_loss: 0.6072, val_accuracy: 66.9500\n",
      "Epoch 5/25: train_loss: 0.5575, train_accuracy: 71.0826, val_loss: 0.6220, val_accuracy: 65.6500\n",
      "Epoch 6/25: train_loss: 0.5325, train_accuracy: 72.9435, val_loss: 0.6242, val_accuracy: 65.9000\n",
      "Epoch 7/25: train_loss: 0.5114, train_accuracy: 73.9391, val_loss: 0.6226, val_accuracy: 66.4000\n",
      "Epoch 8/25: train_loss: 0.4857, train_accuracy: 75.4304, val_loss: 0.6386, val_accuracy: 67.9500\n",
      "Epoch 9/25: train_loss: 0.4576, train_accuracy: 77.5609, val_loss: 0.6625, val_accuracy: 66.4000\n",
      "Epoch 10/25: train_loss: 0.4298, train_accuracy: 79.3130, val_loss: 0.6900, val_accuracy: 67.3000\n",
      "Epoch 11/25: train_loss: 0.4011, train_accuracy: 80.7609, val_loss: 0.7417, val_accuracy: 66.6000\n",
      "Epoch 12/25: train_loss: 0.3782, train_accuracy: 82.1130, val_loss: 0.7648, val_accuracy: 67.9000\n",
      "Epoch 13/25: train_loss: 0.3483, train_accuracy: 83.5783, val_loss: 0.7952, val_accuracy: 66.7500\n",
      "Epoch 14/25: train_loss: 0.3214, train_accuracy: 85.1000, val_loss: 0.8924, val_accuracy: 67.8000\n",
      "Epoch 15/25: train_loss: 0.2982, train_accuracy: 86.3522, val_loss: 0.9662, val_accuracy: 66.5500\n",
      "Epoch 16/25: train_loss: 0.2862, train_accuracy: 86.7870, val_loss: 0.9811, val_accuracy: 67.8000\n",
      "Epoch 17/25: train_loss: 0.2633, train_accuracy: 88.0348, val_loss: 1.0437, val_accuracy: 66.6500\n",
      "Epoch 18/25: train_loss: 0.2429, train_accuracy: 89.0870, val_loss: 1.1252, val_accuracy: 65.6500\n",
      "Epoch 19/25: train_loss: 0.2341, train_accuracy: 89.5652, val_loss: 1.0510, val_accuracy: 65.8500\n",
      "Epoch 20/25: train_loss: 0.2098, train_accuracy: 90.7174, val_loss: 1.1918, val_accuracy: 65.2000\n",
      "Epoch 21/25: train_loss: 0.2004, train_accuracy: 91.1913, val_loss: 1.2347, val_accuracy: 66.1000\n",
      "Epoch 22/25: train_loss: 0.1905, train_accuracy: 91.8043, val_loss: 1.3335, val_accuracy: 66.2000\n",
      "Epoch 23/25: train_loss: 0.1759, train_accuracy: 92.4304, val_loss: 1.5099, val_accuracy: 65.7500\n",
      "Epoch 24/25: train_loss: 0.1696, train_accuracy: 92.9043, val_loss: 1.6572, val_accuracy: 64.6500\n",
      "Epoch 25/25: train_loss: 0.1651, train_accuracy: 92.9609, val_loss: 1.6309, val_accuracy: 64.7500\n"
     ]
    }
   ],
   "source": [
    "curves_mlp = fit(train_dataloader, val_dataloader, model_mlp, optimizer, loss_fn, n_epochs)"
   ]
  },
  {
   "cell_type": "markdown",
   "metadata": {},
   "source": [
    "### With some regularization the best accuracy we got before for this MLP model was ~68%"
   ]
  },
  {
   "cell_type": "markdown",
   "metadata": {},
   "source": [
    "## Convolutional Neural Network\n",
    "### Two convolutions with Max Pooling, followed by linear layer on flattened feature maps"
   ]
  },
  {
   "cell_type": "code",
   "execution_count": 25,
   "metadata": {},
   "outputs": [],
   "source": [
    "import torch.nn as nn\n",
    "    \n",
    "class ConvModel(nn.Module):\n",
    "    \n",
    "    def __init__(self):\n",
    "        super(ConvModel, self).__init__()\n",
    "        self.conv_layers = nn.Sequential(\n",
    "            # input size: 3x32x32\n",
    "            nn.Conv2d(in_channels=3, out_channels=16, kernel_size=5, stride=1, padding=0),\n",
    "            # output: 16x28x28 (because kernel_size=5 and no padding)\n",
    "            nn.ReLU(),\n",
    "            nn.MaxPool2d(kernel_size=2, stride=2),\n",
    "            # output: 16x14x14\n",
    "            nn.Conv2d(in_channels=16, out_channels=32, kernel_size=5, stride=1, padding=0),\n",
    "            nn.ReLU(),\n",
    "            # output: 32x10x10\n",
    "            nn.MaxPool2d(kernel_size=2, stride=2),\n",
    "            # output: 32x5x5\n",
    "        )\n",
    "        self.linear_layer = nn.Linear(32*5*5, 2) # map output of conv layers to number of outputs (2 classes in this case)\n",
    "    \n",
    "    def forward(self, input):\n",
    "        output = self.conv_layers(input) # NO FLATTENING HERE, expected input is of dimension batch_size x n_channels x im_height x im_width\n",
    "        output = output.view(output.size(0), 32*5*5) # Flatten to a vector before passing to a linear layer\n",
    "        output = self.linear_layer(output)\n",
    "        return output"
   ]
  },
  {
   "cell_type": "code",
   "execution_count": 52,
   "metadata": {},
   "outputs": [],
   "source": [
    "model_conv = ConvModel()\n",
    "model_conv = model_conv.to(device)\n",
    "learning_rate = 0.001\n",
    "optimizer = torch.optim.Adam(model_conv.parameters(), lr=learning_rate)\n",
    "n_epochs = 25\n",
    "loss_fn = nn.CrossEntropyLoss()"
   ]
  },
  {
   "cell_type": "code",
   "execution_count": 53,
   "metadata": {},
   "outputs": [
    {
     "name": "stdout",
     "output_type": "stream",
     "text": [
      "Epoch 1/25: train_loss: 0.6098, train_accuracy: 66.3913, val_loss: 0.5701, val_accuracy: 70.7500\n",
      "Epoch 2/25: train_loss: 0.5302, train_accuracy: 73.5000, val_loss: 0.5107, val_accuracy: 75.4500\n",
      "Epoch 3/25: train_loss: 0.4844, train_accuracy: 76.6913, val_loss: 0.4954, val_accuracy: 76.7000\n",
      "Epoch 4/25: train_loss: 0.4543, train_accuracy: 78.7696, val_loss: 0.4654, val_accuracy: 78.8500\n",
      "Epoch 5/25: train_loss: 0.4292, train_accuracy: 80.2130, val_loss: 0.4549, val_accuracy: 78.9000\n",
      "Epoch 6/25: train_loss: 0.4148, train_accuracy: 81.0000, val_loss: 0.4308, val_accuracy: 79.8000\n",
      "Epoch 7/25: train_loss: 0.3994, train_accuracy: 81.7783, val_loss: 0.4401, val_accuracy: 79.0500\n",
      "Epoch 8/25: train_loss: 0.3823, train_accuracy: 82.7043, val_loss: 0.4451, val_accuracy: 79.2500\n",
      "Epoch 9/25: train_loss: 0.3682, train_accuracy: 83.2870, val_loss: 0.4372, val_accuracy: 79.4000\n",
      "Epoch 10/25: train_loss: 0.3547, train_accuracy: 84.2348, val_loss: 0.4333, val_accuracy: 80.2000\n",
      "Epoch 11/25: train_loss: 0.3498, train_accuracy: 84.4478, val_loss: 0.4414, val_accuracy: 80.0500\n",
      "Epoch 12/25: train_loss: 0.3361, train_accuracy: 85.1913, val_loss: 0.4467, val_accuracy: 79.7000\n",
      "Epoch 13/25: train_loss: 0.3240, train_accuracy: 85.1739, val_loss: 0.4401, val_accuracy: 79.8500\n",
      "Epoch 14/25: train_loss: 0.3141, train_accuracy: 86.0217, val_loss: 0.4526, val_accuracy: 79.8500\n",
      "Epoch 15/25: train_loss: 0.3029, train_accuracy: 86.9435, val_loss: 0.4716, val_accuracy: 79.6500\n",
      "Epoch 16/25: train_loss: 0.2899, train_accuracy: 87.2174, val_loss: 0.4625, val_accuracy: 79.7500\n",
      "Epoch 17/25: train_loss: 0.2849, train_accuracy: 87.7087, val_loss: 0.4672, val_accuracy: 79.5500\n",
      "Epoch 18/25: train_loss: 0.2717, train_accuracy: 88.2348, val_loss: 0.4918, val_accuracy: 79.9000\n",
      "Epoch 19/25: train_loss: 0.2617, train_accuracy: 88.6826, val_loss: 0.5193, val_accuracy: 79.9500\n",
      "Epoch 20/25: train_loss: 0.2537, train_accuracy: 88.9435, val_loss: 0.4978, val_accuracy: 79.5000\n",
      "Epoch 21/25: train_loss: 0.2477, train_accuracy: 89.3652, val_loss: 0.5072, val_accuracy: 80.4500\n",
      "Epoch 22/25: train_loss: 0.2368, train_accuracy: 89.7261, val_loss: 0.5231, val_accuracy: 79.0000\n",
      "Epoch 23/25: train_loss: 0.2310, train_accuracy: 90.2304, val_loss: 0.6076, val_accuracy: 77.4500\n",
      "Epoch 24/25: train_loss: 0.2248, train_accuracy: 90.6783, val_loss: 0.5214, val_accuracy: 80.3500\n",
      "Epoch 25/25: train_loss: 0.2136, train_accuracy: 91.0087, val_loss: 0.5343, val_accuracy: 79.8500\n"
     ]
    }
   ],
   "source": [
    "curves_conv1 = fit(train_dataloader, val_dataloader, model_conv, optimizer, loss_fn, n_epochs)"
   ]
  },
  {
   "cell_type": "code",
   "execution_count": 65,
   "metadata": {},
   "outputs": [],
   "source": [
    "import torch.nn as nn\n",
    "    \n",
    "class ConvModel2(nn.Module):\n",
    "    \n",
    "    def __init__(self):\n",
    "        super(ConvModel2, self).__init__()\n",
    "        self.conv_layers = nn.Sequential(\n",
    "            # input size: 3x32x32\n",
    "            nn.Conv2d(in_channels=3, out_channels=16, kernel_size=5, stride=1, padding=0),\n",
    "            # output: 16x28x28 (because kernel_size=5 and no padding)\n",
    "            nn.ReLU(),\n",
    "            nn.MaxPool2d(kernel_size=2, stride=2),\n",
    "            # output: 16x14x14\n",
    "            nn.Conv2d(in_channels=16, out_channels=32, kernel_size=5, stride=1, padding=0),\n",
    "            nn.ReLU(),\n",
    "            # output: 32x10x10\n",
    "            nn.MaxPool2d(kernel_size=2, stride=2),\n",
    "            # output: 32x5x5\n",
    "            nn.AvgPool2d(kernel_size=5, stride=5) # alternatively: AdaptiveAvgPool(1)\n",
    "        )\n",
    "        self.linear_layer = nn.Linear(32, 2)\n",
    "    \n",
    "    def forward(self, input):\n",
    "        output = self.conv_layers(input)\n",
    "        output = output.view(output.size(0), 32)\n",
    "        output = self.linear_layer(output)\n",
    "        return output"
   ]
  },
  {
   "cell_type": "code",
   "execution_count": 66,
   "metadata": {},
   "outputs": [],
   "source": [
    "model_conv2 = ConvModel2()\n",
    "model_conv2 = model_conv2.to(device)\n",
    "learning_rate = 0.001\n",
    "optimizer = torch.optim.Adam(model_conv2.parameters(), lr=learning_rate)\n",
    "n_epochs = 25\n",
    "loss_fn = nn.CrossEntropyLoss()"
   ]
  },
  {
   "cell_type": "code",
   "execution_count": 56,
   "metadata": {},
   "outputs": [
    {
     "name": "stdout",
     "output_type": "stream",
     "text": [
      "Epoch 1/25: train_loss: 0.6516, train_accuracy: 61.4565, val_loss: 0.6446, val_accuracy: 62.6500\n",
      "Epoch 2/25: train_loss: 0.6161, train_accuracy: 66.3870, val_loss: 0.6021, val_accuracy: 68.3500\n",
      "Epoch 3/25: train_loss: 0.5827, train_accuracy: 69.5652, val_loss: 0.5706, val_accuracy: 71.4000\n",
      "Epoch 4/25: train_loss: 0.5584, train_accuracy: 71.8565, val_loss: 0.5539, val_accuracy: 72.7500\n",
      "Epoch 5/25: train_loss: 0.5346, train_accuracy: 73.8652, val_loss: 0.5325, val_accuracy: 74.3500\n",
      "Epoch 6/25: train_loss: 0.5171, train_accuracy: 75.0696, val_loss: 0.5119, val_accuracy: 75.8500\n",
      "Epoch 7/25: train_loss: 0.5081, train_accuracy: 75.4391, val_loss: 0.5127, val_accuracy: 75.5500\n",
      "Epoch 8/25: train_loss: 0.4992, train_accuracy: 76.1261, val_loss: 0.5313, val_accuracy: 73.6500\n",
      "Epoch 9/25: train_loss: 0.4889, train_accuracy: 76.6348, val_loss: 0.4859, val_accuracy: 76.7500\n",
      "Epoch 10/25: train_loss: 0.4828, train_accuracy: 77.0652, val_loss: 0.4793, val_accuracy: 77.0000\n",
      "Epoch 11/25: train_loss: 0.4727, train_accuracy: 77.7130, val_loss: 0.4716, val_accuracy: 77.0000\n",
      "Epoch 12/25: train_loss: 0.4666, train_accuracy: 78.1826, val_loss: 0.4895, val_accuracy: 75.8000\n",
      "Epoch 13/25: train_loss: 0.4572, train_accuracy: 78.5000, val_loss: 0.4742, val_accuracy: 77.4000\n",
      "Epoch 14/25: train_loss: 0.4516, train_accuracy: 79.1087, val_loss: 0.4643, val_accuracy: 77.7500\n",
      "Epoch 15/25: train_loss: 0.4438, train_accuracy: 79.5522, val_loss: 0.4523, val_accuracy: 78.8000\n",
      "Epoch 16/25: train_loss: 0.4327, train_accuracy: 79.8739, val_loss: 0.4569, val_accuracy: 78.4000\n",
      "Epoch 17/25: train_loss: 0.4257, train_accuracy: 80.3522, val_loss: 0.4672, val_accuracy: 76.3000\n",
      "Epoch 18/25: train_loss: 0.4199, train_accuracy: 80.9870, val_loss: 0.4463, val_accuracy: 79.6500\n",
      "Epoch 19/25: train_loss: 0.4151, train_accuracy: 80.9304, val_loss: 0.4492, val_accuracy: 78.2000\n",
      "Epoch 20/25: train_loss: 0.4063, train_accuracy: 81.6391, val_loss: 0.4348, val_accuracy: 79.7500\n",
      "Epoch 21/25: train_loss: 0.4009, train_accuracy: 81.7783, val_loss: 0.4361, val_accuracy: 79.5000\n",
      "Epoch 22/25: train_loss: 0.3940, train_accuracy: 82.1130, val_loss: 0.4338, val_accuracy: 80.2500\n",
      "Epoch 23/25: train_loss: 0.3885, train_accuracy: 82.4870, val_loss: 0.5136, val_accuracy: 75.9500\n",
      "Epoch 24/25: train_loss: 0.3838, train_accuracy: 82.8652, val_loss: 0.4461, val_accuracy: 80.0500\n",
      "Epoch 25/25: train_loss: 0.3790, train_accuracy: 82.8957, val_loss: 0.4266, val_accuracy: 80.0500\n"
     ]
    }
   ],
   "source": [
    "curves_conv2 = fit(train_dataloader, val_dataloader, model_conv2, optimizer, loss_fn, n_epochs)"
   ]
  },
  {
   "cell_type": "markdown",
   "metadata": {},
   "source": [
    "# Compare number of parameters"
   ]
  },
  {
   "cell_type": "code",
   "execution_count": 57,
   "metadata": {},
   "outputs": [],
   "source": [
    "def count_parameters(model):\n",
    "    return sum(p.numel() for p in model.parameters() if p.requires_grad)"
   ]
  },
  {
   "cell_type": "code",
   "execution_count": 144,
   "metadata": {},
   "outputs": [
    {
     "name": "stdout",
     "output_type": "stream",
     "text": [
      "MLP: 426626 parameters\n",
      "ConvNet1: 15650 parameters\n",
      "ConvNet2: 14114 parameters\n"
     ]
    }
   ],
   "source": [
    "print('MLP: {} parameters'.format(count_parameters(model_mlp)))\n",
    "print('ConvNet1: {} parameters'.format(count_parameters(model_conv)))\n",
    "print('ConvNet2: {} parameters'.format(count_parameters(model_conv2)))"
   ]
  },
  {
   "cell_type": "markdown",
   "metadata": {},
   "source": [
    "__Model MLP__:\n",
    "- 1st layer: (32 * 32 * 3)*128 + 128 (biases) __// input size dependant, 92% of parameters!__\n",
    "- 2nd layer: 128 * 128 + 128\n",
    "- 3rd layer: 128 * 128 + 128\n",
    "- 4th layer: 128 * 2 + 2\n",
    "\n",
    "__Model ConvNet1__:\n",
    "- 1st layer (conv): 16 * 3 * 5 * 5 + 16 (biases)\n",
    "- 2nd layer (conv): 32 * 16 * 5 * 5 + 32\n",
    "- 3rd layer (linear): (32 * 5 * 5) * 2 + 2 __// input size dependant__ <- can grow very big for bigger input size and large number of filters\n",
    "\n",
    "__Model ConvNet2__:\n",
    "- 1st layer (conv): 16 * 3 * 5 * 5 + 16 (biases)\n",
    "- 2nd layer (conv): 32 * 16 * 5 * 5 + 32\n",
    "- 3rd layer (linear): 32 * 2 + 2  \n",
    "^ Independent of input size (average pool must be set accordingly)"
   ]
  },
  {
   "cell_type": "markdown",
   "metadata": {},
   "source": [
    "# First conv layer filter visualization\n",
    "## What does the network look for in the raw image?"
   ]
  },
  {
   "cell_type": "code",
   "execution_count": 78,
   "metadata": {},
   "outputs": [],
   "source": [
    "%matplotlib inline\n",
    "import matplotlib.pyplot as plt"
   ]
  },
  {
   "cell_type": "markdown",
   "metadata": {},
   "source": [
    "### Example: AlexNet, trained on ImageNet dataset (>1 million images, 1000 classes) https://github.com/pytorch/vision/blob/master/torchvision/models/alexnet.py"
   ]
  },
  {
   "cell_type": "code",
   "execution_count": 124,
   "metadata": {},
   "outputs": [
    {
     "name": "stderr",
     "output_type": "stream",
     "text": [
      "Downloading: \"https://download.pytorch.org/models/alexnet-owt-4df8aa71.pth\" to /home/adam/.torch/models/alexnet-owt-4df8aa71.pth\n",
      "244418560it [00:03, 80403245.62it/s]\n"
     ]
    }
   ],
   "source": [
    "import torchvision\n",
    "alexnet = torchvision.models.alexnet(pretrained=True)"
   ]
  },
  {
   "cell_type": "code",
   "execution_count": 168,
   "metadata": {},
   "outputs": [
    {
     "data": {
      "text/plain": [
       "AlexNet(\n",
       "  (features): Sequential(\n",
       "    (0): Conv2d(3, 64, kernel_size=(11, 11), stride=(4, 4), padding=(2, 2))\n",
       "    (1): ReLU(inplace)\n",
       "    (2): MaxPool2d(kernel_size=3, stride=2, padding=0, dilation=1, ceil_mode=False)\n",
       "    (3): Conv2d(64, 192, kernel_size=(5, 5), stride=(1, 1), padding=(2, 2))\n",
       "    (4): ReLU(inplace)\n",
       "    (5): MaxPool2d(kernel_size=3, stride=2, padding=0, dilation=1, ceil_mode=False)\n",
       "    (6): Conv2d(192, 384, kernel_size=(3, 3), stride=(1, 1), padding=(1, 1))\n",
       "    (7): ReLU(inplace)\n",
       "    (8): Conv2d(384, 256, kernel_size=(3, 3), stride=(1, 1), padding=(1, 1))\n",
       "    (9): ReLU(inplace)\n",
       "    (10): Conv2d(256, 256, kernel_size=(3, 3), stride=(1, 1), padding=(1, 1))\n",
       "    (11): ReLU(inplace)\n",
       "    (12): MaxPool2d(kernel_size=3, stride=2, padding=0, dilation=1, ceil_mode=False)\n",
       "  )\n",
       "  (classifier): Sequential(\n",
       "    (0): Dropout(p=0.5)\n",
       "    (1): Linear(in_features=9216, out_features=4096, bias=True)\n",
       "    (2): ReLU(inplace)\n",
       "    (3): Dropout(p=0.5)\n",
       "    (4): Linear(in_features=4096, out_features=4096, bias=True)\n",
       "    (5): ReLU(inplace)\n",
       "    (6): Linear(in_features=4096, out_features=1000, bias=True)\n",
       "  )\n",
       ")"
      ]
     },
     "execution_count": 168,
     "metadata": {},
     "output_type": "execute_result"
    }
   ],
   "source": [
    "alexnet"
   ]
  },
  {
   "cell_type": "code",
   "execution_count": 152,
   "metadata": {},
   "outputs": [],
   "source": [
    "filters = alexnet.features[0].weight.detach().cpu().numpy()"
   ]
  },
  {
   "cell_type": "code",
   "execution_count": 153,
   "metadata": {},
   "outputs": [
    {
     "data": {
      "text/plain": [
       "(64, 3, 11, 11)"
      ]
     },
     "execution_count": 153,
     "metadata": {},
     "output_type": "execute_result"
    }
   ],
   "source": [
    "filters.shape"
   ]
  },
  {
   "cell_type": "code",
   "execution_count": 154,
   "metadata": {},
   "outputs": [],
   "source": [
    "filters = filters.transpose(0, 2, 3, 1)"
   ]
  },
  {
   "cell_type": "code",
   "execution_count": 155,
   "metadata": {},
   "outputs": [],
   "source": [
    "filters_ = filters.copy()"
   ]
  },
  {
   "cell_type": "code",
   "execution_count": 156,
   "metadata": {},
   "outputs": [],
   "source": [
    "for i in range(len(filters_)):\n",
    "    filters_[i] -= np.min(filters_[i])\n",
    "    filters_[i] /= np.max(filters_[i])"
   ]
  },
  {
   "cell_type": "code",
   "execution_count": 167,
   "metadata": {},
   "outputs": [
    {
     "data": {
      "image/png": "[encoded data removed]",
      "text/plain": [
       "<Figure size 720x720 with 64 Axes>"
      ]
     },
     "metadata": {
      "needs_background": "light"
     },
     "output_type": "display_data"
    }
   ],
   "source": [
    "\n",
    "fig, axes = plt.subplots(8, 8, figsize=(10, 10))\n",
    "for i in range(64):\n",
    "    axes[i // 8][i % 8].imshow(filters_[i], cmap='gray')\n",
    "    axes[i // 8][i % 8].axis('off')"
   ]
  },
  {
   "cell_type": "code",
   "execution_count": null,
   "metadata": {},
   "outputs": [],
   "source": []
  }
 ],
 "metadata": {
  "kernelspec": {
   "display_name": "Python 3",
   "language": "python",
   "name": "python3"
  },
  "language_info": {
   "codemirror_mode": {
    "name": "ipython",
    "version": 3
   },
   "file_extension": ".py",
   "mimetype": "text/x-python",
   "name": "python",
   "nbconvert_exporter": "python",
   "pygments_lexer": "ipython3",
   "version": "3.7.2"
  }
 },
 "nbformat": 4,
 "nbformat_minor": 2
}
