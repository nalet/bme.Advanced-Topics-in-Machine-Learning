{
 "cells": [
  {
   "cell_type": "markdown",
   "metadata": {},
   "source": [
    "# Batch Normalization\n",
    "Example how batch normalization module is working  \n",
    "https://pytorch.org/docs/stable/nn.html#torch.nn.BatchNorm1d\n",
    "\n",
    "- Shifts and scales features in a mini batch \n",
    "- More invariant to weights initialization\n",
    "- More stable gradients\n",
    "- Faster convergence (fewer iterations needed because of covariate shift reduction), but more computation needed (more time needed per iteration)\n",
    "- Has some regularization effect (noise in the training because different statistics per batch)"
   ]
  },
  {
   "cell_type": "code",
   "execution_count": 29,
   "metadata": {},
   "outputs": [],
   "source": [
    "%matplotlib inline\n",
    "import matplotlib.pyplot as plt"
   ]
  },
  {
   "cell_type": "code",
   "execution_count": 30,
   "metadata": {},
   "outputs": [],
   "source": [
    "import torch\n",
    "import torch.nn as nn"
   ]
  },
  {
   "cell_type": "code",
   "execution_count": 32,
   "metadata": {},
   "outputs": [],
   "source": [
    "dim=4\n",
    "batch_size = 16\n",
    "batchnorm = nn.BatchNorm1d(dim, affine=True)"
   ]
  },
  {
   "cell_type": "code",
   "execution_count": 33,
   "metadata": {},
   "outputs": [
    {
     "data": {
      "text/plain": [
       "(Parameter containing:\n",
       " tensor([0.6651, 0.5392, 0.9903, 0.2975], requires_grad=True),\n",
       " Parameter containing:\n",
       " tensor([0., 0., 0., 0.], requires_grad=True))"
      ]
     },
     "execution_count": 33,
     "metadata": {},
     "output_type": "execute_result"
    }
   ],
   "source": [
    "# Let's see how scaling and shift values are initialized\n",
    "batchnorm.weight, batchnorm.bias"
   ]
  },
  {
   "cell_type": "code",
   "execution_count": 34,
   "metadata": {},
   "outputs": [],
   "source": [
    "data = 10.0 + 2*torch.randn(batch_size, dim)"
   ]
  },
  {
   "cell_type": "code",
   "execution_count": 35,
   "metadata": {},
   "outputs": [
    {
     "name": "stdout",
     "output_type": "stream",
     "text": [
      "tensor([[ 8.8376,  8.3541, 12.7303,  9.7380],\n",
      "        [ 9.2700, 12.8811, 13.9059, 12.3523],\n",
      "        [ 9.7586, 11.9837, 12.7261,  8.3892],\n",
      "        [10.4763,  9.5522,  8.9885, 10.6336],\n",
      "        [11.3012,  9.4174,  9.7463,  9.8143],\n",
      "        [ 9.8647,  8.4507,  9.9169, 11.5026],\n",
      "        [ 9.6938, 11.2616,  7.9024, 10.4886],\n",
      "        [ 6.7736, 11.1594, 10.3675,  8.4980],\n",
      "        [10.4625,  9.7631,  8.1485,  8.2927],\n",
      "        [11.7651, 10.9357, 10.6620, 11.1853],\n",
      "        [11.2514, 12.1874,  9.0607,  8.4344],\n",
      "        [ 9.7623,  9.6103, 11.6487, 10.5985],\n",
      "        [11.0323,  9.9644, 13.1092,  8.1972],\n",
      "        [11.1769, 12.7278, 13.6166, 12.1750],\n",
      "        [ 7.2628,  7.8793,  7.4940, 11.9389],\n",
      "        [10.6585,  8.9242,  9.3574,  9.9326]])\n"
     ]
    }
   ],
   "source": [
    "# data.mean(1, keepdim=True)\n",
    "print(data)"
   ]
  },
  {
   "cell_type": "code",
   "execution_count": 36,
   "metadata": {},
   "outputs": [],
   "source": [
    "normalized_batch = batchnorm(data)"
   ]
  },
  {
   "cell_type": "code",
   "execution_count": 37,
   "metadata": {},
   "outputs": [
    {
     "data": {
      "text/plain": [
       "tensor([[-0.5477, -0.6846,  1.0362, -0.0837],\n",
       "        [-0.3365,  0.8953,  1.6043,  0.4666],\n",
       "        [-0.0980,  0.5821,  1.0341, -0.3676],\n",
       "        [ 0.2524, -0.2665, -0.7722,  0.1048],\n",
       "        [ 0.6552, -0.3135, -0.4060, -0.0677],\n",
       "        [-0.0462, -0.6509, -0.3235,  0.2877],\n",
       "        [-0.1296,  0.3301, -1.2971,  0.0743],\n",
       "        [-1.5554,  0.2944, -0.1058, -0.3448],\n",
       "        [ 0.2457, -0.1929, -1.1781, -0.3880],\n",
       "        [ 0.8817,  0.2163,  0.0366,  0.2210],\n",
       "        [ 0.6309,  0.6532, -0.7373, -0.3581],\n",
       "        [-0.0962, -0.2462,  0.5134,  0.0974],\n",
       "        [ 0.5239, -0.1226,  1.2193, -0.4081],\n",
       "        [ 0.5946,  0.8418,  1.4645,  0.4293],\n",
       "        [-1.3166, -0.8503, -1.4944,  0.3796],\n",
       "        [ 0.3414, -0.4856, -0.5939, -0.0427]],\n",
       "       grad_fn=<NativeBatchNormBackward>)"
      ]
     },
     "execution_count": 37,
     "metadata": {},
     "output_type": "execute_result"
    }
   ],
   "source": [
    "normalized_batch"
   ]
  },
  {
   "cell_type": "code",
   "execution_count": 38,
   "metadata": {},
   "outputs": [
    {
     "data": {
      "text/plain": [
       "tensor([8.9407e-08, 1.8626e-08, 0.0000e+00, 6.6357e-08],\n",
       "       grad_fn=<MeanBackward0>)"
      ]
     },
     "execution_count": 38,
     "metadata": {},
     "output_type": "execute_result"
    }
   ],
   "source": [
    "normalized_batch.mean(dim=0)"
   ]
  },
  {
   "cell_type": "code",
   "execution_count": 39,
   "metadata": {},
   "outputs": [
    {
     "data": {
      "text/plain": [
       "tensor([0.6869, 0.5569, 1.0227, 0.3073], grad_fn=<StdBackward1>)"
      ]
     },
     "execution_count": 39,
     "metadata": {},
     "output_type": "execute_result"
    }
   ],
   "source": [
    "normalized_batch.std(dim=0)"
   ]
  },
  {
   "cell_type": "code",
   "execution_count": 40,
   "metadata": {},
   "outputs": [
    {
     "data": {
      "text/plain": [
       "(Parameter containing:\n",
       " tensor([0.6651, 0.5392, 0.9903, 0.2975], requires_grad=True),\n",
       " Parameter containing:\n",
       " tensor([0., 0., 0., 0.], requires_grad=True))"
      ]
     },
     "execution_count": 40,
     "metadata": {},
     "output_type": "execute_result"
    }
   ],
   "source": [
    "batchnorm.weight, batchnorm.bias"
   ]
  },
  {
   "cell_type": "code",
   "execution_count": 41,
   "metadata": {},
   "outputs": [
    {
     "data": {
      "text/plain": [
       "<matplotlib.legend.Legend at 0x7fabc4e80f28>"
      ]
     },
     "execution_count": 41,
     "metadata": {},
     "output_type": "execute_result"
    },
    {
     "data": {
      "image/png": "[encoded data removed]",
      "text/plain": [
       "<Figure size 432x288 with 1 Axes>"
      ]
     },
     "metadata": {
      "needs_background": "light"
     },
     "output_type": "display_data"
    }
   ],
   "source": [
    "plt.hist(data[:,0])\n",
    "plt.hist(normalized_batch.detach().cpu().numpy()[:,0])\n",
    "plt.legend(['Data', 'Data after batch normalization'])"
   ]
  },
  {
   "cell_type": "markdown",
   "metadata": {},
   "source": [
    "# train() vs eval()\n",
    "In **train** mode, each feature is normalized by batch's mean and variance.  \n",
    "In **eval** mode, each feature is normalized by global running mean and variance computed during training"
   ]
  },
  {
   "cell_type": "code",
   "execution_count": 42,
   "metadata": {},
   "outputs": [
    {
     "data": {
      "text/plain": [
       "(tensor([0.9959, 1.0316, 1.0586, 1.0136]),\n",
       " tensor([1.0979, 1.1546, 1.3479, 1.1131]))"
      ]
     },
     "execution_count": 42,
     "metadata": {},
     "output_type": "execute_result"
    }
   ],
   "source": [
    "# At the beggining of training, running mean and std are not estimated\n",
    "batchnorm.running_mean, batchnorm.running_var # <- not close to real mean (10) and var"
   ]
  },
  {
   "cell_type": "code",
   "execution_count": 43,
   "metadata": {},
   "outputs": [
    {
     "data": {
      "text/plain": [
       "tensor([[ 4.9774,  3.6743,  9.9555,  2.4604],\n",
       "        [ 5.2518,  5.9458, 10.9582,  3.1977],\n",
       "        [ 5.5620,  5.4955,  9.9519,  2.0801],\n",
       "        [ 6.0175,  4.2754,  6.7638,  2.7130],\n",
       "        [ 6.5411,  4.2078,  7.4102,  2.4820],\n",
       "        [ 5.6293,  3.7227,  7.5557,  2.9581],\n",
       "        [ 5.5208,  5.1332,  5.8374,  2.6721],\n",
       "        [ 3.6673,  5.0819,  7.9400,  2.1107],\n",
       "        [ 6.0087,  4.3813,  6.0474,  2.0528],\n",
       "        [ 6.8355,  4.9697,  8.1913,  2.8686],\n",
       "        [ 6.5095,  5.5977,  6.8254,  2.0928],\n",
       "        [ 5.5643,  4.3046,  9.0329,  2.7031],\n",
       "        [ 6.3704,  4.4823, 10.2787,  2.0259],\n",
       "        [ 6.4622,  5.8689, 10.7115,  3.1477],\n",
       "        [ 3.9778,  3.4361,  5.4891,  3.0812],\n",
       "        [ 6.1332,  3.9603,  7.0785,  2.5153]],\n",
       "       grad_fn=<NativeBatchNormBackward>)"
      ]
     },
     "execution_count": 43,
     "metadata": {},
     "output_type": "execute_result"
    }
   ],
   "source": [
    "batchnorm.eval()\n",
    "batchnorm(data) # input tensor is returned"
   ]
  },
  {
   "cell_type": "code",
   "execution_count": 44,
   "metadata": {},
   "outputs": [
    {
     "data": {
      "text/plain": [
       "tensor([[-0.5477, -0.6846,  1.0362, -0.0837],\n",
       "        [-0.3365,  0.8953,  1.6043,  0.4666],\n",
       "        [-0.0980,  0.5821,  1.0341, -0.3676],\n",
       "        [ 0.2524, -0.2665, -0.7722,  0.1048],\n",
       "        [ 0.6552, -0.3135, -0.4060, -0.0677],\n",
       "        [-0.0462, -0.6509, -0.3235,  0.2877],\n",
       "        [-0.1296,  0.3301, -1.2971,  0.0743],\n",
       "        [-1.5554,  0.2944, -0.1058, -0.3448],\n",
       "        [ 0.2457, -0.1929, -1.1781, -0.3880],\n",
       "        [ 0.8817,  0.2163,  0.0366,  0.2210],\n",
       "        [ 0.6309,  0.6532, -0.7373, -0.3581],\n",
       "        [-0.0962, -0.2462,  0.5134,  0.0974],\n",
       "        [ 0.5239, -0.1226,  1.2193, -0.4081],\n",
       "        [ 0.5946,  0.8418,  1.4645,  0.4293],\n",
       "        [-1.3166, -0.8503, -1.4944,  0.3796],\n",
       "        [ 0.3414, -0.4856, -0.5939, -0.0427]],\n",
       "       grad_fn=<NativeBatchNormBackward>)"
      ]
     },
     "execution_count": 44,
     "metadata": {},
     "output_type": "execute_result"
    }
   ],
   "source": [
    "batchnorm.train()\n",
    "batchnorm(data)"
   ]
  },
  {
   "cell_type": "code",
   "execution_count": 45,
   "metadata": {},
   "outputs": [],
   "source": [
    "for i in range(100):\n",
    "    batchnorm(data)"
   ]
  },
  {
   "cell_type": "code",
   "execution_count": 46,
   "metadata": {},
   "outputs": [
    {
     "data": {
      "text/plain": [
       "(tensor([ 9.9590, 10.3155, 10.5861, 10.1355]),\n",
       " tensor([1.9790, 2.5460, 4.4785, 2.1309]))"
      ]
     },
     "execution_count": 46,
     "metadata": {},
     "output_type": "execute_result"
    }
   ],
   "source": [
    "# Now mean and variance are better estimated\n",
    "batchnorm.running_mean, batchnorm.running_var # <- not close to real mean (10) and var"
   ]
  },
  {
   "cell_type": "code",
   "execution_count": 47,
   "metadata": {},
   "outputs": [
    {
     "data": {
      "text/plain": [
       "tensor([[-0.5302, -0.6628,  1.0034, -0.0810],\n",
       "        [-0.3257,  0.8669,  1.5534,  0.4518],\n",
       "        [-0.0947,  0.5637,  1.0014, -0.3559],\n",
       "        [ 0.2445, -0.2580, -0.7476,  0.1015],\n",
       "        [ 0.6345, -0.3035, -0.3930, -0.0655],\n",
       "        [-0.0446, -0.6302, -0.3132,  0.2786],\n",
       "        [-0.1254,  0.3197, -1.2558,  0.0720],\n",
       "        [-1.5059,  0.2851, -0.1023, -0.3338],\n",
       "        [ 0.2380, -0.1867, -1.1406, -0.3756],\n",
       "        [ 0.8538,  0.2095,  0.0355,  0.2140],\n",
       "        [ 0.6110,  0.6325, -0.7138, -0.3467],\n",
       "        [-0.0930, -0.2383,  0.4972,  0.0944],\n",
       "        [ 0.5074, -0.1187,  1.1807, -0.3951],\n",
       "        [ 0.5758,  0.8151,  1.4181,  0.4157],\n",
       "        [-1.2747, -0.8232, -1.4469,  0.3676],\n",
       "        [ 0.3307, -0.4701, -0.5749, -0.0413]],\n",
       "       grad_fn=<NativeBatchNormBackward>)"
      ]
     },
     "execution_count": 47,
     "metadata": {},
     "output_type": "execute_result"
    }
   ],
   "source": [
    "# Now mean and variance are estimated\n",
    "batchnorm.eval()\n",
    "batchnorm(data) # input tensor is returned"
   ]
  },
  {
   "cell_type": "code",
   "execution_count": 48,
   "metadata": {},
   "outputs": [
    {
     "data": {
      "text/plain": [
       "tensor([1.0153e-04, 7.4785e-05, 1.0665e-04, 4.4574e-05],\n",
       "       grad_fn=<MeanBackward0>)"
      ]
     },
     "execution_count": 48,
     "metadata": {},
     "output_type": "execute_result"
    }
   ],
   "source": [
    "batchnorm(data).mean(dim=0)"
   ]
  },
  {
   "cell_type": "markdown",
   "metadata": {},
   "source": [
    "# Effect on training"
   ]
  },
  {
   "cell_type": "code",
   "execution_count": 20,
   "metadata": {},
   "outputs": [],
   "source": [
    "import torch.nn as nn\n",
    "    \n",
    "class MLPModel(nn.Module):\n",
    "    \n",
    "    def __init__(self, input_dim, hidden_dim):\n",
    "        super(MLPModel, self).__init__()\n",
    "        self.layers = nn.Sequential(\n",
    "            nn.Linear(input_dim, hidden_dim),\n",
    "            nn.ReLU(),\n",
    "            nn.Linear(hidden_dim, hidden_dim),\n",
    "            nn.ReLU(),\n",
    "            nn.Linear(hidden_dim, hidden_dim),\n",
    "            nn.ReLU(),\n",
    "            nn.Linear(hidden_dim, hidden_dim),\n",
    "            nn.ReLU(),\n",
    "            nn.Linear(hidden_dim, hidden_dim),\n",
    "            nn.ReLU(),\n",
    "            nn.Linear(hidden_dim, 2)\n",
    "        )\n",
    "    \n",
    "    def forward(self, input):\n",
    "        input = input.view(input.size(0), -1)\n",
    "        return self.layers(input)"
   ]
  },
  {
   "cell_type": "code",
   "execution_count": 21,
   "metadata": {},
   "outputs": [],
   "source": [
    "import torch.nn as nn\n",
    "\n",
    "class MLPBatchNormModel(nn.Module):\n",
    "    \n",
    "    def __init__(self, input_dim, hidden_dim):\n",
    "        super(MLPBatchNormModel, self).__init__()\n",
    "        self.layers = nn.Sequential(\n",
    "            nn.Linear(input_dim, hidden_dim),\n",
    "            # add it between transformation layer and activation function\n",
    "            nn.BatchNorm1d(hidden_dim),\n",
    "            #\n",
    "            nn.ReLU(),\n",
    "            nn.Linear(hidden_dim, hidden_dim),\n",
    "            # add it between transformation layer and activation function\n",
    "            nn.BatchNorm1d(hidden_dim),\n",
    "            #\n",
    "            nn.ReLU(),\n",
    "            nn.Linear(hidden_dim, hidden_dim),\n",
    "            # add it between transformation layer and activation function\n",
    "            nn.BatchNorm1d(hidden_dim),\n",
    "            #\n",
    "            nn.ReLU(),\n",
    "            nn.Linear(hidden_dim, hidden_dim),\n",
    "            # add it between transformation layer and activation function\n",
    "            nn.BatchNorm1d(hidden_dim),\n",
    "            #\n",
    "            nn.ReLU(),\n",
    "            nn.Linear(hidden_dim, hidden_dim),\n",
    "            # add it between transformation layer and activation function\n",
    "            nn.BatchNorm1d(hidden_dim),\n",
    "            #\n",
    "            nn.ReLU(),\n",
    "            nn.Linear(hidden_dim, 2)\n",
    "        )\n",
    "    \n",
    "    def forward(self, input):\n",
    "        input = input.view(input.size(0), -1)\n",
    "        return self.layers(input)"
   ]
  },
  {
   "cell_type": "code",
   "execution_count": 22,
   "metadata": {},
   "outputs": [],
   "source": [
    "# Let's run some random data through the randomly initialized models\n",
    "model_standard = MLPModel(32*32*3, 128)\n",
    "model_batchnorm = MLPBatchNormModel(32*32*3, 128)"
   ]
  },
  {
   "cell_type": "code",
   "execution_count": 24,
   "metadata": {},
   "outputs": [],
   "source": [
    "import numpy as np\n",
    "import torch\n",
    "import torch.nn as nn\n",
    "from torch.utils.data import DataLoader\n",
    "device = torch.device('cuda' if torch.cuda.is_available() else 'cpu')\n",
    "from torchvision.datasets import ImageFolder\n",
    "from torchvision.transforms import Resize, ToTensor, Normalize, Compose\n",
    "\n",
    "target_size = (32, 32)\n",
    "batch_size = 32\n",
    "\n",
    "transforms = Compose([Resize(target_size), # Resizes image\n",
    "                    ToTensor(),           # Converts to Tensor, scales to [0, 1] float (from [0, 255] int)\n",
    "                    Normalize(mean=(0.5, 0.5, 0.5,), std=(0.5, 0.5, 0.5)), # scales to [-1.0, 1.0]\n",
    "                    ])\n",
    "\n",
    "# Load train data\n",
    "root_dir = '../dogscats/train'\n",
    "train_dataset = ImageFolder(root_dir, transform=transforms)\n",
    "train_dataloader = DataLoader(train_dataset, batch_size=batch_size, shuffle=True, num_workers=32)\n",
    "\n",
    "# Load validation data\n",
    "val_root_dir = '../dogscats/valid'\n",
    "val_dataset = ImageFolder(val_root_dir, transform=transforms)\n",
    "val_dataloader = DataLoader(val_dataset, batch_size=batch_size, shuffle=False, num_workers=4)"
   ]
  },
  {
   "cell_type": "code",
   "execution_count": 25,
   "metadata": {},
   "outputs": [],
   "source": [
    "from utils_train import fit # defined in utils_train.py"
   ]
  },
  {
   "cell_type": "code",
   "execution_count": 26,
   "metadata": {},
   "outputs": [
    {
     "name": "stdout",
     "output_type": "stream",
     "text": [
      "Epoch 1/25: train_loss: 0.6929, train_accuracy: 51.9696, val_loss: 0.6926, val_accuracy: 55.4000\n",
      "Epoch 2/25: train_loss: 0.6923, train_accuracy: 53.9130, val_loss: 0.6917, val_accuracy: 56.5000\n",
      "Epoch 3/25: train_loss: 0.6908, train_accuracy: 56.1826, val_loss: 0.6895, val_accuracy: 56.7500\n",
      "Epoch 4/25: train_loss: 0.6866, train_accuracy: 58.4478, val_loss: 0.6829, val_accuracy: 58.8500\n",
      "Epoch 5/25: train_loss: 0.6742, train_accuracy: 60.5217, val_loss: 0.6653, val_accuracy: 60.9500\n",
      "Epoch 6/25: train_loss: 0.6517, train_accuracy: 62.6130, val_loss: 0.6484, val_accuracy: 62.7000\n",
      "Epoch 7/25: train_loss: 0.6329, train_accuracy: 64.4652, val_loss: 0.6357, val_accuracy: 63.3500\n",
      "Epoch 8/25: train_loss: 0.6181, train_accuracy: 65.9217, val_loss: 0.6305, val_accuracy: 63.7000\n",
      "Epoch 9/25: train_loss: 0.6048, train_accuracy: 67.1913, val_loss: 0.6256, val_accuracy: 65.3000\n",
      "Epoch 10/25: train_loss: 0.5908, train_accuracy: 68.5739, val_loss: 0.6176, val_accuracy: 66.0000\n",
      "Epoch 11/25: train_loss: 0.5775, train_accuracy: 69.6217, val_loss: 0.6188, val_accuracy: 66.2000\n",
      "Epoch 12/25: train_loss: 0.5645, train_accuracy: 71.1130, val_loss: 0.6070, val_accuracy: 67.1000\n",
      "Epoch 13/25: train_loss: 0.5514, train_accuracy: 72.3261, val_loss: 0.5988, val_accuracy: 67.8500\n",
      "Epoch 14/25: train_loss: 0.5375, train_accuracy: 73.4696, val_loss: 0.6054, val_accuracy: 67.4000\n",
      "Epoch 15/25: train_loss: 0.5249, train_accuracy: 74.4261, val_loss: 0.6090, val_accuracy: 66.9500\n",
      "Epoch 16/25: train_loss: 0.5092, train_accuracy: 75.3043, val_loss: 0.6099, val_accuracy: 67.4000\n",
      "Epoch 17/25: train_loss: 0.4916, train_accuracy: 76.3783, val_loss: 0.6666, val_accuracy: 64.5500\n",
      "Epoch 18/25: train_loss: 0.4770, train_accuracy: 77.5130, val_loss: 0.6585, val_accuracy: 66.9500\n",
      "Epoch 19/25: train_loss: 0.4634, train_accuracy: 78.4174, val_loss: 0.6641, val_accuracy: 66.9000\n",
      "Epoch 20/25: train_loss: 0.4464, train_accuracy: 79.3522, val_loss: 0.6675, val_accuracy: 68.1000\n",
      "Epoch 21/25: train_loss: 0.4295, train_accuracy: 80.5783, val_loss: 0.6782, val_accuracy: 67.4500\n",
      "Epoch 22/25: train_loss: 0.4103, train_accuracy: 81.7261, val_loss: 0.6948, val_accuracy: 65.2000\n",
      "Epoch 23/25: train_loss: 0.3962, train_accuracy: 82.4043, val_loss: 0.7147, val_accuracy: 66.0500\n",
      "Epoch 24/25: train_loss: 0.3773, train_accuracy: 83.5000, val_loss: 0.6830, val_accuracy: 66.4500\n",
      "Epoch 25/25: train_loss: 0.3614, train_accuracy: 84.3391, val_loss: 0.6928, val_accuracy: 66.5500\n"
     ]
    }
   ],
   "source": [
    "model = MLPModel(32*32*3, 128)\n",
    "model = model.to(device)\n",
    "learning_rate = 0.01\n",
    "optimizer = torch.optim.SGD(model.parameters(), lr=learning_rate)\n",
    "n_epochs = 25\n",
    "loss_fn = nn.CrossEntropyLoss()\n",
    "\n",
    "curves = fit(train_dataloader, val_dataloader, model, optimizer, loss_fn, n_epochs)"
   ]
  },
  {
   "cell_type": "code",
   "execution_count": 27,
   "metadata": {},
   "outputs": [
    {
     "name": "stdout",
     "output_type": "stream",
     "text": [
      "Epoch 1/25: train_loss: 0.6552, train_accuracy: 60.8478, val_loss: 0.6395, val_accuracy: 63.0000\n",
      "Epoch 2/25: train_loss: 0.6226, train_accuracy: 64.5913, val_loss: 0.6250, val_accuracy: 64.2500\n",
      "Epoch 3/25: train_loss: 0.6036, train_accuracy: 66.8043, val_loss: 0.6249, val_accuracy: 64.2000\n",
      "Epoch 4/25: train_loss: 0.5897, train_accuracy: 67.8087, val_loss: 0.6251, val_accuracy: 64.9500\n",
      "Epoch 5/25: train_loss: 0.5759, train_accuracy: 69.4696, val_loss: 0.6111, val_accuracy: 66.4500\n",
      "Epoch 6/25: train_loss: 0.5580, train_accuracy: 70.9130, val_loss: 0.6126, val_accuracy: 65.7000\n",
      "Epoch 7/25: train_loss: 0.5478, train_accuracy: 71.9565, val_loss: 0.6138, val_accuracy: 67.0500\n",
      "Epoch 8/25: train_loss: 0.5367, train_accuracy: 72.5696, val_loss: 0.6195, val_accuracy: 64.9500\n",
      "Epoch 9/25: train_loss: 0.5211, train_accuracy: 73.9174, val_loss: 0.6236, val_accuracy: 66.3000\n",
      "Epoch 10/25: train_loss: 0.5112, train_accuracy: 74.6000, val_loss: 0.6215, val_accuracy: 66.5500\n",
      "Epoch 11/25: train_loss: 0.4975, train_accuracy: 75.5609, val_loss: 0.6269, val_accuracy: 66.8500\n",
      "Epoch 12/25: train_loss: 0.4801, train_accuracy: 76.4130, val_loss: 0.6541, val_accuracy: 66.2500\n",
      "Epoch 13/25: train_loss: 0.4712, train_accuracy: 77.1826, val_loss: 0.6378, val_accuracy: 67.4000\n",
      "Epoch 14/25: train_loss: 0.4625, train_accuracy: 77.8522, val_loss: 0.6396, val_accuracy: 67.0500\n",
      "Epoch 15/25: train_loss: 0.4471, train_accuracy: 78.7913, val_loss: 0.6590, val_accuracy: 66.2500\n",
      "Epoch 16/25: train_loss: 0.4352, train_accuracy: 79.1130, val_loss: 0.6839, val_accuracy: 66.7000\n",
      "Epoch 17/25: train_loss: 0.4241, train_accuracy: 79.9957, val_loss: 0.6653, val_accuracy: 67.2000\n",
      "Epoch 18/25: train_loss: 0.4146, train_accuracy: 80.6435, val_loss: 0.6881, val_accuracy: 65.8500\n",
      "Epoch 19/25: train_loss: 0.4016, train_accuracy: 81.5522, val_loss: 0.7187, val_accuracy: 66.1000\n",
      "Epoch 20/25: train_loss: 0.3927, train_accuracy: 82.0609, val_loss: 0.7075, val_accuracy: 66.9500\n",
      "Epoch 21/25: train_loss: 0.3786, train_accuracy: 82.7130, val_loss: 0.7183, val_accuracy: 65.7000\n",
      "Epoch 22/25: train_loss: 0.3687, train_accuracy: 83.3565, val_loss: 0.7275, val_accuracy: 67.1000\n",
      "Epoch 23/25: train_loss: 0.3636, train_accuracy: 83.4913, val_loss: 0.7368, val_accuracy: 65.6000\n",
      "Epoch 24/25: train_loss: 0.3538, train_accuracy: 83.9043, val_loss: 0.7307, val_accuracy: 67.2500\n",
      "Epoch 25/25: train_loss: 0.3391, train_accuracy: 84.6957, val_loss: 0.7435, val_accuracy: 65.4000\n"
     ]
    }
   ],
   "source": [
    "model = MLPBatchNormModel(32*32*3, 128)\n",
    "model = model.to(device)\n",
    "learning_rate = 0.01\n",
    "optimizer = torch.optim.SGD(model.parameters(), lr=learning_rate)\n",
    "n_epochs = 25\n",
    "loss_fn = nn.CrossEntropyLoss()\n",
    "\n",
    "curves_batchnorm = fit(train_dataloader, val_dataloader, model, optimizer, loss_fn, n_epochs)"
   ]
  },
  {
   "cell_type": "code",
   "execution_count": 28,
   "metadata": {},
   "outputs": [
    {
     "data": {
      "text/plain": [
       "Text(0, 0.5, 'loss')"
      ]
     },
     "execution_count": 28,
     "metadata": {},
     "output_type": "execute_result"
    },
    {
     "data": {
      "image/png": "[encoded data removed]",
      "text/plain": [
       "<Figure size 432x288 with 1 Axes>"
      ]
     },
     "metadata": {
      "needs_background": "light"
     },
     "output_type": "display_data"
    }
   ],
   "source": [
    "plt.plot(curves[0])\n",
    "plt.plot(curves_batchnorm[0])\n",
    "plt.legend(['No batch normalization', 'with batch normalization'])\n",
    "plt.xlabel('epoch')\n",
    "plt.ylabel('loss')"
   ]
  },
  {
   "cell_type": "code",
   "execution_count": null,
   "metadata": {},
   "outputs": [],
   "source": []
  }
 ],
 "metadata": {
  "kernelspec": {
   "display_name": "Python 3",
   "language": "python",
   "name": "python3"
  },
  "language_info": {
   "codemirror_mode": {
    "name": "ipython",
    "version": 3
   },
   "file_extension": ".py",
   "mimetype": "text/x-python",
   "name": "python",
   "nbconvert_exporter": "python",
   "pygments_lexer": "ipython3",
   "version": "3.7.2"
  }
 },
 "nbformat": 4,
 "nbformat_minor": 2
}
