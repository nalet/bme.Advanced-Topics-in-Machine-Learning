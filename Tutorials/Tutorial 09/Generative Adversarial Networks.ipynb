{
 "cells": [
  {
   "cell_type": "markdown",
   "metadata": {},
   "source": [
    "## PyTorch GAN Tutorial\n",
    "\n",
    "Source: [GitHub](https://github.com/mila-udem/welcome_tutorials/blob/master/pytorch/6.%20Generative%20Adversarial%20Networks.ipynb)"
   ]
  },
  {
   "cell_type": "markdown",
   "metadata": {},
   "source": [
    "## Generative Adversarial Networks (GAN) - DCGANs"
   ]
  },
  {
   "cell_type": "code",
   "execution_count": 1,
   "metadata": {},
   "outputs": [],
   "source": [
    "import time\n",
    "import numpy as np\n",
    "from __future__ import print_function"
   ]
  },
  {
   "cell_type": "code",
   "execution_count": 2,
   "metadata": {},
   "outputs": [],
   "source": [
    "import torch\n",
    "import torch.nn as nn\n",
    "import torch.optim as optim\n",
    "import torch.nn.init as init\n",
    "import torch.nn.functional as F\n",
    "from torch.autograd import Variable"
   ]
  },
  {
   "cell_type": "code",
   "execution_count": 3,
   "metadata": {},
   "outputs": [],
   "source": [
    "import torchvision\n",
    "import torchvision.transforms"
   ]
  },
  {
   "cell_type": "code",
   "execution_count": 4,
   "metadata": {},
   "outputs": [],
   "source": [
    "import matplotlib.pyplot as plt\n",
    "%matplotlib inline"
   ]
  },
  {
   "cell_type": "markdown",
   "metadata": {},
   "source": [
    "### Define image transformations &  Initialize datasets"
   ]
  },
  {
   "cell_type": "code",
   "execution_count": 5,
   "metadata": {},
   "outputs": [],
   "source": [
    "mnist_transforms = torchvision.transforms.Compose([torchvision.transforms.ToTensor()])\n",
    "mnist_train = torchvision.datasets.MNIST(root='./data', train=True, transform=mnist_transforms, download=True)"
   ]
  },
  {
   "cell_type": "code",
   "execution_count": 6,
   "metadata": {},
   "outputs": [],
   "source": [
    "trainloader = torch.utils.data.DataLoader(mnist_train, batch_size=64, shuffle=True, num_workers=2)"
   ]
  },
  {
   "cell_type": "markdown",
   "metadata": {},
   "source": [
    "### Create DCGAN Generator"
   ]
  },
  {
   "cell_type": "markdown",
   "metadata": {},
   "source": [
    "![caption](images/dcgan_g.png)"
   ]
  },
  {
   "cell_type": "markdown",
   "metadata": {},
   "source": [
    "\n",
    "      (deconv1): ConvTranspose2d(128, 128, kernel_size=(4, 4), stride=(1, 1), bias=False)\n",
    "      (bn1): BatchNorm2d(128, eps=1e-05, momentum=0.1, affine=True)\n",
    "\n",
    "      (deconv2): ConvTranspose2d(128, 64, kernel_size=(4, 4), stride=(2, 2), padding=(1, 1), bias=False)\n",
    "      (bn2): BatchNorm2d(64, eps=1e-05, momentum=0.1, affine=True)\n",
    "\n",
    "      (deconv3): ConvTranspose2d(64, 32, kernel_size=(4, 4), stride=(2, 2), padding=(1, 1), bias=False)\n",
    "      (bn3): BatchNorm2d(32, eps=1e-05, momentum=0.1, affine=True)\n",
    "\n",
    "      (deconv4): ConvTranspose2d(32, 1, kernel_size=(4, 4), stride=(2, 2), padding=(3, 3), bias=False)\n"
   ]
  },
  {
   "cell_type": "code",
   "execution_count": 7,
   "metadata": {},
   "outputs": [],
   "source": [
    "class Generator(nn.Module):\n",
    "    \"\"\"DCGAN Generator.\"\"\"\n",
    "    def __init__(self, z_dim=128, num_filters=32):\n",
    "        super(Generator, self).__init__()\n",
    "        self.z_dim = z_dim\n",
    "        self.num_filters = num_filters\n",
    "        \n",
    "        # 1 x 1 -> 4 x 4\n",
    "        self.deconv1 = nn.ConvTranspose2d(\n",
    "            in_channels=z_dim, out_channels=num_filters * 4,\n",
    "            kernel_size=(4, 4), bias=False\n",
    "        )\n",
    "        self.bn1 = nn.BatchNorm2d(num_filters * 4)\n",
    "        \n",
    "        # 4 x 4 -> 8 x 8\n",
    "        self.deconv2 = nn.ConvTranspose2d(\n",
    "            in_channels=num_filters * 4, out_channels=num_filters * 2,\n",
    "            kernel_size=(4, 4), stride=2, padding=1, bias=False,\n",
    "        )\n",
    "        self.bn2 = nn.BatchNorm2d(num_filters * 2)\n",
    "        \n",
    "        # 8 x 8 -> 16 x 16\n",
    "        self.deconv3 = nn.ConvTranspose2d(\n",
    "            in_channels=num_filters * 2, out_channels=num_filters,\n",
    "            kernel_size=(4, 4), stride=2, padding=1, bias=False,\n",
    "        )\n",
    "        self.bn3 = nn.BatchNorm2d(num_filters)\n",
    "        \n",
    "        # 16 x 16 -> 28 x 28\n",
    "        self.deconv4 = nn.ConvTranspose2d(\n",
    "            in_channels=num_filters, out_channels=1,\n",
    "            kernel_size=(4, 4), stride=2, padding=3, bias=False,\n",
    "        )\n",
    "        \n",
    "    def forward(self, x):\n",
    "        x = F.relu(self.bn1(self.deconv1(x)))\n",
    "        x = F.relu(self.bn2(self.deconv2(x)))\n",
    "        x = F.relu(self.bn3(self.deconv3(x)))\n",
    "        return F.tanh(self.deconv4(x))"
   ]
  },
  {
   "cell_type": "markdown",
   "metadata": {},
   "source": [
    "### Create DCGAN Discriminator"
   ]
  },
  {
   "cell_type": "markdown",
   "metadata": {},
   "source": [
    "![caption](images/dcgan_d.png)"
   ]
  },
  {
   "cell_type": "markdown",
   "metadata": {},
   "source": [
    "    \n",
    "    (conv1): Conv2d(1, 32, kernel_size=(4, 4), stride=(2, 2), padding=(1, 1), bias=False)\n",
    "    (bn1): BatchNorm2d(32, eps=1e-05, momentum=0.1, affine=True)\n",
    "    \n",
    "    (conv2): Conv2d(32, 64, kernel_size=(4, 4), stride=(2, 2), padding=(1, 1), bias=False)\n",
    "    (bn2): BatchNorm2d(64, eps=1e-05, momentum=0.1, affine=True)\n",
    "    \n",
    "    (conv3): Conv2d(64, 128, kernel_size=(4, 4), stride=(2, 2), padding=(1, 1), bias=False)\n",
    "    (bn3): BatchNorm2d(128, eps=1e-05, momentum=0.1, affine=True)\n",
    "    \n",
    "    (conv4): Conv2d(128, 1, kernel_size=(4, 4), stride=(2, 2), padding=(1, 1), bias=False)\n"
   ]
  },
  {
   "cell_type": "code",
   "execution_count": 8,
   "metadata": {},
   "outputs": [],
   "source": [
    "class Discriminator(nn.Module):\n",
    "    \"\"\"DCGAN Generator.\"\"\"\n",
    "    def __init__(self, num_filters=32):\n",
    "        super(Discriminator, self).__init__()\n",
    "        self.num_filters = num_filters\n",
    "        # 28 x 28 -> 14 x 14\n",
    "        self.conv1 = nn.Conv2d(\n",
    "            in_channels=1, out_channels=num_filters,\n",
    "            kernel_size=(4, 4), stride=2, padding=1, bias=False\n",
    "        )\n",
    "        self.bn1 = nn.BatchNorm2d(num_filters)\n",
    "        \n",
    "        # 14 x 14 -> 7 x 7\n",
    "        self.conv2 = nn.Conv2d(\n",
    "            in_channels=num_filters, out_channels=num_filters * 2,\n",
    "            kernel_size=(4, 4), stride=2, padding=1, bias=False,\n",
    "        )\n",
    "        self.bn2 = nn.BatchNorm2d(num_filters * 2)\n",
    "        \n",
    "        # 7 x 7 -> 3 x 3\n",
    "        self.conv3 = nn.Conv2d(\n",
    "            in_channels=num_filters * 2, out_channels=num_filters * 4,\n",
    "            kernel_size=(4, 4), stride=2, padding=1, bias=False,\n",
    "        )\n",
    "        self.bn3 = nn.BatchNorm2d(num_filters * 4)\n",
    "        \n",
    "        # 3 x 3 -> 1 x 1\n",
    "        self.conv4 = nn.Conv2d(\n",
    "            in_channels=num_filters * 4, out_channels=1,\n",
    "            kernel_size=(4, 4), stride=2, padding=1, bias=False,\n",
    "        )\n",
    "\n",
    "    def forward(self, x):\n",
    "        x = F.leaky_relu(self.bn1(self.conv1(x)), 0.2)\n",
    "        x = F.leaky_relu(self.bn2(self.conv2(x)), 0.2)\n",
    "        x = F.leaky_relu(self.bn3(self.conv3(x)), 0.2)\n",
    "        return F.sigmoid(self.conv4(x)).squeeze()"
   ]
  },
  {
   "cell_type": "code",
   "execution_count": 9,
   "metadata": {},
   "outputs": [],
   "source": [
    "cuda_available = torch.cuda.is_available()"
   ]
  },
  {
   "cell_type": "markdown",
   "metadata": {},
   "source": [
    "### Initialize Generator & Discriminator"
   ]
  },
  {
   "cell_type": "code",
   "execution_count": 10,
   "metadata": {},
   "outputs": [],
   "source": [
    "generator = Generator()\n",
    "discriminator = Discriminator()\n",
    "if cuda_available:\n",
    "    generator = generator.cuda()\n",
    "    discriminator = discriminator.cuda()\n",
    "\n",
    "loss = nn.BCELoss()\n",
    "optimizer_g = torch.optim.Adam(generator.parameters(), lr=2e-4)\n",
    "optimizer_d = torch.optim.Adam(discriminator.parameters(), lr=2e-4)"
   ]
  },
  {
   "cell_type": "markdown",
   "metadata": {},
   "source": [
    "### Training Loop"
   ]
  },
  {
   "cell_type": "code",
   "execution_count": 11,
   "metadata": {},
   "outputs": [
    {
     "name": "stderr",
     "output_type": "stream",
     "text": [
      "/home/simon/anaconda2/envs/pytorch/lib/python2.7/site-packages/ipykernel_launcher.py:50: UserWarning: invalid index of a 0-dim tensor. This will be an error in PyTorch 0.5. Use tensor.item() to convert a 0-dim tensor to a Python number\n",
      "/home/simon/anaconda2/envs/pytorch/lib/python2.7/site-packages/ipykernel_launcher.py:79: UserWarning: invalid index of a 0-dim tensor. This will be an error in PyTorch 0.5. Use tensor.item() to convert a 0-dim tensor to a Python number\n"
     ]
    },
    {
     "name": "stdout",
     "output_type": "stream",
     "text": [
      "Generator loss : 3.355\n",
      "Discriminator loss : 0.299\n",
      "Generator loss : 4.032\n",
      "Discriminator loss : 0.195\n",
      "Generator loss : 4.434\n",
      "Discriminator loss : 0.146\n",
      "Generator loss : 4.490\n",
      "Discriminator loss : 0.134\n",
      "Generator loss : 4.341\n",
      "Discriminator loss : 0.145\n",
      "Generator loss : 4.186\n",
      "Discriminator loss : 0.160\n",
      "Generator loss : 4.010\n",
      "Discriminator loss : 0.185\n",
      "Generator loss : 3.849\n",
      "Discriminator loss : 0.208\n",
      "Generator loss : 3.712\n",
      "Discriminator loss : 0.230\n",
      "Generator loss : 3.593\n",
      "Discriminator loss : 0.250\n",
      "Generator loss : 3.486\n",
      "Discriminator loss : 0.269\n",
      "Generator loss : 3.399\n",
      "Discriminator loss : 0.286\n",
      "Generator loss : 3.320\n",
      "Discriminator loss : 0.301\n",
      "Generator loss : 3.247\n",
      "Discriminator loss : 0.316\n",
      "Generator loss : 3.182\n",
      "Discriminator loss : 0.330\n",
      "Generator loss : 3.125\n",
      "Discriminator loss : 0.340\n",
      "Generator loss : 3.073\n",
      "Discriminator loss : 0.350\n",
      "Generator loss : 3.032\n",
      "Discriminator loss : 0.359\n",
      "Generator loss : 2.992\n",
      "Discriminator loss : 0.367\n",
      "Generator loss : 2.957\n",
      "Discriminator loss : 0.374\n",
      "Generator loss : 2.926\n",
      "Discriminator loss : 0.380\n",
      "Generator loss : 2.898\n",
      "Discriminator loss : 0.386\n",
      "Generator loss : 2.874\n",
      "Discriminator loss : 0.391\n",
      "Generator loss : 2.853\n",
      "Discriminator loss : 0.395\n",
      "Generator loss : 2.834\n",
      "Discriminator loss : 0.399\n",
      "Generator loss : 2.817\n",
      "Discriminator loss : 0.402\n",
      "Generator loss : 2.803\n",
      "Discriminator loss : 0.405\n",
      "Generator loss : 2.787\n",
      "Discriminator loss : 0.408\n",
      "Generator loss : 2.775\n",
      "Discriminator loss : 0.410\n",
      "Generator loss : 2.764\n",
      "Discriminator loss : 0.412\n",
      "Generator loss : 2.755\n",
      "Discriminator loss : 0.413\n",
      "Generator loss : 2.746\n",
      "Discriminator loss : 0.414\n",
      "Generator loss : 2.738\n",
      "Discriminator loss : 0.416\n",
      "Generator loss : 2.732\n",
      "Discriminator loss : 0.416\n",
      "Generator loss : 2.725\n",
      "Discriminator loss : 0.417\n",
      "Generator loss : 2.720\n",
      "Discriminator loss : 0.418\n",
      "Generator loss : 2.716\n",
      "Discriminator loss : 0.418\n",
      "Generator loss : 2.713\n",
      "Discriminator loss : 0.418\n",
      "Generator loss : 2.710\n",
      "Discriminator loss : 0.418\n",
      "Generator loss : 2.708\n",
      "Discriminator loss : 0.418\n",
      "Generator loss : 2.707\n",
      "Discriminator loss : 0.418\n",
      "Generator loss : 2.706\n",
      "Discriminator loss : 0.418\n",
      "Generator loss : 2.706\n",
      "Discriminator loss : 0.418\n",
      "Generator loss : 2.705\n",
      "Discriminator loss : 0.417\n",
      "Generator loss : 2.706\n",
      "Discriminator loss : 0.417\n",
      "Generator loss : 2.707\n",
      "Discriminator loss : 0.416\n",
      "Generator loss : 2.709\n",
      "Discriminator loss : 0.415\n",
      "Generator loss : 2.710\n",
      "Discriminator loss : 0.415\n",
      "Generator loss : 2.712\n",
      "Discriminator loss : 0.414\n",
      "Generator loss : 2.715\n",
      "Discriminator loss : 0.413\n"
     ]
    }
   ],
   "source": [
    "ctr = 0\n",
    "z_dim = 128\n",
    "\n",
    "minibatch_disc_losses = []\n",
    "minibatch_gen_losses = []\n",
    "\n",
    "for epoch in range(50):\n",
    "    losses = []\n",
    "    # Train\n",
    "    for batch_idx, (inputs, targets) in enumerate(trainloader):\n",
    "        ctr += 1\n",
    "        if cuda_available:\n",
    "            inputs, targets = inputs.cuda(), targets.cuda()\n",
    "        \n",
    "        inputs, targets = Variable(inputs), Variable(targets)\n",
    "        \n",
    "        zeros = Variable(torch.zeros(inputs.size(0)))\n",
    "        ones = Variable(torch.ones(inputs.size(0)))\n",
    "\n",
    "        if cuda_available:\n",
    "            zeros, ones = zeros.cuda(), ones.cuda()\n",
    "                \n",
    "        ############################\n",
    "        # (1) Update Discriminator \n",
    "        ############################\n",
    "        \n",
    "        # Sample z ~ N(0, 1)\n",
    "        minibatch_noise = Variable(torch.from_numpy(\n",
    "            np.random.randn(inputs.size(0), z_dim, 1, 1).astype(np.float32)\n",
    "        ))\n",
    "\n",
    "        if cuda_available:\n",
    "            minibatch_noise = minibatch_noise.cuda()\n",
    "        \n",
    "        # Zero gradients for the discriminator\n",
    "        optimizer_d.zero_grad()\n",
    "        \n",
    "        # Train with real examples\n",
    "        d_real = discriminator(inputs)\n",
    "\n",
    "        d_real_loss = loss(d_real, ones)  # Train discriminator to recognize real examples\n",
    "        d_real_loss.backward()\n",
    "        \n",
    "        # Train with fake examples from the generator\n",
    "        fake = generator(minibatch_noise).detach()  # Detach to prevent backpropping through the generator\n",
    "        d_fake = discriminator(fake)\n",
    "\n",
    "        d_fake_loss = loss(d_fake, zeros)  # Train discriminator to recognize generator samples\n",
    "        d_fake_loss.backward()\n",
    "        minibatch_disc_losses.append(d_real_loss.data[0] + d_fake_loss.data[0])\n",
    "        \n",
    "        # Update the discriminator\n",
    "        optimizer_d.step()\n",
    "\n",
    "            \n",
    "        ############################\n",
    "        # (2) Update Generator\n",
    "        ############################\n",
    "\n",
    "        # Zero gradients for the generator\n",
    "        optimizer_g.zero_grad()\n",
    "        \n",
    "        # Sample z ~ N(0, 1)\n",
    "        minibatch_noise = Variable(torch.from_numpy(\n",
    "            np.random.randn(inputs.size(0), z_dim, 1, 1).astype(np.float32)\n",
    "        ))\n",
    "\n",
    "        if cuda_available:\n",
    "            minibatch_noise = minibatch_noise.cuda()\n",
    "\n",
    "        d_fake = discriminator(generator(minibatch_noise))\n",
    "        g_loss = loss(d_fake, ones)  # Train generator to fool the discriminator into thinking these are real.\n",
    "\n",
    "        g_loss.backward()\n",
    "\n",
    "        # Update the generator\n",
    "        optimizer_g.step()\n",
    "\n",
    "        minibatch_gen_losses.append(g_loss.data[0])\n",
    "    \n",
    "    print('Generator loss : %.3f' % (np.mean(minibatch_gen_losses)))\n",
    "    print('Discriminator loss : %.3f' % (np.mean(minibatch_disc_losses)))"
   ]
  },
  {
   "cell_type": "markdown",
   "metadata": {},
   "source": [
    "### Sample from the Generator"
   ]
  },
  {
   "cell_type": "code",
   "execution_count": 12,
   "metadata": {},
   "outputs": [
    {
     "data": {
      "image/png": "[encoded data removed]",
      "text/plain": [
       "<Figure size 720x720 with 16 Axes>"
      ]
     },
     "metadata": {},
     "output_type": "display_data"
    }
   ],
   "source": [
    "# Set generator in evaluation mode to use running means and averages for Batchnorm\n",
    "generator.eval()\n",
    "\n",
    "# Sample z ~ N(0, 1)\n",
    "minibatch_noise = Variable(torch.from_numpy(\n",
    "    np.random.randn(16, z_dim, 1, 1).astype(np.float32)\n",
    "))\n",
    "\n",
    "if cuda_available:\n",
    "    minibatch_noise = minibatch_noise.cuda()\n",
    "\n",
    "fakes = generator(minibatch_noise)\n",
    "\n",
    "fig = plt.figure(figsize=(10, 10))\n",
    "idx = 1\n",
    "for ind, fake in enumerate(fakes):\n",
    "    fig.add_subplot(4, 4, ind + 1)\n",
    "    plt.imshow(fake.data.cpu().numpy().reshape(28, 28), cmap='gray')\n",
    "    plt.axis('off')"
   ]
  },
  {
   "cell_type": "code",
   "execution_count": null,
   "metadata": {
    "collapsed": true
   },
   "outputs": [],
   "source": []
  }
 ],
 "metadata": {
  "kernelspec": {
   "display_name": "Python 3",
   "language": "python",
   "name": "python3"
  },
  "language_info": {
   "codemirror_mode": {
    "name": "ipython",
    "version": 3
   },
   "file_extension": ".py",
   "mimetype": "text/x-python",
   "name": "python",
   "nbconvert_exporter": "python",
   "pygments_lexer": "ipython3",
   "version": "3.7.4"
  }
 },
 "nbformat": 4,
 "nbformat_minor": 2
}
