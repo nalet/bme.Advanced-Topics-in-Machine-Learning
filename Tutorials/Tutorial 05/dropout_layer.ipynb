{
 "cells": [
  {
   "cell_type": "markdown",
   "metadata": {},
   "source": [
    "# Dropout\n",
    "Example how dropout module is working  \n",
    "https://pytorch.org/docs/stable/nn.html#torch.nn.Dropout"
   ]
  },
  {
   "cell_type": "code",
   "execution_count": 1,
   "metadata": {},
   "outputs": [],
   "source": [
    "import torch\n",
    "import torch.nn as nn"
   ]
  },
  {
   "cell_type": "code",
   "execution_count": 2,
   "metadata": {},
   "outputs": [],
   "source": [
    "p=0.5\n",
    "dropout = nn.Dropout(p=p) # input units will be set to 0 with probability of 0.5"
   ]
  },
  {
   "cell_type": "code",
   "execution_count": 11,
   "metadata": {},
   "outputs": [],
   "source": [
    "outputs = torch.randn(5, 4) # a mini-batch of 5 vectors with 4 elements"
   ]
  },
  {
   "cell_type": "code",
   "execution_count": 12,
   "metadata": {},
   "outputs": [
    {
     "name": "stdout",
     "output_type": "stream",
     "text": [
      "tensor([[-1.6512, -0.2450,  1.6016,  1.5245],\n",
      "        [ 0.5314,  0.1052, -0.5480, -0.4406],\n",
      "        [ 0.5084, -1.0770, -1.7468,  0.1666],\n",
      "        [ 0.8514, -0.5135,  0.9936,  0.0461],\n",
      "        [-1.6448, -2.2044,  1.1541, -0.8650]])\n"
     ]
    }
   ],
   "source": [
    "# data.mean(1, keepdim=True)\n",
    "print(outputs)"
   ]
  },
  {
   "cell_type": "code",
   "execution_count": 13,
   "metadata": {},
   "outputs": [],
   "source": [
    "outputs_dropped = dropout(outputs)"
   ]
  },
  {
   "cell_type": "code",
   "execution_count": 14,
   "metadata": {},
   "outputs": [
    {
     "data": {
      "text/plain": [
       "tensor([[-3.3025, -0.0000,  0.0000,  3.0491],\n",
       "        [ 0.0000,  0.2103, -1.0959, -0.8811],\n",
       "        [ 0.0000, -0.0000, -0.0000,  0.0000],\n",
       "        [ 0.0000, -1.0271,  1.9871,  0.0000],\n",
       "        [-3.2897, -4.4089,  2.3083, -0.0000]])"
      ]
     },
     "execution_count": 14,
     "metadata": {},
     "output_type": "execute_result"
    }
   ],
   "source": [
    "outputs_dropped # in each vector some elements are randomly set to 0, the rest is scaled by 1/(1-p)"
   ]
  },
  {
   "cell_type": "code",
   "execution_count": 15,
   "metadata": {},
   "outputs": [
    {
     "data": {
      "text/plain": [
       "tensor([[-1.6512, -0.0000,  0.0000,  1.5245],\n",
       "        [ 0.0000,  0.1052, -0.5480, -0.4406],\n",
       "        [ 0.0000, -0.0000, -0.0000,  0.0000],\n",
       "        [ 0.0000, -0.5135,  0.9936,  0.0000],\n",
       "        [-1.6448, -2.2044,  1.1541, -0.0000]])"
      ]
     },
     "execution_count": 15,
     "metadata": {},
     "output_type": "execute_result"
    }
   ],
   "source": [
    "outputs_dropped * (1-p) # proof that data is scaled; now the non-zero elements match the original tensor"
   ]
  },
  {
   "cell_type": "markdown",
   "metadata": {},
   "source": [
    "# dropout.train() vs dropout.eval()\n",
    "Dropout is one of the layers the behaves differently in training (applies transformation) and differently in evaluation (does nothing). That's why we use **model.train()** at the beginning of training loop and **model.eval()** at the beginning of evaluation loop."
   ]
  },
  {
   "cell_type": "code",
   "execution_count": 16,
   "metadata": {},
   "outputs": [
    {
     "data": {
      "text/plain": [
       "tensor([[-1.6512, -0.2450,  1.6016,  1.5245],\n",
       "        [ 0.5314,  0.1052, -0.5480, -0.4406],\n",
       "        [ 0.5084, -1.0770, -1.7468,  0.1666],\n",
       "        [ 0.8514, -0.5135,  0.9936,  0.0461],\n",
       "        [-1.6448, -2.2044,  1.1541, -0.8650]])"
      ]
     },
     "execution_count": 16,
     "metadata": {},
     "output_type": "execute_result"
    }
   ],
   "source": [
    "dropout.eval()\n",
    "dropout(outputs) # input tensor is returned"
   ]
  },
  {
   "cell_type": "code",
   "execution_count": 17,
   "metadata": {},
   "outputs": [
    {
     "data": {
      "text/plain": [
       "tensor([[-0.0000, -0.4899,  0.0000,  0.0000],\n",
       "        [ 0.0000,  0.0000, -0.0000, -0.0000],\n",
       "        [ 1.0168, -0.0000, -0.0000,  0.3331],\n",
       "        [ 0.0000, -1.0271,  0.0000,  0.0000],\n",
       "        [-0.0000, -4.4089,  0.0000, -0.0000]])"
      ]
     },
     "execution_count": 17,
     "metadata": {},
     "output_type": "execute_result"
    }
   ],
   "source": [
    "dropout.train()\n",
    "dropout(outputs) # dropout is applied in training mode"
   ]
  },
  {
   "cell_type": "code",
   "execution_count": null,
   "metadata": {},
   "outputs": [],
   "source": []
  }
 ],
 "metadata": {
  "kernelspec": {
   "display_name": "Python 3",
   "language": "python",
   "name": "python3"
  },
  "language_info": {
   "codemirror_mode": {
    "name": "ipython",
    "version": 3
   },
   "file_extension": ".py",
   "mimetype": "text/x-python",
   "name": "python",
   "nbconvert_exporter": "python",
   "pygments_lexer": "ipython3",
   "version": "3.7.6"
  }
 },
 "nbformat": 4,
 "nbformat_minor": 4
}
