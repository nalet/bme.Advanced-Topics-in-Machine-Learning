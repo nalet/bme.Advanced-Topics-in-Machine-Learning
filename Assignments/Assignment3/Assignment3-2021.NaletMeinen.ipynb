{
 "cells": [
  {
   "cell_type": "markdown",
   "id": "innovative-governor",
   "metadata": {
    "id": "woVl0on9Z0oL"
   },
   "source": [
    "# ATML2021 Assignment 3 Nalet Meinen"
   ]
  },
  {
   "cell_type": "code",
   "execution_count": 1,
   "id": "auburn-adelaide",
   "metadata": {
    "papermill": {
     "duration": 1.641545,
     "end_time": "2021-04-26T16:31:09.473744",
     "exception": false,
     "start_time": "2021-04-26T16:31:07.832199",
     "status": "completed"
    },
    "tags": []
   },
   "outputs": [],
   "source": [
    "import os\n",
    "import numpy as np\n",
    "from torch.utils.data import Dataset, DataLoader, Subset, random_split\n",
    "import torch\n",
    "import torch.nn as nn\n",
    "import torchvision.transforms as transforms\n",
    "import torch.optim as optim\n",
    "import torchvision.transforms.functional as TF\n",
    "import time\n",
    "from tqdm.notebook import tqdm\n",
    "\n",
    "import matplotlib.pyplot as plt\n",
    "import PIL.Image as Image\n",
    "import pandas as pd\n",
    "import random\n",
    "\n",
    "import torchvision.utils as vutils"
   ]
  },
  {
   "cell_type": "code",
   "execution_count": 2,
   "id": "trying-identity",
   "metadata": {},
   "outputs": [
    {
     "name": "stdout",
     "output_type": "stream",
     "text": [
      "Mon May 24 14:15:54 2021       \n",
      "+-----------------------------------------------------------------------------+\n",
      "| NVIDIA-SMI 440.118.02   Driver Version: 440.118.02   CUDA Version: 10.2     |\n",
      "|-------------------------------+----------------------+----------------------+\n",
      "| GPU  Name        Persistence-M| Bus-Id        Disp.A | Volatile Uncorr. ECC |\n",
      "| Fan  Temp  Perf  Pwr:Usage/Cap|         Memory-Usage | GPU-Util  Compute M. |\n",
      "|===============================+======================+======================|\n",
      "|   0  GeForce GTX 108...  Off  | 00000000:03:00.0 Off |                  N/A |\n",
      "|  0%   50C    P2    65W / 250W |   2458MiB / 11178MiB |      3%      Default |\n",
      "+-------------------------------+----------------------+----------------------+\n",
      "|   1  GeForce GTX 108...  Off  | 00000000:04:00.0 Off |                  N/A |\n",
      "| 70%   78C    P0    90W / 250W |     10MiB / 11175MiB |      0%      Default |\n",
      "+-------------------------------+----------------------+----------------------+\n",
      "                                                                               \n",
      "+-----------------------------------------------------------------------------+\n",
      "| Processes:                                                       GPU Memory |\n",
      "|  GPU       PID   Type   Process name                             Usage      |\n",
      "|=============================================================================|\n",
      "|    0     24633      C   /home/ger/anaconda3/bin/python              1797MiB |\n",
      "|    0     31471      C   /home/ger/anaconda3/bin/python               651MiB |\n",
      "+-----------------------------------------------------------------------------+\n"
     ]
    }
   ],
   "source": [
    "!nvidia-smi"
   ]
  },
  {
   "cell_type": "markdown",
   "id": "boring-vegetarian",
   "metadata": {
    "papermill": {
     "duration": 0.012601,
     "end_time": "2021-04-26T16:31:09.499900",
     "exception": false,
     "start_time": "2021-04-26T16:31:09.487299",
     "status": "completed"
    },
    "tags": []
   },
   "source": [
    "Here we implement the dataset class, create the training, validation and test sets and the dataloaders."
   ]
  },
  {
   "cell_type": "code",
   "execution_count": 3,
   "id": "numerous-diameter",
   "metadata": {
    "papermill": {
     "duration": 0.027418,
     "end_time": "2021-04-26T16:31:09.540847",
     "exception": false,
     "start_time": "2021-04-26T16:31:09.513429",
     "status": "completed"
    },
    "tags": []
   },
   "outputs": [],
   "source": [
    "class LabeledDataset(Dataset):\n",
    "    def __init__(self, folder_path, phase='train', transform=None):\n",
    "        super(LabeledDataset, self).__init__()\n",
    "        self.phase = phase\n",
    "        if self.phase == 'train':\n",
    "            file_path = os.path.join(folder_path, 'train_32x32_500_label.npz')\n",
    "        elif self.phase == 'val':\n",
    "            file_path = os.path.join(folder_path, 'test_32x32_2000_label.npz')\n",
    "        elif self.phase == 'test':\n",
    "            file_path = os.path.join(folder_path, 'test_32x32_competition.npy')\n",
    "        elif self.phase == 'unlabel':\n",
    "            file_path = os.path.join(folder_path, 'train_32x32_unlabel.npy')\n",
    "        else:\n",
    "            print('Unrecognized phase')\n",
    "        data_load = np.load(file_path)\n",
    "        \n",
    "        if self.phase != 'test' and self.phase != 'unlabel':\n",
    "            self.dataset = data_load['img']\n",
    "            self.labels = data_load['label'].astype('int64')\n",
    "        else:\n",
    "            self.dataset = data_load\n",
    "            \n",
    "        self.transform = transform\n",
    "        \n",
    "    def __getitem__(self, index): \n",
    "        img_index = Image.fromarray(self.dataset[index,:])\n",
    "        if self.phase != 'test':\n",
    "            return self.transform(img_index), self.labels[index,0]\n",
    "        else:\n",
    "            return self.transform(img_index)\n",
    "\n",
    "    def __len__(self):\n",
    "        return self.dataset.shape[0]"
   ]
  },
  {
   "cell_type": "code",
   "execution_count": 4,
   "id": "secure-coating",
   "metadata": {
    "papermill": {
     "duration": 2.755011,
     "end_time": "2021-04-26T16:31:12.308810",
     "exception": false,
     "start_time": "2021-04-26T16:31:09.553799",
     "status": "completed"
    },
    "tags": []
   },
   "outputs": [],
   "source": [
    "transform=transforms.Compose([\n",
    "                               transforms.ToTensor(),\n",
    "                               transforms.Normalize((0.5, 0.5, 0.5), (0.5, 0.5, 0.5))\n",
    "                             ])\n",
    "\n",
    "train_set = LabeledDataset('.', phase='train', transform=transform)\n",
    "val_set = LabeledDataset('.', phase='val', transform=transform)\n",
    "test_set = LabeledDataset('.', phase='test', transform=transform)\n",
    "unlabel_set = LabeledDataset('.', phase='unlabel', transform=transform)\n",
    "\n",
    "batch_size = 128\n",
    "train_loader = DataLoader(train_set, batch_size=batch_size, shuffle=True, num_workers=2)\n",
    "val_loader = DataLoader(val_set, batch_size=batch_size, shuffle=False, num_workers=2)\n",
    "test_loader = DataLoader(test_set, batch_size=batch_size, shuffle=False, num_workers=2)\n",
    "unlabel_loader = DataLoader(train_set, batch_size=batch_size, shuffle=True, num_workers=2)"
   ]
  },
  {
   "cell_type": "code",
   "execution_count": 5,
   "id": "romantic-abraham",
   "metadata": {
    "papermill": {
     "duration": 0.279227,
     "end_time": "2021-04-26T16:31:12.601148",
     "exception": false,
     "start_time": "2021-04-26T16:31:12.321921",
     "status": "completed"
    },
    "tags": []
   },
   "outputs": [
    {
     "name": "stdout",
     "output_type": "stream",
     "text": [
      "Label: 7\n",
      "Image shape: torch.Size([3, 32, 32])\n"
     ]
    },
    {
     "data": {
      "image/png": "[encoded data removed]",
      "text/plain": [
       "<Figure size 432x288 with 1 Axes>"
      ]
     },
     "metadata": {
      "needs_background": "light"
     },
     "output_type": "display_data"
    }
   ],
   "source": [
    "sample_image = train_set[0]\n",
    "plt.imshow(sample_image[0].permute(1,2,0)*0.5 + 0.5)\n",
    "print(\"Label:\", sample_image[1])\n",
    "print(\"Image shape:\", sample_image[0].shape)"
   ]
  },
  {
   "cell_type": "markdown",
   "id": "bearing-barrel",
   "metadata": {
    "papermill": {
     "duration": 0.014937,
     "end_time": "2021-04-26T16:31:12.630729",
     "exception": false,
     "start_time": "2021-04-26T16:31:12.615792",
     "status": "completed"
    },
    "tags": []
   },
   "source": [
    "Let us define a fully-convolutional classifier."
   ]
  },
  {
   "cell_type": "code",
   "execution_count": 6,
   "id": "agreed-header",
   "metadata": {
    "papermill": {
     "duration": 0.028832,
     "end_time": "2021-04-26T16:31:12.674193",
     "exception": false,
     "start_time": "2021-04-26T16:31:12.645361",
     "status": "completed"
    },
    "tags": []
   },
   "outputs": [
    {
     "name": "stdout",
     "output_type": "stream",
     "text": [
      "Generator(\n",
      "  (main): Sequential(\n",
      "    (0): ConvTranspose2d(128, 512, kernel_size=(4, 4), stride=(1, 1), bias=False)\n",
      "    (1): BatchNorm2d(512, eps=1e-05, momentum=0.1, affine=True, track_running_stats=True)\n",
      "    (2): ReLU(inplace=True)\n",
      "    (3): ConvTranspose2d(512, 256, kernel_size=(4, 4), stride=(2, 2), padding=(1, 1), bias=False)\n",
      "    (4): BatchNorm2d(256, eps=1e-05, momentum=0.1, affine=True, track_running_stats=True)\n",
      "    (5): ReLU(inplace=True)\n",
      "    (6): ConvTranspose2d(256, 128, kernel_size=(4, 4), stride=(2, 2), padding=(1, 1), bias=False)\n",
      "    (7): BatchNorm2d(128, eps=1e-05, momentum=0.1, affine=True, track_running_stats=True)\n",
      "    (8): ReLU(inplace=True)\n",
      "    (9): ConvTranspose2d(128, 32, kernel_size=(4, 4), stride=(2, 2), padding=(1, 1), bias=False)\n",
      "    (10): BatchNorm2d(32, eps=1e-05, momentum=0.1, affine=True, track_running_stats=True)\n",
      "    (11): ReLU(inplace=True)\n",
      "    (12): ConvTranspose2d(32, 3, kernel_size=(4, 4), stride=(1, 1), padding=(1, 1), bias=False)\n",
      "    (13): Tanh()\n",
      "  )\n",
      ")\n",
      "Discriminator(\n",
      "  (layer01): Sequential(\n",
      "    (0): Conv2d(3, 64, kernel_size=(2, 2), stride=(2, 2), padding=(1, 1), bias=False)\n",
      "    (1): LeakyReLU(negative_slope=0.2, inplace=True)\n",
      "  )\n",
      "  (layer02): Sequential(\n",
      "    (0): Conv2d(64, 128, kernel_size=(2, 2), stride=(2, 2), padding=(1, 1), bias=False)\n",
      "    (1): BatchNorm2d(128, eps=1e-05, momentum=0.1, affine=True, track_running_stats=True)\n",
      "    (2): LeakyReLU(negative_slope=0.2, inplace=True)\n",
      "  )\n",
      "  (layer03): Sequential(\n",
      "    (0): Conv2d(128, 1024, kernel_size=(2, 2), stride=(2, 2), padding=(1, 1), bias=False)\n",
      "    (1): BatchNorm2d(1024, eps=1e-05, momentum=0.1, affine=True, track_running_stats=True)\n",
      "    (2): LeakyReLU(negative_slope=0.2, inplace=True)\n",
      "  )\n",
      "  (layer04): Sequential(\n",
      "    (0): Conv2d(1024, 128, kernel_size=(2, 2), stride=(2, 2), padding=(1, 1), bias=False)\n",
      "    (1): BatchNorm2d(128, eps=1e-05, momentum=0.1, affine=True, track_running_stats=True)\n",
      "    (2): LeakyReLU(negative_slope=0.2, inplace=True)\n",
      "  )\n",
      "  (layer05): Sequential(\n",
      "    (0): Conv2d(128, 1, kernel_size=(5, 5), stride=(1, 1), padding=(1, 1), bias=False)\n",
      "    (1): Sigmoid()\n",
      "  )\n",
      ")\n",
      "ClassifierNet(\n",
      "  (conv1): Conv2d(3, 64, kernel_size=(3, 3), stride=(1, 1), padding=(1, 1), bias=False)\n",
      "  (bn1): BatchNorm2d(64, eps=1e-05, momentum=0.1, affine=True, track_running_stats=True)\n",
      "  (layer1): Sequential(\n",
      "    (0): Block(\n",
      "      (conv1): Conv2d(64, 64, kernel_size=(3, 3), stride=(1, 1), padding=(1, 1), bias=False)\n",
      "      (bn1): BatchNorm2d(64, eps=1e-05, momentum=0.1, affine=True, track_running_stats=True)\n",
      "      (conv2): Conv2d(64, 64, kernel_size=(3, 3), stride=(1, 1), padding=(1, 1), bias=False)\n",
      "      (bn2): BatchNorm2d(64, eps=1e-05, momentum=0.1, affine=True, track_running_stats=True)\n",
      "      (shortcut): Sequential()\n",
      "    )\n",
      "    (1): Block(\n",
      "      (conv1): Conv2d(64, 64, kernel_size=(3, 3), stride=(1, 1), padding=(1, 1), bias=False)\n",
      "      (bn1): BatchNorm2d(64, eps=1e-05, momentum=0.1, affine=True, track_running_stats=True)\n",
      "      (conv2): Conv2d(64, 64, kernel_size=(3, 3), stride=(1, 1), padding=(1, 1), bias=False)\n",
      "      (bn2): BatchNorm2d(64, eps=1e-05, momentum=0.1, affine=True, track_running_stats=True)\n",
      "      (shortcut): Sequential()\n",
      "    )\n",
      "  )\n",
      "  (layer2): Sequential(\n",
      "    (0): Block(\n",
      "      (conv1): Conv2d(64, 128, kernel_size=(3, 3), stride=(2, 2), padding=(1, 1), bias=False)\n",
      "      (bn1): BatchNorm2d(128, eps=1e-05, momentum=0.1, affine=True, track_running_stats=True)\n",
      "      (conv2): Conv2d(128, 128, kernel_size=(3, 3), stride=(1, 1), padding=(1, 1), bias=False)\n",
      "      (bn2): BatchNorm2d(128, eps=1e-05, momentum=0.1, affine=True, track_running_stats=True)\n",
      "      (shortcut): Sequential(\n",
      "        (0): Conv2d(64, 128, kernel_size=(1, 1), stride=(2, 2), bias=False)\n",
      "        (1): BatchNorm2d(128, eps=1e-05, momentum=0.1, affine=True, track_running_stats=True)\n",
      "      )\n",
      "    )\n",
      "    (1): Block(\n",
      "      (conv1): Conv2d(128, 128, kernel_size=(3, 3), stride=(1, 1), padding=(1, 1), bias=False)\n",
      "      (bn1): BatchNorm2d(128, eps=1e-05, momentum=0.1, affine=True, track_running_stats=True)\n",
      "      (conv2): Conv2d(128, 128, kernel_size=(3, 3), stride=(1, 1), padding=(1, 1), bias=False)\n",
      "      (bn2): BatchNorm2d(128, eps=1e-05, momentum=0.1, affine=True, track_running_stats=True)\n",
      "      (shortcut): Sequential()\n",
      "    )\n",
      "  )\n",
      "  (layer3): Sequential(\n",
      "    (0): Block(\n",
      "      (conv1): Conv2d(128, 256, kernel_size=(3, 3), stride=(2, 2), padding=(1, 1), bias=False)\n",
      "      (bn1): BatchNorm2d(256, eps=1e-05, momentum=0.1, affine=True, track_running_stats=True)\n",
      "      (conv2): Conv2d(256, 256, kernel_size=(3, 3), stride=(1, 1), padding=(1, 1), bias=False)\n",
      "      (bn2): BatchNorm2d(256, eps=1e-05, momentum=0.1, affine=True, track_running_stats=True)\n",
      "      (shortcut): Sequential(\n",
      "        (0): Conv2d(128, 256, kernel_size=(1, 1), stride=(2, 2), bias=False)\n",
      "        (1): BatchNorm2d(256, eps=1e-05, momentum=0.1, affine=True, track_running_stats=True)\n",
      "      )\n",
      "    )\n",
      "    (1): Block(\n",
      "      (conv1): Conv2d(256, 256, kernel_size=(3, 3), stride=(1, 1), padding=(1, 1), bias=False)\n",
      "      (bn1): BatchNorm2d(256, eps=1e-05, momentum=0.1, affine=True, track_running_stats=True)\n",
      "      (conv2): Conv2d(256, 256, kernel_size=(3, 3), stride=(1, 1), padding=(1, 1), bias=False)\n",
      "      (bn2): BatchNorm2d(256, eps=1e-05, momentum=0.1, affine=True, track_running_stats=True)\n",
      "      (shortcut): Sequential()\n",
      "    )\n",
      "  )\n",
      "  (layer4): Sequential(\n",
      "    (0): Block(\n",
      "      (conv1): Conv2d(256, 512, kernel_size=(3, 3), stride=(2, 2), padding=(1, 1), bias=False)\n",
      "      (bn1): BatchNorm2d(512, eps=1e-05, momentum=0.1, affine=True, track_running_stats=True)\n",
      "      (conv2): Conv2d(512, 512, kernel_size=(3, 3), stride=(1, 1), padding=(1, 1), bias=False)\n",
      "      (bn2): BatchNorm2d(512, eps=1e-05, momentum=0.1, affine=True, track_running_stats=True)\n",
      "      (shortcut): Sequential(\n",
      "        (0): Conv2d(256, 512, kernel_size=(1, 1), stride=(2, 2), bias=False)\n",
      "        (1): BatchNorm2d(512, eps=1e-05, momentum=0.1, affine=True, track_running_stats=True)\n",
      "      )\n",
      "    )\n",
      "    (1): Block(\n",
      "      (conv1): Conv2d(512, 512, kernel_size=(3, 3), stride=(1, 1), padding=(1, 1), bias=False)\n",
      "      (bn1): BatchNorm2d(512, eps=1e-05, momentum=0.1, affine=True, track_running_stats=True)\n",
      "      (conv2): Conv2d(512, 512, kernel_size=(3, 3), stride=(1, 1), padding=(1, 1), bias=False)\n",
      "      (bn2): BatchNorm2d(512, eps=1e-05, momentum=0.1, affine=True, track_running_stats=True)\n",
      "      (shortcut): Sequential()\n",
      "    )\n",
      "  )\n",
      "  (linear): Linear(in_features=512, out_features=10, bias=True)\n",
      ")\n"
     ]
    }
   ],
   "source": [
    "class Generator(nn.Module):\n",
    "    def __init__(self):\n",
    "        super(Generator, self).__init__()\n",
    "        self.main = nn.Sequential(\n",
    "            nn.ConvTranspose2d(128, 512, 4, 1, 0, bias=False),\n",
    "            nn.BatchNorm2d(512),\n",
    "            nn.ReLU(True),\n",
    "\n",
    "            nn.ConvTranspose2d(512, 256, 4, 2, 1, bias=False),\n",
    "            nn.BatchNorm2d(256),\n",
    "            nn.ReLU(True),\n",
    "\n",
    "            nn.ConvTranspose2d(256, 128, 4, 2, 1, bias=False),\n",
    "            nn.BatchNorm2d(128),\n",
    "            nn.ReLU(True),\n",
    "\n",
    "            nn.ConvTranspose2d(128, 32, 4, 2, 1, bias=False),\n",
    "            nn.BatchNorm2d(32),\n",
    "            nn.ReLU(True),\n",
    "\n",
    "            nn.ConvTranspose2d(32, 3, 4, 1, 1, bias=False),\n",
    "            nn.Tanh()\n",
    "        )\n",
    "\n",
    "    def forward(self, input):\n",
    "        return self.main(input)\n",
    "\n",
    "class Discriminator(nn.Module):\n",
    "    def __init__(self):\n",
    "        super(Discriminator, self).__init__()\n",
    "        self.layer01 = nn.Sequential(\n",
    "            nn.Conv2d(3, 64, 2, 2, 1, bias=False),\n",
    "            nn.LeakyReLU(0.2, inplace=True)\n",
    "        )\n",
    "        self.layer02 = nn.Sequential(\n",
    "            nn.Conv2d(64, 128, 2, 2, 1, bias=False),\n",
    "            nn.BatchNorm2d(128),\n",
    "            nn.LeakyReLU(0.2, inplace=True)\n",
    "        )\n",
    "        self.layer03 = nn.Sequential(\n",
    "            nn.Conv2d(128, 1024, 2, 2, 1, bias=False),\n",
    "            nn.BatchNorm2d(1024),\n",
    "            nn.LeakyReLU(0.2, inplace=True)\n",
    "        )\n",
    "        self.layer04 = nn.Sequential(\n",
    "            nn.Conv2d(1024, 128, 2, 2, 1, bias=False),\n",
    "            nn.BatchNorm2d(128),\n",
    "            nn.LeakyReLU(0.2, inplace=True)\n",
    "        )\n",
    "        self.layer05 = nn.Sequential(\n",
    "            nn.Conv2d(128, 1, 5, 1, 1, bias=False),\n",
    "            nn.Sigmoid()\n",
    "        )\n",
    "\n",
    "    def forward(self, input):\n",
    "        output = self.layer01(input)\n",
    "        output = self.layer02(output)\n",
    "        output = self.layer03(output)\n",
    "        output = self.layer04(output)\n",
    "        output = self.layer05(output)\n",
    "        return output\n",
    "\n",
    "class Block(nn.Module):\n",
    "\n",
    "    def __init__(self, in_planes, planes, stride=1):\n",
    "        super(Block, self).__init__()\n",
    "        self.conv1 = nn.Conv2d(in_planes, planes, kernel_size=3, stride=stride, padding=1, bias=False)\n",
    "        self.bn1 = nn.BatchNorm2d(planes)\n",
    "        self.conv2 = nn.Conv2d(planes, planes, kernel_size=3, stride=1, padding=1, bias=False)\n",
    "        self.bn2 = nn.BatchNorm2d(planes)\n",
    "\n",
    "        self.shortcut = nn.Sequential()\n",
    "        if stride != 1 or in_planes != planes:\n",
    "            self.shortcut = nn.Sequential(\n",
    "                nn.Conv2d(in_planes, planes, kernel_size=1, stride=stride, bias=False), \n",
    "                nn.BatchNorm2d(planes)\n",
    "            )\n",
    "\n",
    "    def forward(self, input):\n",
    "        output = nn.functional.relu(self.bn1(self.conv1(input)))\n",
    "        output = self.bn2(self.conv2(output))\n",
    "        output += self.shortcut(input)\n",
    "        output = nn.functional.relu(output)\n",
    "        return output\n",
    "\n",
    "class ClassifierNet(nn.Module):\n",
    "\n",
    "    def __init__(self, num_blocks=[2, 2, 2, 2]):\n",
    "        super(ClassifierNet, self).__init__()\n",
    "        self.in_planes = 64\n",
    "\n",
    "        self.conv1 = nn.Conv2d(3, 64, kernel_size=3, stride=1, padding=1, bias=False)\n",
    "        self.bn1 = nn.BatchNorm2d(64)\n",
    "        self.layer1 = self._make_layer(64, num_blocks[0], stride=1)\n",
    "        self.layer2 = self._make_layer(128, num_blocks[1], stride=2)\n",
    "        self.layer3 = self._make_layer(256, num_blocks[2], stride=2)\n",
    "        self.layer4 = self._make_layer(512, num_blocks[3], stride=2)\n",
    "        self.linear = nn.Linear(512, 10)\n",
    "\n",
    "    def _make_layer(self, planes, num_blocks, stride):\n",
    "        strides = [stride] + [1] * (num_blocks - 1)\n",
    "        layers = []\n",
    "        for stride in strides:\n",
    "            layers.append(Block(self.in_planes, planes, stride))\n",
    "            self.in_planes = planes\n",
    "        return nn.Sequential(*layers)\n",
    "\n",
    "    def forward(self, input):\n",
    "        output = nn.functional.relu(self.bn1(self.conv1(input)))\n",
    "        output = self.layer1(output)\n",
    "        output = self.layer2(output)\n",
    "        output = self.layer3(output)\n",
    "        output = self.layer4(output)\n",
    "        output = nn.functional.avg_pool2d(output, 4)\n",
    "        output = torch.flatten(output, 1)\n",
    "        output = self.linear(output)\n",
    "        return nn.functional.log_softmax(output, dim=1)\n",
    "    \n",
    "print(Generator())\n",
    "print(Discriminator())\n",
    "print(ClassifierNet())"
   ]
  },
  {
   "cell_type": "code",
   "execution_count": 7,
   "id": "blind-haven",
   "metadata": {
    "papermill": {
     "duration": 0.106043,
     "end_time": "2021-04-26T16:31:12.857070",
     "exception": false,
     "start_time": "2021-04-26T16:31:12.751027",
     "status": "completed"
    },
    "tags": []
   },
   "outputs": [
    {
     "name": "stdout",
     "output_type": "stream",
     "text": [
      "Model output shape: torch.Size([4, 10])\n"
     ]
    }
   ],
   "source": [
    "device = torch.device(\"cuda:1\" if torch.cuda.is_available() else \"cpu\")\n",
    "\n",
    "model = ClassifierNet().to(device)\n",
    "\n",
    "noise = torch.randn(4, 3, 32, 32, device=device)\n",
    "out = model(noise)\n",
    "print(\"Model output shape:\", out.size())"
   ]
  },
  {
   "cell_type": "markdown",
   "id": "varying-module",
   "metadata": {
    "papermill": {
     "duration": 0.014656,
     "end_time": "2021-04-26T16:31:12.888505",
     "exception": false,
     "start_time": "2021-04-26T16:31:12.873849",
     "status": "completed"
    },
    "tags": []
   },
   "source": [
    "Define the criterion and the optimizer."
   ]
  },
  {
   "cell_type": "code",
   "execution_count": 8,
   "id": "normal-father",
   "metadata": {
    "papermill": {
     "duration": 0.02404,
     "end_time": "2021-04-26T16:31:12.927463",
     "exception": false,
     "start_time": "2021-04-26T16:31:12.903423",
     "status": "completed"
    },
    "tags": []
   },
   "outputs": [],
   "source": [
    "criterion = nn.CrossEntropyLoss()\n",
    "optimizer = optim.Adam(model.parameters(), lr=0.001)"
   ]
  },
  {
   "cell_type": "markdown",
   "id": "pointed-season",
   "metadata": {
    "papermill": {
     "duration": 0.014811,
     "end_time": "2021-04-26T16:31:12.957904",
     "exception": false,
     "start_time": "2021-04-26T16:31:12.943093",
     "status": "completed"
    },
    "tags": []
   },
   "source": [
    "Train the model for 20 epochs."
   ]
  },
  {
   "cell_type": "code",
   "execution_count": 9,
   "id": "refined-incentive",
   "metadata": {
    "papermill": {
     "duration": 39.208887,
     "end_time": "2021-04-26T16:31:52.181841",
     "exception": false,
     "start_time": "2021-04-26T16:31:12.972954",
     "status": "completed"
    },
    "tags": []
   },
   "outputs": [
    {
     "data": {
      "application/vnd.jupyter.widget-view+json": {
       "model_id": "af5270a72339496ca1b9a22746f4606b",
       "version_major": 2,
       "version_minor": 0
      },
      "text/plain": [
       "  0%|          | 0/200 [00:00<?, ?it/s]"
      ]
     },
     "metadata": {},
     "output_type": "display_data"
    }
   ],
   "source": [
    "for epoch in tqdm(range(200)):\n",
    "\n",
    "    running_loss = 0.0\n",
    "    for i, data in enumerate(train_loader, 0):\n",
    "        # get the inputs; data is a list of [inputs, labels]\n",
    "        inputs, labels = data\n",
    "        inputs, labels = inputs.to(device), labels.to(device)\n",
    "\n",
    "        # zero the parameter gradients\n",
    "        optimizer.zero_grad()\n",
    "\n",
    "        # forward + backward + optimize\n",
    "        outputs = model(inputs)\n",
    "        loss = criterion(outputs, labels)\n",
    "        loss.backward()\n",
    "        optimizer.step()\n",
    "\n",
    "        # print statistics\n",
    "        running_loss += loss.item()\n",
    "        if i % 10 == 9:    # print every 2000 mini-batches\n",
    "            print('[%d, %5d] loss: %.3f' %\n",
    "                  (epoch + 1, i + 1, loss.item()))\n",
    "            running_loss = 0.0"
   ]
  },
  {
   "cell_type": "markdown",
   "id": "exotic-democrat",
   "metadata": {
    "papermill": {
     "duration": 0.021433,
     "end_time": "2021-04-26T16:31:52.225521",
     "exception": false,
     "start_time": "2021-04-26T16:31:52.204088",
     "status": "completed"
    },
    "tags": []
   },
   "source": [
    "Test the model on the validation set."
   ]
  },
  {
   "cell_type": "code",
   "execution_count": 10,
   "id": "diverse-blair",
   "metadata": {
    "papermill": {
     "duration": 1.503937,
     "end_time": "2021-04-26T16:31:53.751798",
     "exception": false,
     "start_time": "2021-04-26T16:31:52.247861",
     "status": "completed"
    },
    "tags": []
   },
   "outputs": [
    {
     "name": "stdout",
     "output_type": "stream",
     "text": [
      "Accuracy of the network on the 2000 validation images: 39 %\n",
      "Val loss 3.776410222053528\n"
     ]
    }
   ],
   "source": [
    "correct = 0\n",
    "total = 0\n",
    "total_loss = 0\n",
    "with torch.no_grad():\n",
    "    for data in val_loader:\n",
    "        inputs, labels = data\n",
    "        inputs, labels = inputs.to(device), labels.to(device)\n",
    "        \n",
    "        outputs = model(inputs)\n",
    "        loss = criterion(outputs, labels)\n",
    "            \n",
    "        _, predicted = torch.max(outputs.data, 1)\n",
    "        total += labels.size(0)\n",
    "        correct += (predicted == labels).sum().item()\n",
    "        total_loss += loss.item()\n",
    "\n",
    "print('Accuracy of the network on the 2000 validation images: %d %%' % (\n",
    "    100 * correct / total))\n",
    "print('Val loss', total_loss / len(val_loader))"
   ]
  },
  {
   "cell_type": "code",
   "execution_count": null,
   "id": "looking-composite",
   "metadata": {
    "papermill": {
     "duration": 0.047805,
     "end_time": "2021-04-26T16:31:12.736554",
     "exception": false,
     "start_time": "2021-04-26T16:31:12.688749",
     "status": "completed"
    },
    "tags": []
   },
   "outputs": [
    {
     "data": {
      "application/vnd.jupyter.widget-view+json": {
       "model_id": "231def13352c4a05a6d116ce58f9153f",
       "version_major": 2,
       "version_minor": 0
      },
      "text/plain": [
       "  0%|          | 0/1000 [00:00<?, ?it/s]"
      ]
     },
     "metadata": {},
     "output_type": "display_data"
    }
   ],
   "source": [
    "# Number of training epochs\n",
    "num_epochs = 1000\n",
    "\n",
    "# Learning rate for optimizers\n",
    "lr = 0.0002\n",
    "\n",
    "# Beta1 hyperparam for Adam optimizers\n",
    "beta1 = 0.5\n",
    "\n",
    "netG = Generator().to(device)\n",
    "netD = Discriminator().to(device)\n",
    "\n",
    "criterion = nn.BCELoss()\n",
    "\n",
    "fixed_noise = torch.randn(64, 128, 1, 1, device=device)\n",
    "\n",
    "real_label = 1\n",
    "fake_label = 0\n",
    "\n",
    "optimizerD = optim.Adam(netD.parameters(), lr=lr, betas=(beta1, 0.999))\n",
    "optimizerG = optim.Adam(netG.parameters(), lr=lr, betas=(beta1, 0.999))\n",
    "\n",
    "img_list = []\n",
    "G_losses = []\n",
    "D_losses = []\n",
    "iters = 0\n",
    "\n",
    "pbar = tqdm(range(num_epochs))\n",
    "for epoch in pbar:\n",
    "    for i, data in enumerate(unlabel_loader):\n",
    "        # maximize log(D(x)) + log(1 - D(G(z)))\n",
    "        netD.zero_grad()\n",
    "        real_cpu = data[0].to(device)\n",
    "        b_size = real_cpu.size(0)\n",
    "        label = torch.full((b_size,), real_label, dtype=torch.float, device=device)\n",
    "        # Forward pass real batch through D\n",
    "        output = netD(real_cpu).view(-1)\n",
    "        # Calculate loss on all-real batch\n",
    "        errD_real = criterion(output, label)\n",
    "        errD_real.backward()\n",
    "        D_x = output.mean().item()\n",
    "\n",
    "        ## Train with all-fake batch\n",
    "        # Generate batch of latent vectors\n",
    "        noise = torch.randn(b_size, 128, 1, 1, device=device)\n",
    "        # Generate fake image batch with G\n",
    "        fake = netG(noise)\n",
    "        label.fill_(fake_label)\n",
    "        # Classify all fake batch with D\n",
    "        output = netD(fake.detach()).view(-1)\n",
    "        # Calculate D's loss on the all-fake batch\n",
    "        errD_fake = criterion(output, label)\n",
    "        # Calculate the gradients for this batch\n",
    "        errD_fake.backward()\n",
    "        D_G_z1 = output.mean().item()\n",
    "        # Add the gradients from the all-real and all-fake batches\n",
    "        errD = errD_real + errD_fake\n",
    "        # Update D\n",
    "        optimizerD.step()\n",
    "\n",
    "        # maximize log(D(G(z)))\n",
    "        netG.zero_grad()\n",
    "        label.fill_(real_label) \n",
    "        output = netD(fake).view(-1)\n",
    "        # Calculate G's loss based on this output\n",
    "        errG = criterion(output, label)\n",
    "        # Calculate gradients for G\n",
    "        errG.backward()\n",
    "        D_G_z2 = output.mean().item()\n",
    "        # Update G\n",
    "        optimizerG.step()\n",
    "\n",
    "        pbar.set_description('[%d/%d]\\tLoss_D: %.4f\\tLoss_G: %.4f\\tD(x): %.4f\\tD(G(z)): %.4f / %.4f'\n",
    "                            % (i, len(unlabel_loader), errD.item(), errG.item(), D_x, D_G_z1, D_G_z2))\n",
    "        \n",
    "        # Save Losses for plotting later\n",
    "        G_losses.append(errG.item())\n",
    "        D_losses.append(errD.item())\n",
    "    \n",
    "        iters += 1\n",
    "\n",
    "    with torch.no_grad():\n",
    "        fake = netG(fixed_noise).detach().cpu()\n",
    "        img_list.append(vutils.make_grid(fake, padding=2, normalize=True))\n",
    "        \n",
    "torch.save(netD.state_dict(), \"unsuperviced_pre-training.pht\")"
   ]
  },
  {
   "cell_type": "code",
   "execution_count": null,
   "id": "continuing-industry",
   "metadata": {},
   "outputs": [],
   "source": [
    "plt.figure(figsize=(10,5))\n",
    "plt.title(\"Generator and Discriminator Loss During Training\")\n",
    "plt.plot(G_losses,label=\"G\")\n",
    "plt.plot(D_losses,label=\"D\")\n",
    "plt.xlabel(\"iterations\")\n",
    "plt.ylabel(\"Loss\")\n",
    "plt.legend()\n",
    "plt.show()"
   ]
  },
  {
   "cell_type": "code",
   "execution_count": null,
   "id": "hearing-invention",
   "metadata": {},
   "outputs": [],
   "source": [
    "real_batch = next(iter(unlabel_loader))\n",
    "\n",
    "plt.figure(figsize=(15,15))\n",
    "plt.subplot(1,2,1)\n",
    "plt.axis(\"off\")\n",
    "plt.title(\"Real Images\")\n",
    "plt.imshow(np.transpose(vutils.make_grid(real_batch[0].to(device)[:64], padding=5, normalize=True).cpu(),(1,2,0)))\n",
    "\n",
    "plt.subplot(1,2,2)\n",
    "plt.axis(\"off\")\n",
    "plt.title(\"Fake Images\")\n",
    "plt.imshow(np.transpose(img_list[-1],(1,2,0)))\n",
    "plt.show()"
   ]
  },
  {
   "cell_type": "code",
   "execution_count": null,
   "id": "particular-victorian",
   "metadata": {},
   "outputs": [],
   "source": [
    "def train(model, train_loader, optimizer, loss_fn):\n",
    "    '''\n",
    "    Trains the model for one epoch\n",
    "    '''\n",
    "    model.train()\n",
    "    losses = []\n",
    "    n_correct = 0\n",
    "    for iteration, (images, labels) in enumerate(train_loader):\n",
    "        images = images.to(device)\n",
    "        labels = labels.to(device)\n",
    "        output = model(images)\n",
    "        optimizer.zero_grad()\n",
    "        loss = loss_fn(output, labels)\n",
    "        loss.backward()\n",
    "        optimizer.step()\n",
    "        losses.append(loss.item())\n",
    "        n_correct += torch.sum(output.argmax(1) == labels).item()\n",
    "    accuracy = 100.0 * n_correct / len(train_loader.dataset)\n",
    "    return np.mean(np.array(losses)), accuracy\n",
    "            \n",
    "def test(model, test_loader, loss_fn):\n",
    "    '''\n",
    "    Tests the model on data from test_loader\n",
    "    '''\n",
    "    model.eval()\n",
    "    test_loss = 0\n",
    "    n_correct = 0\n",
    "    with torch.no_grad():\n",
    "        for images, labels in test_loader:\n",
    "            images = images.to(device)\n",
    "            labels = labels.to(device)\n",
    "            output = model(images)\n",
    "            loss = loss_fn(output, labels)\n",
    "            test_loss += loss.item()\n",
    "            n_correct += torch.sum(output.argmax(1) == labels).item()\n",
    "\n",
    "    average_loss = test_loss / len(test_loader)\n",
    "    accuracy = 100.0 * n_correct / len(test_loader.dataset)\n",
    "    return average_loss, accuracy\n",
    "\n",
    "\n",
    "def fit(taskname,train_dataloader, val_dataloader, model, optimizer, loss_fn, n_epochs):\n",
    "\n",
    "    train_losses, train_accuracies = [], []\n",
    "    val_losses, val_accuracies = [], []\n",
    "\n",
    "    last_val_accuracies = 0\n",
    "    best_epoch = 1\n",
    "\n",
    "    for epoch in range(n_epochs):\n",
    "        train_loss, train_accuracy = train(model, train_dataloader, optimizer, loss_fn)\n",
    "        val_loss, val_accuracy = test(model, val_dataloader, loss_fn)\n",
    "        train_losses.append(train_loss)\n",
    "        train_accuracies.append(train_accuracy)\n",
    "        val_losses.append(val_loss)\n",
    "        val_accuracies.append(val_accuracy)\n",
    "\n",
    "        print(\"\"\"Epoch {}/{}: train_loss: {:.4f}, train_accuracy: {:.4f}, val_loss: {:.4f}, val_accuracy: {:.4f}\"\"\".format(\n",
    "                        epoch+1, n_epochs, train_losses[-1], train_accuracies[-1], val_losses[-1], val_accuracies[-1]))\n",
    "\n",
    "        if val_accuracies[-1] > last_val_accuracies:\n",
    "            torch.save(model.state_dict(), str(taskname)+\".pht\")\n",
    "            best_epoch = epoch+1\n",
    "            last_val_accuracies = val_accuracies[-1]\n",
    "\n",
    "    best_model = ClassifierNet()\n",
    "    best_model = best_model.to(device)\n",
    "    best_model.load_state_dict(torch.load(str(taskname)+\".pht\"))\n",
    "\n",
    "    return train_losses, train_accuracies, val_losses, val_accuracies, loss_fn, best_model, best_epoch\n",
    "\n",
    "def plot_results(train_results, test_dataloader, val_dataloader):\n",
    "    train_losses, train_accuracies, val_losses, val_accuracies, loss_fn, best_model, best_epoch = train_results\n",
    "\n",
    "    fig, axs = plt.subplots(1, 2, figsize=(15, 4))\n",
    "\n",
    "    axs[0].plot(np.arange(len(train_losses)), train_losses)\n",
    "    axs[0].plot(np.arange(len(val_losses)), val_losses)\n",
    "    axs[0].legend(['train_loss', 'val_loss'])\n",
    "    axs[0].set_xlabel('epoch')\n",
    "    axs[0].set_ylabel('loss value')\n",
    "    axs[0].set_title('Train/val loss')\n",
    "\n",
    "    axs[1].plot(np.arange(len(train_accuracies)), train_accuracies)\n",
    "    axs[1].plot(np.arange(len(val_accuracies)), val_accuracies)\n",
    "    axs[1].legend(['train_acc', 'val_acc'])\n",
    "    axs[1].set_xlabel('epoch')\n",
    "    axs[1].set_ylabel('accuracy')\n",
    "    axs[1].set_title('Train/val accuracy')\n",
    "\n",
    "    plt.show()\n",
    "\n",
    "    m_loss, accuracy = test(best_model, val_dataloader, loss_fn)\n",
    "    print(\"Best Epoch:\", best_epoch, \"Average loss:\", m_loss, \"Accuracy:\", accuracy)\n",
    "    torch.cuda.empty_cache()\n",
    "\n",
    "def test_pretrained(taskname,num_blocks,val_dataloader,loss_fn):\n",
    "    best_model = ClassifierNet(num_blocks)\n",
    "    best_model = best_model.to(device)\n",
    "    best_model.load_state_dict(torch.load(str(taskname)+\".pht\"))\n",
    "    m_loss, accuracy = test(best_model, val_dataloader, loss_fn)\n",
    "    print(\"Model:\", taskname, \"Average loss:\", m_loss, \"Accuracy:\", accuracy)\n",
    "\n",
    "def show_validation_errors(taskname,num_blocks,test_loader,num_images=10):\n",
    "    model = ClassifierNet(num_blocks)\n",
    "    model = model.to(device)\n",
    "    model.load_state_dict(torch.load(str(taskname)+\".pht\"))\n",
    "\n",
    "    model.eval()\n",
    "    images_so_far = 0\n",
    "    fig = plt.figure()\n",
    "\n",
    "    def imshow(inp, title=None):\n",
    "        \"\"\"Imshow for Tensor.\"\"\"\n",
    "        inp = inp.numpy().transpose((1, 2, 0))\n",
    "        mean = np.array(_t_mean)\n",
    "        std = np.array(_t_std)\n",
    "        inp = std * inp + mean\n",
    "        inp = np.clip(inp, 0, 1)\n",
    "        plt.figure(figsize=(5,5))\n",
    "        plt.imshow(inp)\n",
    "        if title is not None:\n",
    "            plt.title(title)\n",
    "        plt.pause(0.001)\n",
    "\n",
    "    with torch.no_grad():\n",
    "        for images, labels in test_loader:\n",
    "            images = images.to(device)\n",
    "            labels = labels.to(device)\n",
    "\n",
    "            output = model(images)\n",
    "            _, preds = torch.max(output, 1)\n",
    "            \n",
    "            for j in range(images.size()[0]):\n",
    "                if(labels.cpu().data[j] == preds[j]):\n",
    "                    continue\n",
    "                images_so_far += 1\n",
    "                ax = plt.subplot(num_images//2, 2, images_so_far)\n",
    "                ax.axis('off')\n",
    "                ax.set_title('actual: {}, predicted: {}'.format(labels.cpu().data[j], preds[j]))\n",
    "                imshow(images.cpu().data[j])\n",
    "\n",
    "                if images_so_far == num_images:\n",
    "                    return\n",
    "\n",
    "    average_loss = test_loss / len(test_loader)\n",
    "    accuracy = 100.0 * n_correct / len(test_loader.dataset)\n",
    "    return average_loss, accuracy"
   ]
  },
  {
   "cell_type": "code",
   "execution_count": null,
   "id": "aggressive-youth",
   "metadata": {},
   "outputs": [],
   "source": [
    "def get_transfer_model(): \n",
    "    #Preparations\n",
    "    pretrained_model = Discriminator()\n",
    "    pretrained_model = pretrained_model.to(device)\n",
    "    pretrained_model.load_state_dict(torch.load(\"unsuperviced_pre-training.pht\"))\n",
    "\n",
    "    #Transfer\n",
    "    transfer_model = ClassifierNet()\n",
    "    transfer_model.layer01 = pretrained_model.layer01\n",
    "    transfer_model.layer02 = pretrained_model.layer02\n",
    "    transfer_model.layer03 = pretrained_model.layer03\n",
    "    transfer_model.layer04 = pretrained_model.layer04\n",
    "    return transfer_model\n",
    "\n",
    "# train_dataloader = DataLoader(dataset_train_labelled, batch_size=batch_size, shuffle=True, num_workers=workers)\n",
    "# val_dataloader = DataLoader(dataset_validation_labelled, batch_size=batch_size, shuffle=False, num_workers=workers)\n",
    "n_epochs = 150\n",
    "loss_fn = nn.CrossEntropyLoss()"
   ]
  },
  {
   "cell_type": "code",
   "execution_count": null,
   "id": "experienced-intervention",
   "metadata": {},
   "outputs": [],
   "source": [
    "%%time\n",
    "model = ClassifierNet()\n",
    "model = model.to(device)\n",
    "model.load_state_dict(get_transfer_model().state_dict())\n",
    "\n",
    "model.layer01.requires_grad = False\n",
    "model.layer02.requires_grad = False\n",
    "model.layer03.requires_grad = False\n",
    "model.layer04.requires_grad = False\n",
    "\n",
    "lr = 0.001\n",
    "\n",
    "optimizer = optim.Adam(model.classifier.parameters(), lr=lr, betas=(beta1, 0.999))\n",
    "\n",
    "fixed_features_results = fit(\"fixed_features\", train_loader, val_loader, model, optimizer, loss_fn, n_epochs)\n",
    "plot_results(fixed_features_results, train_loader, val_loader)"
   ]
  },
  {
   "cell_type": "markdown",
   "id": "solar-bahrain",
   "metadata": {
    "papermill": {
     "duration": 0.023418,
     "end_time": "2021-04-26T16:31:53.797572",
     "exception": false,
     "start_time": "2021-04-26T16:31:53.774154",
     "status": "completed"
    },
    "tags": []
   },
   "source": [
    "We expect similar accuracy on the leaderboard. However, the overfitting is clear. Let us prepare the submission file."
   ]
  },
  {
   "cell_type": "code",
   "execution_count": null,
   "id": "known-integer",
   "metadata": {
    "papermill": {
     "duration": 16.195719,
     "end_time": "2021-04-26T16:32:10.016208",
     "exception": false,
     "start_time": "2021-04-26T16:31:53.820489",
     "status": "completed"
    },
    "tags": []
   },
   "outputs": [],
   "source": [
    "predictions = np.array([])\n",
    "\n",
    "with torch.no_grad():\n",
    "    for data in test_loader:\n",
    "        inputs = data\n",
    "        inputs = inputs.to(device)\n",
    "        \n",
    "        outputs = model(inputs)\n",
    "            \n",
    "        _, predicted = torch.max(outputs.data, 1)\n",
    "        predictions = np.append(predictions, predicted.cpu())"
   ]
  },
  {
   "cell_type": "code",
   "execution_count": null,
   "id": "listed-boundary",
   "metadata": {
    "papermill": {
     "duration": 0.035538,
     "end_time": "2021-04-26T16:32:10.074574",
     "exception": false,
     "start_time": "2021-04-26T16:32:10.039036",
     "status": "completed"
    },
    "tags": []
   },
   "outputs": [],
   "source": [
    "predictions = pd.DataFrame({\n",
    "    \"Id\": np.arange(predictions.size),\n",
    "    \"Category\": predictions},\n",
    "    dtype=np.int64)"
   ]
  },
  {
   "cell_type": "code",
   "execution_count": null,
   "id": "constant-reflection",
   "metadata": {
    "papermill": {
     "duration": 0.078572,
     "end_time": "2021-04-26T16:32:10.175270",
     "exception": false,
     "start_time": "2021-04-26T16:32:10.096698",
     "status": "completed"
    },
    "tags": []
   },
   "outputs": [],
   "source": [
    "predictions.to_csv(\"baseline_predictions.csv\", index=False)"
   ]
  }
 ],
 "metadata": {
  "kernelspec": {
   "display_name": "Python 3",
   "language": "python",
   "name": "python3"
  },
  "language_info": {
   "codemirror_mode": {
    "name": "ipython",
    "version": 3
   },
   "file_extension": ".py",
   "mimetype": "text/x-python",
   "name": "python",
   "nbconvert_exporter": "python",
   "pygments_lexer": "ipython3",
   "version": "3.7.6"
  },
  "papermill": {
   "default_parameters": {},
   "duration": 73.086541,
   "end_time": "2021-04-26T16:32:11.802556",
   "environment_variables": {},
   "exception": null,
   "input_path": "__notebook__.ipynb",
   "output_path": "__notebook__.ipynb",
   "parameters": {},
   "start_time": "2021-04-26T16:30:58.716015",
   "version": "2.3.3"
  }
 },
 "nbformat": 4,
 "nbformat_minor": 5
}
