{
 "cells": [
  {
   "cell_type": "markdown",
   "id": "directed-opinion",
   "metadata": {
    "id": "woVl0on9Z0oL"
   },
   "source": [
    "# ATML2021 Assignment 3 Nalet Meinen"
   ]
  },
  {
   "cell_type": "code",
   "execution_count": 1,
   "id": "linear-midnight",
   "metadata": {
    "papermill": {
     "duration": 1.641545,
     "end_time": "2021-04-26T16:31:09.473744",
     "exception": false,
     "start_time": "2021-04-26T16:31:07.832199",
     "status": "completed"
    },
    "tags": []
   },
   "outputs": [],
   "source": [
    "import os\n",
    "import numpy as np\n",
    "from torch.utils.data import Dataset, DataLoader, Subset, random_split\n",
    "import torch\n",
    "import torch.nn as nn\n",
    "import torchvision.transforms as transforms\n",
    "import torch.optim as optim\n",
    "import torchvision.transforms.functional as TF\n",
    "\n",
    "import matplotlib.pyplot as plt\n",
    "import PIL.Image as Image\n",
    "import pandas as pd\n",
    "import random"
   ]
  },
  {
   "cell_type": "code",
   "execution_count": 2,
   "id": "light-cheese",
   "metadata": {},
   "outputs": [
    {
     "name": "stdout",
     "output_type": "stream",
     "text": [
      "Sun May 16 17:26:48 2021       \n",
      "+-----------------------------------------------------------------------------+\n",
      "| NVIDIA-SMI 440.118.02   Driver Version: 440.118.02   CUDA Version: 10.2     |\n",
      "|-------------------------------+----------------------+----------------------+\n",
      "| GPU  Name        Persistence-M| Bus-Id        Disp.A | Volatile Uncorr. ECC |\n",
      "| Fan  Temp  Perf  Pwr:Usage/Cap|         Memory-Usage | GPU-Util  Compute M. |\n",
      "|===============================+======================+======================|\n",
      "|   0  GeForce GTX 108...  Off  | 00000000:03:00.0 Off |                  N/A |\n",
      "| 34%   42C    P5    19W / 250W |      0MiB / 11178MiB |      0%      Default |\n",
      "+-------------------------------+----------------------+----------------------+\n",
      "|   1  GeForce GTX 108...  Off  | 00000000:04:00.0 Off |                  N/A |\n",
      "| 36%   45C    P5    29W / 250W |      0MiB / 11175MiB |      3%      Default |\n",
      "+-------------------------------+----------------------+----------------------+\n",
      "                                                                               \n",
      "+-----------------------------------------------------------------------------+\n",
      "| Processes:                                                       GPU Memory |\n",
      "|  GPU       PID   Type   Process name                             Usage      |\n",
      "|=============================================================================|\n",
      "|  No running processes found                                                 |\n",
      "+-----------------------------------------------------------------------------+\n"
     ]
    }
   ],
   "source": [
    "!nvidia-smi"
   ]
  },
  {
   "cell_type": "markdown",
   "id": "everyday-funeral",
   "metadata": {
    "papermill": {
     "duration": 0.012601,
     "end_time": "2021-04-26T16:31:09.499900",
     "exception": false,
     "start_time": "2021-04-26T16:31:09.487299",
     "status": "completed"
    },
    "tags": []
   },
   "source": [
    "Here we implement the dataset class, create the training, validation and test sets and the dataloaders."
   ]
  },
  {
   "cell_type": "code",
   "execution_count": 3,
   "id": "prostate-weight",
   "metadata": {
    "papermill": {
     "duration": 0.027418,
     "end_time": "2021-04-26T16:31:09.540847",
     "exception": false,
     "start_time": "2021-04-26T16:31:09.513429",
     "status": "completed"
    },
    "tags": []
   },
   "outputs": [],
   "source": [
    "class LabeledDataset(Dataset):\n",
    "    def __init__(self, folder_path, phase='train', transform=None):\n",
    "        super(LabeledDataset, self).__init__()\n",
    "        self.phase = phase\n",
    "        if self.phase == 'train':\n",
    "            file_path = os.path.join(folder_path, 'train_32x32_500_label.npz')\n",
    "        elif self.phase == 'val':\n",
    "            file_path = os.path.join(folder_path, 'test_32x32_2000_label.npz')\n",
    "        elif self.phase == 'test':\n",
    "            file_path = os.path.join(folder_path, 'test_32x32_competition.npy')\n",
    "        else:\n",
    "            print('Unrecognized phase')\n",
    "        data_load = np.load(file_path)\n",
    "        \n",
    "        if self.phase != 'test':\n",
    "            self.dataset = data_load['img']\n",
    "            self.labels = data_load['label'].astype('int64')\n",
    "        else:\n",
    "            self.dataset = data_load\n",
    "            \n",
    "        self.transform = transform\n",
    "        \n",
    "    def __getitem__(self, index): \n",
    "        img_index = Image.fromarray(self.dataset[index,:])\n",
    "        if self.phase != 'test':\n",
    "            return self.transform(img_index), self.labels[index,0]\n",
    "        else:\n",
    "            return self.transform(img_index)\n",
    "\n",
    "    def __len__(self):\n",
    "        return self.dataset.shape[0]"
   ]
  },
  {
   "cell_type": "code",
   "execution_count": 4,
   "id": "demonstrated-discretion",
   "metadata": {
    "papermill": {
     "duration": 2.755011,
     "end_time": "2021-04-26T16:31:12.308810",
     "exception": false,
     "start_time": "2021-04-26T16:31:09.553799",
     "status": "completed"
    },
    "tags": []
   },
   "outputs": [],
   "source": [
    "transform=transforms.Compose([\n",
    "                               transforms.ToTensor(),\n",
    "                               transforms.Normalize((0.5, 0.5, 0.5), (0.5, 0.5, 0.5))\n",
    "                             ])\n",
    "\n",
    "train_set = LabeledDataset('.', phase='train', transform=transform)\n",
    "val_set = LabeledDataset('.', phase='val', transform=transform)\n",
    "test_set = LabeledDataset('.', phase='test', transform=transform)\n",
    "\n",
    "batch_size = 64\n",
    "train_loader = DataLoader(train_set, batch_size=batch_size, shuffle=True, num_workers=2)\n",
    "val_loader = DataLoader(val_set, batch_size=batch_size, shuffle=False, num_workers=2)\n",
    "test_loader = DataLoader(test_set, batch_size=batch_size, shuffle=False, num_workers=2)"
   ]
  },
  {
   "cell_type": "code",
   "execution_count": 5,
   "id": "sexual-baker",
   "metadata": {
    "papermill": {
     "duration": 0.279227,
     "end_time": "2021-04-26T16:31:12.601148",
     "exception": false,
     "start_time": "2021-04-26T16:31:12.321921",
     "status": "completed"
    },
    "tags": []
   },
   "outputs": [
    {
     "name": "stdout",
     "output_type": "stream",
     "text": [
      "Label: 7\n",
      "Image shape: torch.Size([3, 32, 32])\n"
     ]
    },
    {
     "data": {
      "image/png": "[encoded data removed]",
      "text/plain": [
       "<Figure size 432x288 with 1 Axes>"
      ]
     },
     "metadata": {
      "needs_background": "light"
     },
     "output_type": "display_data"
    }
   ],
   "source": [
    "sample_image = train_set[0]\n",
    "plt.imshow(sample_image[0].permute(1,2,0)*0.5 + 0.5)\n",
    "print(\"Label:\", sample_image[1])\n",
    "print(\"Image shape:\", sample_image[0].shape)"
   ]
  },
  {
   "cell_type": "markdown",
   "id": "institutional-writing",
   "metadata": {
    "papermill": {
     "duration": 0.014937,
     "end_time": "2021-04-26T16:31:12.630729",
     "exception": false,
     "start_time": "2021-04-26T16:31:12.615792",
     "status": "completed"
    },
    "tags": []
   },
   "source": [
    "Let us define a fully-convolutional classifier."
   ]
  },
  {
   "cell_type": "code",
   "execution_count": 6,
   "id": "standard-clearance",
   "metadata": {
    "papermill": {
     "duration": 0.028832,
     "end_time": "2021-04-26T16:31:12.674193",
     "exception": false,
     "start_time": "2021-04-26T16:31:12.645361",
     "status": "completed"
    },
    "tags": []
   },
   "outputs": [],
   "source": [
    "class ClassifierNet(nn.Module):\n",
    "    def __init__(self, ndf=64, nc=3, num_classes=10):\n",
    "        super(ClassifierNet, self).__init__()\n",
    "        self.conv1 = nn.Sequential(\n",
    "            nn.Conv2d(nc, ndf, 4, 2, 1),\n",
    "            nn.BatchNorm2d(ndf),\n",
    "            nn.ReLU(inplace=True)\n",
    "        )\n",
    "        self.conv2 = nn.Sequential(\n",
    "            nn.Conv2d(ndf, ndf * 2, 4, 2, 1),\n",
    "            nn.BatchNorm2d(ndf * 2),\n",
    "            nn.ReLU(inplace=True)\n",
    "        )\n",
    "        self.conv3 = nn.Sequential(\n",
    "            nn.Conv2d(ndf * 2, ndf * 4, 4, 2, 1),\n",
    "            nn.BatchNorm2d(ndf * 4),\n",
    "            nn.ReLU(inplace=True)\n",
    "        )\n",
    "        self.classification_head = nn.Sequential(\n",
    "            nn.Conv2d(ndf * 4, num_classes, 4, 1, 0)\n",
    "        )\n",
    "        \n",
    "    def forward(self, img):\n",
    "        output = self.conv1(img)\n",
    "        output = self.conv2(output)\n",
    "        output = self.conv3(output)\n",
    "        output = self.classification_head(output)\n",
    "        return output.squeeze(3).squeeze(2)"
   ]
  },
  {
   "cell_type": "code",
   "execution_count": 7,
   "id": "established-occurrence",
   "metadata": {
    "papermill": {
     "duration": 0.047805,
     "end_time": "2021-04-26T16:31:12.736554",
     "exception": false,
     "start_time": "2021-04-26T16:31:12.688749",
     "status": "completed"
    },
    "tags": []
   },
   "outputs": [],
   "source": [
    "device = torch.device(\"cuda\" if torch.cuda.is_available() else \"cpu\")\n",
    "\n",
    "model = ClassifierNet().to(device)"
   ]
  },
  {
   "cell_type": "code",
   "execution_count": 8,
   "id": "retained-appraisal",
   "metadata": {
    "papermill": {
     "duration": 0.106043,
     "end_time": "2021-04-26T16:31:12.857070",
     "exception": false,
     "start_time": "2021-04-26T16:31:12.751027",
     "status": "completed"
    },
    "tags": []
   },
   "outputs": [
    {
     "name": "stdout",
     "output_type": "stream",
     "text": [
      "Model output shape: torch.Size([4, 10])\n"
     ]
    }
   ],
   "source": [
    "noise = torch.randn(4, 3, 32, 32, device=device)\n",
    "out = model(noise)\n",
    "print(\"Model output shape:\", out.size())"
   ]
  },
  {
   "cell_type": "markdown",
   "id": "killing-knock",
   "metadata": {
    "papermill": {
     "duration": 0.014656,
     "end_time": "2021-04-26T16:31:12.888505",
     "exception": false,
     "start_time": "2021-04-26T16:31:12.873849",
     "status": "completed"
    },
    "tags": []
   },
   "source": [
    "Define the criterion and the optimizer."
   ]
  },
  {
   "cell_type": "code",
   "execution_count": 9,
   "id": "injured-necessity",
   "metadata": {
    "papermill": {
     "duration": 0.02404,
     "end_time": "2021-04-26T16:31:12.927463",
     "exception": false,
     "start_time": "2021-04-26T16:31:12.903423",
     "status": "completed"
    },
    "tags": []
   },
   "outputs": [],
   "source": [
    "criterion = nn.CrossEntropyLoss()\n",
    "optimizer = optim.Adam(model.parameters(), lr=0.001)"
   ]
  },
  {
   "cell_type": "markdown",
   "id": "final-intervention",
   "metadata": {
    "papermill": {
     "duration": 0.014811,
     "end_time": "2021-04-26T16:31:12.957904",
     "exception": false,
     "start_time": "2021-04-26T16:31:12.943093",
     "status": "completed"
    },
    "tags": []
   },
   "source": [
    "Train the model for 20 epochs."
   ]
  },
  {
   "cell_type": "code",
   "execution_count": 10,
   "id": "unusual-promotion",
   "metadata": {
    "papermill": {
     "duration": 39.208887,
     "end_time": "2021-04-26T16:31:52.181841",
     "exception": false,
     "start_time": "2021-04-26T16:31:12.972954",
     "status": "completed"
    },
    "tags": []
   },
   "outputs": [],
   "source": [
    "for epoch in range(20):\n",
    "\n",
    "    running_loss = 0.0\n",
    "    for i, data in enumerate(train_loader, 0):\n",
    "        # get the inputs; data is a list of [inputs, labels]\n",
    "        inputs, labels = data\n",
    "        inputs, labels = inputs.to(device), labels.to(device)\n",
    "\n",
    "        # zero the parameter gradients\n",
    "        optimizer.zero_grad()\n",
    "\n",
    "        # forward + backward + optimize\n",
    "        outputs = model(inputs)\n",
    "        loss = criterion(outputs, labels)\n",
    "        loss.backward()\n",
    "        optimizer.step()\n",
    "\n",
    "        # print statistics\n",
    "        running_loss += loss.item()\n",
    "        if i % 10 == 9:    # print every 2000 mini-batches\n",
    "            print('[%d, %5d] loss: %.3f' %\n",
    "                  (epoch + 1, i + 1, loss.item()))\n",
    "            running_loss = 0.0"
   ]
  },
  {
   "cell_type": "markdown",
   "id": "falling-florida",
   "metadata": {
    "papermill": {
     "duration": 0.021433,
     "end_time": "2021-04-26T16:31:52.225521",
     "exception": false,
     "start_time": "2021-04-26T16:31:52.204088",
     "status": "completed"
    },
    "tags": []
   },
   "source": [
    "Test the model on the validation set."
   ]
  },
  {
   "cell_type": "code",
   "execution_count": 11,
   "id": "motivated-shell",
   "metadata": {
    "papermill": {
     "duration": 1.503937,
     "end_time": "2021-04-26T16:31:53.751798",
     "exception": false,
     "start_time": "2021-04-26T16:31:52.247861",
     "status": "completed"
    },
    "tags": []
   },
   "outputs": [
    {
     "name": "stdout",
     "output_type": "stream",
     "text": [
      "Accuracy of the network on the 2000 validation images: 57 %\n",
      "Val loss 1.4588234722614288\n"
     ]
    }
   ],
   "source": [
    "correct = 0\n",
    "total = 0\n",
    "total_loss = 0\n",
    "with torch.no_grad():\n",
    "    for data in val_loader:\n",
    "        inputs, labels = data\n",
    "        inputs, labels = inputs.to(device), labels.to(device)\n",
    "        \n",
    "        outputs = model(inputs)\n",
    "        loss = criterion(outputs, labels)\n",
    "            \n",
    "        _, predicted = torch.max(outputs.data, 1)\n",
    "        total += labels.size(0)\n",
    "        correct += (predicted == labels).sum().item()\n",
    "        total_loss += loss.item()\n",
    "\n",
    "print('Accuracy of the network on the 2000 validation images: %d %%' % (\n",
    "    100 * correct / total))\n",
    "print('Val loss', total_loss / len(val_loader))"
   ]
  },
  {
   "cell_type": "markdown",
   "id": "instrumental-preservation",
   "metadata": {
    "papermill": {
     "duration": 0.023418,
     "end_time": "2021-04-26T16:31:53.797572",
     "exception": false,
     "start_time": "2021-04-26T16:31:53.774154",
     "status": "completed"
    },
    "tags": []
   },
   "source": [
    "We expect similar accuracy on the leaderboard. However, the overfitting is clear. Let us prepare the submission file."
   ]
  },
  {
   "cell_type": "code",
   "execution_count": 12,
   "id": "cognitive-practitioner",
   "metadata": {
    "papermill": {
     "duration": 16.195719,
     "end_time": "2021-04-26T16:32:10.016208",
     "exception": false,
     "start_time": "2021-04-26T16:31:53.820489",
     "status": "completed"
    },
    "tags": []
   },
   "outputs": [],
   "source": [
    "predictions = np.array([])\n",
    "\n",
    "with torch.no_grad():\n",
    "    for data in test_loader:\n",
    "        inputs = data\n",
    "        inputs = inputs.to(device)\n",
    "        \n",
    "        outputs = model(inputs)\n",
    "            \n",
    "        _, predicted = torch.max(outputs.data, 1)\n",
    "        predictions = np.append(predictions, predicted.cpu())"
   ]
  },
  {
   "cell_type": "code",
   "execution_count": 13,
   "id": "bacterial-champagne",
   "metadata": {
    "papermill": {
     "duration": 0.035538,
     "end_time": "2021-04-26T16:32:10.074574",
     "exception": false,
     "start_time": "2021-04-26T16:32:10.039036",
     "status": "completed"
    },
    "tags": []
   },
   "outputs": [],
   "source": [
    "predictions = pd.DataFrame({\n",
    "    \"Id\": np.arange(predictions.size),\n",
    "    \"Category\": predictions},\n",
    "    dtype=np.int64)"
   ]
  },
  {
   "cell_type": "code",
   "execution_count": 14,
   "id": "large-alberta",
   "metadata": {
    "papermill": {
     "duration": 0.078572,
     "end_time": "2021-04-26T16:32:10.175270",
     "exception": false,
     "start_time": "2021-04-26T16:32:10.096698",
     "status": "completed"
    },
    "tags": []
   },
   "outputs": [],
   "source": [
    "predictions.to_csv(\"baseline_predictions.csv\", index=False)"
   ]
  }
 ],
 "metadata": {
  "kernelspec": {
   "display_name": "Python 3",
   "language": "python",
   "name": "python3"
  },
  "language_info": {
   "codemirror_mode": {
    "name": "ipython",
    "version": 3
   },
   "file_extension": ".py",
   "mimetype": "text/x-python",
   "name": "python",
   "nbconvert_exporter": "python",
   "pygments_lexer": "ipython3",
   "version": "3.7.6"
  },
  "papermill": {
   "default_parameters": {},
   "duration": 73.086541,
   "end_time": "2021-04-26T16:32:11.802556",
   "environment_variables": {},
   "exception": null,
   "input_path": "__notebook__.ipynb",
   "output_path": "__notebook__.ipynb",
   "parameters": {},
   "start_time": "2021-04-26T16:30:58.716015",
   "version": "2.3.3"
  }
 },
 "nbformat": 4,
 "nbformat_minor": 5
}
