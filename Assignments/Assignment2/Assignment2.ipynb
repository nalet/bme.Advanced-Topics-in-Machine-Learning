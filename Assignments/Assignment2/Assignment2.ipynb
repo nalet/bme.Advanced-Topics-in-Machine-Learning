{
 "cells": [
  {
   "cell_type": "markdown",
   "metadata": {},
   "source": [
    "# Name: Nalet Meinen¶"
   ]
  },
  {
   "cell_type": "markdown",
   "metadata": {},
   "source": [
    "# Assignment 2 ATML 2020\n",
    "## Classification with limited data\n",
    "ImageNet is a well known dataset with 1000 image classes. We will be working on a subset of the dataset (60k images, 100 classes, 600 images per class 80$\\times$80 pixels, RGB) and train a model to classify an image into one of the 100 classes. The dataset is located under the \"data\" directory. Training and validation data splits are under \"data/train\" and \"data/val\" directories respectively. Both splits consist of 100 directories, each representing an object category."
   ]
  },
  {
   "cell_type": "markdown",
   "metadata": {},
   "source": [
    "## Task 1. Implement ImageNetLimited class for data loading in datasets.py file"
   ]
  },
  {
   "cell_type": "code",
   "execution_count": 1,
   "metadata": {},
   "outputs": [
    {
     "name": "stdout",
     "output_type": "stream",
     "text": [
      "This nootebook ran on cuda With number of GPU: 1\n"
     ]
    },
    {
     "data": {
      "application/vnd.jupyter.widget-view+json": {
       "model_id": "1c4e3facff6245eaae8494d50adbc9a2",
       "version_major": 2,
       "version_minor": 0
      },
      "text/plain": [
       "HBox(children=(FloatProgress(value=0.0, max=60000.0), HTML(value='')))"
      ]
     },
     "metadata": {},
     "output_type": "display_data"
    },
    {
     "name": "stdout",
     "output_type": "stream",
     "text": [
      "\n"
     ]
    },
    {
     "data": {
      "application/vnd.jupyter.widget-view+json": {
       "model_id": "68120a02938d48c191580bd7de680689",
       "version_major": 2,
       "version_minor": 0
      },
      "text/plain": [
       "HBox(children=(FloatProgress(value=0.0, max=29855.0), HTML(value='')))"
      ]
     },
     "metadata": {},
     "output_type": "display_data"
    },
    {
     "name": "stdout",
     "output_type": "stream",
     "text": [
      "\n"
     ]
    }
   ],
   "source": [
    "import numpy as np\n",
    "import torch\n",
    "from torchvision.datasets import ImageFolder\n",
    "from torchvision.transforms import Resize, ToTensor, Normalize, Compose, CenterCrop\n",
    "from datasets import ImageNetLimited\n",
    "from torch.utils.data import DataLoader\n",
    "from tqdm.notebook import tqdm\n",
    "import matplotlib.pyplot as plt\n",
    "device = torch.device('cuda' if torch.cuda.is_available() else 'cpu')\n",
    "if device.type == 'cuda':\n",
    "    print(\"This nootebook ran on\",device.type,\"With number of GPU:\",torch.cuda.device_count())\n",
    "\n",
    "train_dir = 'data/train'\n",
    "validation_dir = 'data/val'\n",
    "len_classes = 100\n",
    "\n",
    "# write your code\n",
    "transforms = Compose(   [Resize(64),\n",
    "                        ToTensor(),\n",
    "                        Normalize(mean=[0.485, 0.456, 0.406], std=[0.229, 0.224, 0.225])])\n",
    "\n",
    "_train_dataset = ImageFolder(train_dir, transform=transforms)\n",
    "_val_dataset = ImageFolder(validation_dir, transform=transforms)\n",
    "\n",
    "train_dataset = ImageNetLimited(_train_dataset)\n",
    "val_dataset = ImageNetLimited(_val_dataset)\n",
    "\n",
    "batch_size = 32\n",
    "train_dataloader = DataLoader(train_dataset, batch_size=batch_size, shuffle=True, num_workers=0) #set num_workers = 0, to fix BrokenPipeError in Windows\n",
    "val_dataloader = DataLoader(val_dataset, batch_size=batch_size, shuffle=False, num_workers=0)"
   ]
  },
  {
   "cell_type": "markdown",
   "metadata": {},
   "source": [
    "## Task 2. CNN Architecture\n",
    "Design and implement a Convolutional Neural Network architecture for image classification in a **ConvNet** class in the notebook. Some examples of popular classification models are: AlexNet, VGG, ResNet, ... Justify your design choices in the report. The input to your model must be an image of size $64 \\times 64$ pixels."
   ]
  },
  {
   "cell_type": "code",
   "execution_count": 2,
   "metadata": {},
   "outputs": [],
   "source": [
    "import torch.nn as nn\n",
    "\n",
    "class ConvNet(nn.Module):\n",
    "    def __init__(self, num_classes=100):\n",
    "        super(ConvNet, self).__init__()\n",
    "        self.features = nn.Sequential(\n",
    "            nn.Conv2d(3, 64, kernel_size=11, stride=4, padding=2),\n",
    "            nn.ReLU(inplace=True),\n",
    "            nn.MaxPool2d(kernel_size=3, stride=2),\n",
    "            nn.Conv2d(64, 192, kernel_size=5, padding=2),\n",
    "            nn.ReLU(inplace=True),\n",
    "            nn.MaxPool2d(kernel_size=3, stride=2),\n",
    "            nn.Conv2d(192, 384, kernel_size=3, padding=1),\n",
    "            nn.ReLU(inplace=True),\n",
    "            nn.Conv2d(384, 256, kernel_size=3, padding=1),\n",
    "            nn.ReLU(inplace=True),\n",
    "            nn.Conv2d(256, 256, kernel_size=3, padding=1),\n",
    "            nn.ReLU(inplace=True),\n",
    "            nn.MaxPool2d(kernel_size=3, stride=2),\n",
    "        )\n",
    "        self.avgpool = nn.AdaptiveAvgPool2d((6, 6))\n",
    "        self.classifier = nn.Sequential(\n",
    "            nn.Dropout(),\n",
    "            nn.Linear(256 * 6 * 6, 4096),\n",
    "            nn.ReLU(inplace=True),\n",
    "            nn.Dropout(),\n",
    "            nn.Linear(4096, 4096),\n",
    "            nn.ReLU(inplace=True),\n",
    "            nn.Linear(4096, num_classes),\n",
    "        )\n",
    "\n",
    "    def forward(self, x):\n",
    "        x = self.features(x)\n",
    "        x = self.avgpool(x)\n",
    "        x = torch.flatten(x, 1)\n",
    "        x = self.classifier(x)\n",
    "        return x"
   ]
  },
  {
   "cell_type": "markdown",
   "metadata": {},
   "source": [
    "## Task 3. Train Model\n",
    "Implement training and evaluation code for your model. Choose an appropriate loss function and evaluate the model on the validation set using classification accuracy. You are not allowed to use a pre-trained model (must train from scratch on the provided data).<br>\n",
    "<font color='red'>Your model should achieve an accuracy of at least 40.0% on the validation set (Model with performance smaller than 40.0% will result in 0 points for this task).</font><br>"
   ]
  },
  {
   "cell_type": "code",
   "execution_count": 3,
   "metadata": {},
   "outputs": [
    {
     "data": {
      "application/vnd.jupyter.widget-view+json": {
       "model_id": "40cc4ba86fca45008d868c5a6cbb4050",
       "version_major": 2,
       "version_minor": 0
      },
      "text/plain": [
       "HBox(children=(FloatProgress(value=0.0, max=10.0), HTML(value='')))"
      ]
     },
     "metadata": {},
     "output_type": "display_data"
    },
    {
     "data": {
      "application/vnd.jupyter.widget-view+json": {
       "model_id": "8babfe426d694c88a11c0955f7da7eb0",
       "version_major": 2,
       "version_minor": 0
      },
      "text/plain": [
       "HBox(children=(FloatProgress(value=0.0, max=1875.0), HTML(value='')))"
      ]
     },
     "metadata": {},
     "output_type": "display_data"
    },
    {
     "name": "stdout",
     "output_type": "stream",
     "text": [
      "Training iteration 0: loss 4.6054\n",
      "Training iteration 100: loss 4.5961\n",
      "Training iteration 200: loss 4.6258\n",
      "Training iteration 300: loss 4.5815\n",
      "Training iteration 400: loss 4.5969\n",
      "Training iteration 500: loss 4.6186\n",
      "Training iteration 600: loss 4.6150\n",
      "Training iteration 700: loss 4.6092\n",
      "Training iteration 800: loss 4.6048\n",
      "Training iteration 900: loss 4.6054\n",
      "Training iteration 1000: loss 4.6072\n",
      "Training iteration 1100: loss 4.6051\n",
      "Training iteration 1200: loss 4.6061\n",
      "Training iteration 1300: loss 4.6166\n",
      "Training iteration 1400: loss 4.5993\n",
      "Training iteration 1500: loss 4.5983\n",
      "Training iteration 1600: loss 4.5960\n",
      "Training iteration 1700: loss 4.6075\n",
      "Training iteration 1800: loss 4.6125\n",
      "\n",
      "Test average loss: 4.6085, accuracy: 1.005\n",
      "Epoch 1/10: train_loss: 1064.9214, train_accuracy: 0.9717, val_loss: 4.6085, val_accuracy: 1.0049\n"
     ]
    },
    {
     "data": {
      "application/vnd.jupyter.widget-view+json": {
       "model_id": "80d3cc6452f44886834a1513aee65a33",
       "version_major": 2,
       "version_minor": 0
      },
      "text/plain": [
       "HBox(children=(FloatProgress(value=0.0, max=1875.0), HTML(value='')))"
      ]
     },
     "metadata": {},
     "output_type": "display_data"
    },
    {
     "name": "stdout",
     "output_type": "stream",
     "text": [
      "Training iteration 0: loss 4.6334\n",
      "Training iteration 100: loss 4.6146\n",
      "Training iteration 200: loss 4.6106\n",
      "Training iteration 300: loss 4.6097\n",
      "Training iteration 400: loss 4.6083\n",
      "Training iteration 500: loss 4.6084\n",
      "Training iteration 600: loss 4.6128\n",
      "Training iteration 700: loss 4.6218\n",
      "Training iteration 800: loss 4.5819\n",
      "Training iteration 900: loss 4.6251\n",
      "Training iteration 1000: loss 4.5851\n",
      "Training iteration 1100: loss 4.6110\n",
      "Training iteration 1200: loss 4.6215\n",
      "Training iteration 1300: loss 4.5924\n",
      "Training iteration 1400: loss 4.6139\n",
      "Training iteration 1500: loss 4.6105\n",
      "Training iteration 1600: loss 4.6494\n",
      "Training iteration 1700: loss 4.6181\n",
      "Training iteration 1800: loss 4.6074\n",
      "\n",
      "Test average loss: 4.6086, accuracy: 1.005\n",
      "Epoch 2/10: train_loss: 4.6103, train_accuracy: 0.9750, val_loss: 4.6086, val_accuracy: 1.0049\n"
     ]
    },
    {
     "data": {
      "application/vnd.jupyter.widget-view+json": {
       "model_id": "4f480f5911fd400998ceb80256991f04",
       "version_major": 2,
       "version_minor": 0
      },
      "text/plain": [
       "HBox(children=(FloatProgress(value=0.0, max=1875.0), HTML(value='')))"
      ]
     },
     "metadata": {},
     "output_type": "display_data"
    },
    {
     "name": "stdout",
     "output_type": "stream",
     "text": [
      "Training iteration 0: loss 4.6051\n",
      "Training iteration 100: loss 4.5982\n",
      "Training iteration 200: loss 4.6090\n",
      "Training iteration 300: loss 4.5934\n",
      "Training iteration 400: loss 4.6119\n",
      "Training iteration 500: loss 4.6352\n",
      "Training iteration 600: loss 4.6045\n",
      "Training iteration 700: loss 4.6728\n",
      "Training iteration 800: loss 4.6284\n",
      "Training iteration 900: loss 4.6154\n",
      "Training iteration 1000: loss 4.5729\n",
      "Training iteration 1100: loss 4.6107\n",
      "Training iteration 1200: loss 4.6096\n",
      "Training iteration 1300: loss 4.6255\n",
      "Training iteration 1400: loss 4.5981\n",
      "Training iteration 1500: loss 4.6120\n",
      "Training iteration 1600: loss 4.6105\n",
      "Training iteration 1700: loss 4.6170\n",
      "Training iteration 1800: loss 4.6186\n",
      "\n",
      "Test average loss: 4.6475, accuracy: 1.005\n",
      "Epoch 3/10: train_loss: 4.6107, train_accuracy: 1.0083, val_loss: 4.6475, val_accuracy: 1.0049\n"
     ]
    },
    {
     "data": {
      "application/vnd.jupyter.widget-view+json": {
       "model_id": "461f7fa760ea4cf98ac2716f894c19f6",
       "version_major": 2,
       "version_minor": 0
      },
      "text/plain": [
       "HBox(children=(FloatProgress(value=0.0, max=1875.0), HTML(value='')))"
      ]
     },
     "metadata": {},
     "output_type": "display_data"
    },
    {
     "name": "stdout",
     "output_type": "stream",
     "text": [
      "Training iteration 0: loss 4.6119\n",
      "Training iteration 100: loss 4.6267\n",
      "Training iteration 200: loss 4.5995\n",
      "Training iteration 300: loss 4.6192\n",
      "Training iteration 400: loss 4.6071\n",
      "Training iteration 500: loss 4.6090\n",
      "Training iteration 600: loss 4.5888\n",
      "Training iteration 700: loss 4.6105\n",
      "Training iteration 800: loss 4.6256\n",
      "Training iteration 900: loss 4.6033\n",
      "Training iteration 1000: loss 4.6210\n",
      "Training iteration 1100: loss 4.6127\n",
      "Training iteration 1200: loss 4.5951\n",
      "Training iteration 1300: loss 4.6249\n",
      "Training iteration 1400: loss 4.5811\n",
      "Training iteration 1500: loss 4.6148\n",
      "Training iteration 1600: loss 4.6015\n",
      "Training iteration 1700: loss 4.5974\n",
      "Training iteration 1800: loss 4.6101\n",
      "\n",
      "Test average loss: 4.6089, accuracy: 1.005\n",
      "Epoch 4/10: train_loss: 4.6105, train_accuracy: 0.9133, val_loss: 4.6089, val_accuracy: 1.0049\n"
     ]
    },
    {
     "data": {
      "application/vnd.jupyter.widget-view+json": {
       "model_id": "eeb684422a17439f9b25b850269e52c6",
       "version_major": 2,
       "version_minor": 0
      },
      "text/plain": [
       "HBox(children=(FloatProgress(value=0.0, max=1875.0), HTML(value='')))"
      ]
     },
     "metadata": {},
     "output_type": "display_data"
    },
    {
     "name": "stdout",
     "output_type": "stream",
     "text": [
      "Training iteration 0: loss 4.6115\n",
      "Training iteration 100: loss 4.5891\n",
      "Training iteration 200: loss 4.5860\n",
      "Training iteration 300: loss 4.6188\n",
      "Training iteration 400: loss 4.6242\n",
      "Training iteration 500: loss 4.5970\n",
      "Training iteration 600: loss 4.6440\n",
      "Training iteration 700: loss 4.6323\n",
      "Training iteration 800: loss 4.6140\n",
      "Training iteration 900: loss 4.6234\n",
      "Training iteration 1000: loss 4.6168\n",
      "Training iteration 1100: loss 4.6300\n",
      "Training iteration 1200: loss 4.6087\n",
      "Training iteration 1300: loss 4.6410\n",
      "Training iteration 1400: loss 4.5922\n",
      "Training iteration 1500: loss 4.6175\n",
      "Training iteration 1600: loss 4.6215\n",
      "Training iteration 1700: loss 4.5916\n",
      "Training iteration 1800: loss 4.6040\n",
      "\n",
      "Test average loss: 4.6078, accuracy: 1.005\n",
      "Epoch 5/10: train_loss: 4.6105, train_accuracy: 0.8933, val_loss: 4.6078, val_accuracy: 1.0049\n"
     ]
    },
    {
     "data": {
      "application/vnd.jupyter.widget-view+json": {
       "model_id": "00e7a86d7a7a4296a06abae9f1a88ee1",
       "version_major": 2,
       "version_minor": 0
      },
      "text/plain": [
       "HBox(children=(FloatProgress(value=0.0, max=1875.0), HTML(value='')))"
      ]
     },
     "metadata": {},
     "output_type": "display_data"
    },
    {
     "name": "stdout",
     "output_type": "stream",
     "text": [
      "Training iteration 0: loss 4.6239\n",
      "Training iteration 100: loss 4.6356\n",
      "Training iteration 200: loss 4.6015\n",
      "Training iteration 300: loss 4.6072\n",
      "Training iteration 400: loss 4.6243\n",
      "Training iteration 500: loss 4.6065\n",
      "Training iteration 600: loss 4.6126\n",
      "Training iteration 700: loss 4.6374\n",
      "Training iteration 800: loss 4.6266\n",
      "Training iteration 900: loss 4.6277\n",
      "Training iteration 1000: loss 4.6167\n",
      "Training iteration 1100: loss 4.5887\n",
      "Training iteration 1200: loss 4.6005\n",
      "Training iteration 1300: loss 4.5959\n",
      "Training iteration 1400: loss 4.5718\n",
      "Training iteration 1500: loss 4.6084\n",
      "Training iteration 1600: loss 4.5856\n",
      "Training iteration 1700: loss 4.6196\n",
      "Training iteration 1800: loss 4.5971\n",
      "\n",
      "Test average loss: 4.6078, accuracy: 1.005\n",
      "Epoch 6/10: train_loss: 4.6105, train_accuracy: 0.9683, val_loss: 4.6078, val_accuracy: 1.0049\n"
     ]
    },
    {
     "data": {
      "application/vnd.jupyter.widget-view+json": {
       "model_id": "f28e60dd5c034d088ca5b85d6d5bc527",
       "version_major": 2,
       "version_minor": 0
      },
      "text/plain": [
       "HBox(children=(FloatProgress(value=0.0, max=1875.0), HTML(value='')))"
      ]
     },
     "metadata": {},
     "output_type": "display_data"
    },
    {
     "name": "stdout",
     "output_type": "stream",
     "text": [
      "Training iteration 0: loss 4.6197\n",
      "Training iteration 100: loss 4.6115\n",
      "Training iteration 200: loss 4.5961\n",
      "Training iteration 300: loss 4.6128\n",
      "Training iteration 400: loss 4.5888\n",
      "Training iteration 500: loss 4.6273\n",
      "Training iteration 600: loss 4.6190\n",
      "Training iteration 700: loss 4.6113\n",
      "Training iteration 800: loss 4.5978\n",
      "Training iteration 900: loss 4.6054\n",
      "Training iteration 1000: loss 4.6136\n",
      "Training iteration 1100: loss 4.6049\n",
      "Training iteration 1200: loss 4.6157\n",
      "Training iteration 1300: loss 4.6266\n",
      "Training iteration 1400: loss 4.6507\n",
      "Training iteration 1500: loss 4.6137\n",
      "Training iteration 1600: loss 4.6003\n",
      "Training iteration 1700: loss 4.6254\n",
      "Training iteration 1800: loss 4.6049\n",
      "\n",
      "Test average loss: 4.6079, accuracy: 1.005\n",
      "Epoch 7/10: train_loss: 4.6104, train_accuracy: 0.9817, val_loss: 4.6079, val_accuracy: 1.0049\n"
     ]
    },
    {
     "data": {
      "application/vnd.jupyter.widget-view+json": {
       "model_id": "3bc11070c2ad4e1dbdf36bd4eadf64f1",
       "version_major": 2,
       "version_minor": 0
      },
      "text/plain": [
       "HBox(children=(FloatProgress(value=0.0, max=1875.0), HTML(value='')))"
      ]
     },
     "metadata": {},
     "output_type": "display_data"
    },
    {
     "name": "stdout",
     "output_type": "stream",
     "text": [
      "Training iteration 0: loss 4.5958\n",
      "Training iteration 100: loss 4.5910\n",
      "Training iteration 200: loss 4.6115\n",
      "Training iteration 300: loss 4.6064\n",
      "Training iteration 400: loss 4.6155\n",
      "Training iteration 500: loss 4.5861\n",
      "Training iteration 600: loss 4.6114\n",
      "Training iteration 700: loss 4.6030\n",
      "Training iteration 800: loss 4.6088\n",
      "Training iteration 900: loss 4.5938\n",
      "Training iteration 1000: loss 4.6266\n",
      "Training iteration 1100: loss 4.6018\n",
      "Training iteration 1200: loss 4.6015\n",
      "Training iteration 1300: loss 4.6251\n",
      "Training iteration 1400: loss 4.6150\n",
      "Training iteration 1500: loss 4.5709\n",
      "Training iteration 1600: loss 4.6149\n",
      "Training iteration 1700: loss 4.6190\n",
      "Training iteration 1800: loss 4.6179\n",
      "\n",
      "Test average loss: 4.6088, accuracy: 1.005\n",
      "Epoch 8/10: train_loss: 4.6103, train_accuracy: 0.9650, val_loss: 4.6088, val_accuracy: 1.0049\n"
     ]
    },
    {
     "data": {
      "application/vnd.jupyter.widget-view+json": {
       "model_id": "174bf85e2b114f7892dc86ca1bca44e6",
       "version_major": 2,
       "version_minor": 0
      },
      "text/plain": [
       "HBox(children=(FloatProgress(value=0.0, max=1875.0), HTML(value='')))"
      ]
     },
     "metadata": {},
     "output_type": "display_data"
    },
    {
     "name": "stdout",
     "output_type": "stream",
     "text": [
      "Training iteration 0: loss 4.6028\n",
      "Training iteration 100: loss 4.5909\n",
      "Training iteration 200: loss 4.5867\n",
      "Training iteration 300: loss 4.5758\n",
      "Training iteration 400: loss 4.5958\n",
      "Training iteration 500: loss 4.5875\n",
      "Training iteration 600: loss 4.6312\n",
      "Training iteration 700: loss 4.6053\n",
      "Training iteration 800: loss 4.6143\n",
      "Training iteration 900: loss 4.6117\n",
      "Training iteration 1000: loss 4.6372\n",
      "Training iteration 1100: loss 4.5829\n",
      "Training iteration 1200: loss 4.5881\n",
      "Training iteration 1300: loss 4.6121\n",
      "Training iteration 1400: loss 4.6332\n",
      "Training iteration 1500: loss 4.6044\n",
      "Training iteration 1600: loss 4.5927\n",
      "Training iteration 1700: loss 4.6169\n",
      "Training iteration 1800: loss 4.6019\n",
      "\n",
      "Test average loss: 4.6097, accuracy: 1.005\n",
      "Epoch 9/10: train_loss: 4.6101, train_accuracy: 0.9417, val_loss: 4.6097, val_accuracy: 1.0049\n"
     ]
    },
    {
     "data": {
      "application/vnd.jupyter.widget-view+json": {
       "model_id": "41cb2261b4714f6bb4082c18abbe0c38",
       "version_major": 2,
       "version_minor": 0
      },
      "text/plain": [
       "HBox(children=(FloatProgress(value=0.0, max=1875.0), HTML(value='')))"
      ]
     },
     "metadata": {},
     "output_type": "display_data"
    },
    {
     "name": "stdout",
     "output_type": "stream",
     "text": [
      "Training iteration 0: loss 4.6200\n",
      "Training iteration 100: loss 4.6094\n",
      "Training iteration 200: loss 4.5928\n",
      "Training iteration 300: loss 4.6036\n",
      "Training iteration 400: loss 4.6332\n",
      "Training iteration 500: loss 4.6105\n",
      "Training iteration 600: loss 4.5995\n",
      "Training iteration 700: loss 4.6141\n",
      "Training iteration 800: loss 4.6177\n",
      "Training iteration 900: loss 4.6151\n",
      "Training iteration 1000: loss 4.6166\n",
      "Training iteration 1100: loss 4.6293\n",
      "Training iteration 1200: loss 4.6241\n",
      "Training iteration 1300: loss 4.6039\n",
      "Training iteration 1400: loss 4.6190\n",
      "Training iteration 1500: loss 4.6056\n",
      "Training iteration 1600: loss 4.6058\n",
      "Training iteration 1700: loss 4.6035\n",
      "Training iteration 1800: loss 4.5991\n",
      "\n",
      "Test average loss: 4.6102, accuracy: 1.005\n",
      "Epoch 10/10: train_loss: 4.6326, train_accuracy: 0.9800, val_loss: 4.6102, val_accuracy: 1.0049\n",
      "\n"
     ]
    }
   ],
   "source": [
    "from utils_train import fit\n",
    "model_conv = ConvNet()\n",
    "model_conv = model_conv.to(device)\n",
    "learning_rate = 0.01\n",
    "optimizer = torch.optim.Adam(model_conv.parameters(), lr=learning_rate)\n",
    "n_epochs = 10\n",
    "loss_fn = nn.CrossEntropyLoss()\n",
    "curves_conv2 = fit(train_dataloader, val_dataloader, model_conv, optimizer, loss_fn, n_epochs)"
   ]
  },
  {
   "cell_type": "markdown",
   "metadata": {},
   "source": [
    "## Task 4. Ablations\n",
    "Try to find the best performing model by tuning the model design and hyper-parameters on the validation set. Perform ablation experiments to illustrate the effect of the most important hyper-parameters. Some examples of ablations: training parameters (e.g., optimizer, learning rates, batch size), network architecture (e.g., number of layers, number of units, activation function, normalization layers), model regularization (e.g., data augmentation, dropout, weight decay, early stopping), test-time augmentation, etc...  <br>**Perform at least 5 ablations and report the performance of each on the validation set.**"
   ]
  },
  {
   "cell_type": "code",
   "execution_count": 4,
   "metadata": {},
   "outputs": [],
   "source": [
    "# write your code"
   ]
  },
  {
   "cell_type": "markdown",
   "metadata": {},
   "source": [
    "## Task 5. Model Errors\n",
    "Evaluate the trained model on the validation set and plot 10 random mistakes that your model made."
   ]
  },
  {
   "cell_type": "code",
   "execution_count": 5,
   "metadata": {},
   "outputs": [],
   "source": [
    "# write your code"
   ]
  },
  {
   "cell_type": "markdown",
   "metadata": {},
   "source": [
    "## Task 6. Competition time!\n",
    "Read the images from \"data/test\" folder. There are no labels for these images. Run your best model on these images and save the image IDs (names) and predicted label in a file LastName.csv. You will receive a link via email to upload the CSV file to  an online system which will give you the score of your model on the held-out test set. Top 5 students with at least 40% classification accuracy will obtain bonus points."
   ]
  },
  {
   "cell_type": "code",
   "execution_count": 6,
   "metadata": {},
   "outputs": [],
   "source": [
    "# write your code"
   ]
  }
 ],
 "metadata": {
  "kernelspec": {
   "display_name": "Python 3",
   "language": "python",
   "name": "python3"
  },
  "language_info": {
   "codemirror_mode": {
    "name": "ipython",
    "version": 3
   },
   "file_extension": ".py",
   "mimetype": "text/x-python",
   "name": "python",
   "nbconvert_exporter": "python",
   "pygments_lexer": "ipython3",
   "version": "3.7.6"
  }
 },
 "nbformat": 4,
 "nbformat_minor": 4
}
