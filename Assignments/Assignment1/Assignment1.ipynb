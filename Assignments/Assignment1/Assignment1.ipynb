{
 "cells": [
  {
   "cell_type": "markdown",
   "metadata": {},
   "source": [
    "# Name: // WRITE YOUR FIRST AND LAST NAME HERE"
   ]
  },
  {
   "cell_type": "markdown",
   "metadata": {},
   "source": [
    "- Please answer the question in the same order as in the assignment and use the same question numbers;\n",
    "- Don't answer the questions in the code comments. Use the text cells in your notebook;\n",
    "- Remove clutter such as unused code lines instead of turning them into comments;\n",
    "- Make sure the right execution order of the notebook cells is from top to bottom. A TA should be able to reproduce your results by simply clicking \"Run All\" without having to guess which cells should be executed first."
   ]
  },
  {
   "cell_type": "markdown",
   "metadata": {},
   "source": [
    "# Assignment 1 ATML 2020\n",
    "Download the dataset files from ILIAS and put them in the same folder as this notebook."
   ]
  },
  {
   "cell_type": "code",
   "execution_count": 1,
   "metadata": {},
   "outputs": [],
   "source": [
    "import numpy as np\n",
    "images = np.load('data/imgs_train.npy')\n",
    "labels = np.load('data/labels_train.npy')\n",
    "\n",
    "test_images = np.load('data/imgs_test.npy')\n",
    "test_labels = np.load('data/labels_test.npy')"
   ]
  },
  {
   "cell_type": "markdown",
   "metadata": {},
   "source": [
    "## Task 1. Prepare data for training and model selection"
   ]
  },
  {
   "cell_type": "code",
   "execution_count": 3,
   "metadata": {},
   "outputs": [],
   "source": [
    "# write your code"
   ]
  },
  {
   "cell_type": "markdown",
   "metadata": {},
   "source": [
    "## Task 2. Train a linear classification model"
   ]
  },
  {
   "cell_type": "code",
   "execution_count": 5,
   "metadata": {},
   "outputs": [],
   "source": [
    "# write your code"
   ]
  },
  {
   "cell_type": "markdown",
   "metadata": {},
   "source": [
    "#### Report below:\n",
    "**REPORT** *plots, validation losses and accuracies for different learning rates, learning rate for the selected best performing model*"
   ]
  },
  {
   "cell_type": "markdown",
   "metadata": {},
   "source": [
    "## Task 3. Evaluate on the test set"
   ]
  },
  {
   "cell_type": "code",
   "execution_count": 6,
   "metadata": {},
   "outputs": [],
   "source": [
    "# write your code"
   ]
  },
  {
   "cell_type": "markdown",
   "metadata": {},
   "source": [
    "#### Report below:\n",
    "**REPORT**:\n",
    "*Compare validation and test acccuracy. Comment on differences.  \n",
    "How are test images different from train images?  \n",
    "Visualize weights of your best linear model. What did the model learn? How does it distinguish images? Why does it fail on test images?*"
   ]
  },
  {
   "cell_type": "markdown",
   "metadata": {},
   "source": [
    "## Task 4. Fix the observed problem"
   ]
  },
  {
   "cell_type": "code",
   "execution_count": 7,
   "metadata": {},
   "outputs": [],
   "source": [
    "# write your code"
   ]
  },
  {
   "cell_type": "markdown",
   "metadata": {},
   "source": [
    "#### Report below\n",
    "*Traning and validation loss and accuracy for different learning rates  \n",
    "Learning rate of the best model  \n",
    "Test loss and accuracy for the best model  \n",
    "Compare training, val and test loss and accuracy with the previous model  \n",
    "Visualize weights of the new model, comment on the differences*\n"
   ]
  },
  {
   "cell_type": "code",
   "execution_count": null,
   "metadata": {},
   "outputs": [],
   "source": []
  }
 ],
 "metadata": {
  "kernelspec": {
   "display_name": "Python 3",
   "language": "python",
   "name": "python3"
  },
  "language_info": {
   "codemirror_mode": {
    "name": "ipython",
    "version": 3
   },
   "file_extension": ".py",
   "mimetype": "text/x-python",
   "name": "python",
   "nbconvert_exporter": "python",
   "pygments_lexer": "ipython3",
   "version": "3.7.5"
  }
 },
 "nbformat": 4,
 "nbformat_minor": 4
}
