{
  "nbformat": 4,
  "nbformat_minor": 0,
  "metadata": {
    "kernelspec": {
      "display_name": "Python 3",
      "language": "python",
      "name": "python3"
    },
    "language_info": {
      "codemirror_mode": {
        "name": "ipython",
        "version": 3
      },
      "file_extension": ".py",
      "mimetype": "text/x-python",
      "name": "python",
      "nbconvert_exporter": "python",
      "pygments_lexer": "ipython3",
      "version": "3.8.2"
    },
    "colab": {
      "name": "Assignment1-2021.NaletMeinen.ipynb",
      "provenance": [],
      "collapsed_sections": [],
      "toc_visible": true
    },
    "accelerator": "GPU"
  },
  "cells": [
    {
      "cell_type": "markdown",
      "metadata": {
        "id": "g6pBgNvF_ziM"
      },
      "source": [
        "# Name: Nalet Meinen"
      ]
    },
    {
      "cell_type": "code",
      "metadata": {
        "id": "n5BWdNxT_zib"
      },
      "source": [
        "%matplotlib inline\n",
        "import torch\n",
        "import torch.nn as nn\n",
        "import torchvision\n",
        "import torchvision.transforms as transforms\n",
        "import os\n",
        "from tqdm import tqdm\n",
        "\n",
        "import matplotlib.pyplot as plt\n",
        "import numpy as np\n",
        "\n",
        "from tqdm.notebook import tqdm\n",
        "from IPython.display import clear_output\n",
        "\n",
        "# Define which device to use for computations\n",
        "# If you have gpu, use 'cuda'\n",
        "device = torch.device('cuda')\n",
        "#device = torch.device('cpu')"
      ],
      "execution_count": null,
      "outputs": []
    },
    {
      "cell_type": "markdown",
      "metadata": {
        "id": "KAxA-4LH_zid"
      },
      "source": [
        "# Assignment 1 ATML 2021"
      ]
    },
    {
      "cell_type": "code",
      "metadata": {
        "id": "lNNy8Sh2AATd",
        "colab": {
          "base_uri": "https://localhost:8080/"
        },
        "outputId": "fca6503c-f314-4a2e-e71a-90d872528423"
      },
      "source": [
        "!nvidia-smi\n",
        "if not os.path.isfile('dataset.py'):\n",
        "    from google.colab import drive\n",
        "    drive.mount('/content/drive')\n",
        "    !cp -r \"/content/drive/My Drive/ATML/Assignments/Assignment1/dataset.py\" \"dataset.py\""
      ],
      "execution_count": null,
      "outputs": [
        {
          "output_type": "stream",
          "text": [
            "Sun Mar 28 16:25:42 2021       \n",
            "+-----------------------------------------------------------------------------+\n",
            "| NVIDIA-SMI 460.56       Driver Version: 460.32.03    CUDA Version: 11.2     |\n",
            "|-------------------------------+----------------------+----------------------+\n",
            "| GPU  Name        Persistence-M| Bus-Id        Disp.A | Volatile Uncorr. ECC |\n",
            "| Fan  Temp  Perf  Pwr:Usage/Cap|         Memory-Usage | GPU-Util  Compute M. |\n",
            "|                               |                      |               MIG M. |\n",
            "|===============================+======================+======================|\n",
            "|   0  Tesla T4            Off  | 00000000:00:04.0 Off |                    0 |\n",
            "| N/A   62C    P8    11W /  70W |      0MiB / 15109MiB |      0%      Default |\n",
            "|                               |                      |                  N/A |\n",
            "+-------------------------------+----------------------+----------------------+\n",
            "                                                                               \n",
            "+-----------------------------------------------------------------------------+\n",
            "| Processes:                                                                  |\n",
            "|  GPU   GI   CI        PID   Type   Process name                  GPU Memory |\n",
            "|        ID   ID                                                   Usage      |\n",
            "|=============================================================================|\n",
            "|  No running processes found                                                 |\n",
            "+-----------------------------------------------------------------------------+\n"
          ],
          "name": "stdout"
        }
      ]
    },
    {
      "cell_type": "markdown",
      "metadata": {
        "id": "XpjJHHYo_zie"
      },
      "source": [
        "## Task 1. Prepare data for training and model selection"
      ]
    },
    {
      "cell_type": "markdown",
      "metadata": {
        "id": "pAngWFu4_zif"
      },
      "source": [
        "PyTorch torchvision module provides you with some predesigned datasets. Like the MNIST dataset, that we are going to use (https://pytorch.org/vision/0.8/_modules/torchvision/datasets/mnist.html#MNIST). Let us build a simple MNIST dataset and visualise some samples."
      ]
    },
    {
      "cell_type": "code",
      "metadata": {
        "id": "R47vJ6c-_zig",
        "colab": {
          "base_uri": "https://localhost:8080/",
          "height": 300
        },
        "outputId": "da407581-1d1c-4408-b97b-a8dbfa3a3655"
      },
      "source": [
        "mnist_dataset = torchvision.datasets.MNIST(root=\".\", train=True, download=True)\n",
        "print(len(mnist_dataset))\n",
        "image, label = mnist_dataset[0]\n",
        "plt.imshow(image, cmap='gray')\n",
        "print(label)"
      ],
      "execution_count": null,
      "outputs": [
        {
          "output_type": "stream",
          "text": [
            "60000\n",
            "5\n"
          ],
          "name": "stdout"
        },
        {
          "output_type": "display_data",
          "data": {
            "image/png": "[encoded data removed]",
            "text/plain": [
              "<Figure size 432x288 with 1 Axes>"
            ]
          },
          "metadata": {
            "tags": [],
            "needs_background": "light"
          }
        }
      ]
    },
    {
      "cell_type": "markdown",
      "metadata": {
        "id": "ywP83lsF_zig"
      },
      "source": [
        "For the needs of this assignment you will have to implement a similar Dataset class which will yield an image pair and a label equal to the mode 10 sum of the labels in the pair. "
      ]
    },
    {
      "cell_type": "markdown",
      "metadata": {
        "id": "LV4FoZI8_zih"
      },
      "source": [
        "### MnistPairs dataset"
      ]
    },
    {
      "cell_type": "markdown",
      "metadata": {
        "id": "hXpVwaUr_zii"
      },
      "source": [
        "Implement the __getitem__ method in the dataset.py file. Build training and test sets with the 'right' and 'left' orders of the digits. Split the both training sets into training and validation sets with 90% and 10% of the data respectively. Concatenate the validation sets into one with both 'right' and 'test' orders. The same should be done with the test sets. Visualise some samples from the constructed datasets."
      ]
    },
    {
      "cell_type": "code",
      "metadata": {
        "id": "IaVAb2tZ_zii"
      },
      "source": [
        "from dataset import MnistPairs"
      ],
      "execution_count": null,
      "outputs": []
    },
    {
      "cell_type": "code",
      "metadata": {
        "id": "o2MIb8SX_zij",
        "colab": {
          "base_uri": "https://localhost:8080/",
          "height": 1000
        },
        "outputId": "3daa13dc-9453-467b-ab3d-72bf18c0424c"
      },
      "source": [
        "dataset = MnistPairs(root=\".\", train=True, download=True, order='right')\n",
        "print(\"Length of dataset:\",len(dataset))\n",
        "item = dataset[0]\n",
        "plt.subplot(1,2,1), plt.imshow(item[0], cmap='gray')\n",
        "plt.subplot(1,2,2), plt.imshow(item[1], cmap='gray')\n",
        "plt.suptitle(\"Right ordered with label {}\".format(item[2]))\n",
        "plt.show()\n",
        "\n",
        "dataset = MnistPairs(root=\".\", train=True, download=True, order='left')\n",
        "item = dataset[0]\n",
        "plt.subplot(1,2,1), plt.imshow(item[0], cmap='gray')\n",
        "plt.subplot(1,2,2), plt.imshow(item[1], cmap='gray')\n",
        "plt.suptitle(\"Right ordered with label {}\".format(item[2]))\n",
        "plt.show()\n",
        "\n",
        "dataset = MnistPairs(root=\".\", train=True, download=True, order='right', return_original_labels=True)\n",
        "item = dataset[len(dataset)-1] # test last item\n",
        "plt.subplot(1,2,1), plt.imshow(item[0], cmap='gray')\n",
        "plt.title(\"First image, label {}\".format(item[3]))\n",
        "plt.subplot(1,2,2), plt.imshow(item[1], cmap='gray')\n",
        "plt.title(\"Second image, label {}\".format(item[4]))\n",
        "plt.suptitle(\"Right ordered with label {}, return originals\".format(item[2]))\n",
        "plt.show()\n",
        "\n",
        "dataset = MnistPairs(root=\".\", train=True, download=True, order='left', return_original_labels=True)\n",
        "item = dataset[len(dataset)-1] # test last item\n",
        "plt.subplot(1,2,1), plt.imshow(item[0], cmap='gray')\n",
        "plt.title(\"First image, label {}\".format(item[3]))\n",
        "plt.subplot(1,2,2), plt.imshow(item[1], cmap='gray')\n",
        "plt.title(\"Second image, label {}\".format(item[4]))\n",
        "plt.suptitle(\"Right ordered with label {}, return originals\".format(item[2]))\n",
        "plt.show()\n",
        "\n",
        "dataset = MnistPairs(root=\".\", train=True, download=True, order='right', return_original_labels=True, concatenated=True)\n",
        "item = dataset[len(dataset)-1] # test last item\n",
        "plt.imshow(item[0], cmap='gray')\n",
        "plt.suptitle(\"Right ordered with label {}\".format(item[1]))\n",
        "plt.show()\n",
        "\n",
        "dataset = MnistPairs(root=\".\", train=True, download=True, order='left', return_original_labels=True, concatenated=True)\n",
        "item = dataset[len(dataset)-1] # test last item\n",
        "plt.imshow(item[0], cmap='gray')\n",
        "plt.title(\"First image, label {}, second image {}\".format(item[2], item[3]))\n",
        "plt.suptitle(\"Left ordered with label {}, return originals\".format(item[1]))\n",
        "plt.show()"
      ],
      "execution_count": null,
      "outputs": [
        {
          "output_type": "stream",
          "text": [
            "Length of dataset: 30000\n"
          ],
          "name": "stdout"
        },
        {
          "output_type": "display_data",
          "data": {
            "image/png": "[encoded data removed]",
            "text/plain": [
              "<Figure size 432x288 with 2 Axes>"
            ]
          },
          "metadata": {
            "tags": [],
            "needs_background": "light"
          }
        },
        {
          "output_type": "display_data",
          "data": {
            "image/png": "[encoded data removed]",
            "text/plain": [
              "<Figure size 432x288 with 2 Axes>"
            ]
          },
          "metadata": {
            "tags": [],
            "needs_background": "light"
          }
        },
        {
          "output_type": "display_data",
          "data": {
            "image/png": "[encoded data removed]",
            "text/plain": [
              "<Figure size 432x288 with 2 Axes>"
            ]
          },
          "metadata": {
            "tags": [],
            "needs_background": "light"
          }
        },
        {
          "output_type": "display_data",
          "data": {
            "image/png": "[encoded data removed]",
            "text/plain": [
              "<Figure size 432x288 with 2 Axes>"
            ]
          },
          "metadata": {
            "tags": [],
            "needs_background": "light"
          }
        },
        {
          "output_type": "display_data",
          "data": {
            "image/png": "[encoded data removed]",
            "text/plain": [
              "<Figure size 432x288 with 1 Axes>"
            ]
          },
          "metadata": {
            "tags": [],
            "needs_background": "light"
          }
        },
        {
          "output_type": "display_data",
          "data": {
            "image/png": "[encoded data removed]",
            "text/plain": [
              "<Figure size 432x288 with 1 Axes>"
            ]
          },
          "metadata": {
            "tags": [],
            "needs_background": "light"
          }
        }
      ]
    },
    {
      "cell_type": "code",
      "metadata": {
        "colab": {
          "base_uri": "https://localhost:8080/"
        },
        "id": "DBGTLg9GgKj6",
        "outputId": "d31c454b-8280-4284-e7b4-47b6bc1abdc5"
      },
      "source": [
        "transforms = torchvision.transforms.Compose([torchvision.transforms.ToTensor(),\n",
        "                                             torchvision.transforms.Normalize(mean=(0.5,), std=(0.5,))])\n",
        "\n",
        "dataset_left = MnistPairs(root=\".\", train=True, download=True, transform=transforms, order='left', return_original_labels=True, concatenated=True)\n",
        "dataset_left_test_set = MnistPairs(root=\".\", train=False, download=True, transform=transforms, order='left', return_original_labels=True, concatenated=True)\n",
        "dataset_left_train_set, dataset_left_val_set = torch.utils.data.random_split(dataset_left, [27000, 3000])\n",
        "#Right\n",
        "dataset_right = MnistPairs(root=\".\", train=True, download=True, transform=transforms, order='right', return_original_labels=True, concatenated=True)\n",
        "dataset_right_test_set = MnistPairs(root=\".\", train=False, download=True, transform=transforms, order='right', return_original_labels=True, concatenated=True)\n",
        "dataset_right_train_set, dataset_right_val_set = torch.utils.data.random_split(dataset_right, [27000, 3000])\n",
        "#Both\n",
        "dataset_both_train_set = torch.utils.data.ConcatDataset([dataset_left_train_set, dataset_right_train_set])\n",
        "dataset_both_test_set = torch.utils.data.ConcatDataset([dataset_left_test_set, dataset_right_test_set])\n",
        "dataset_both_val_set = torch.utils.data.ConcatDataset([dataset_left_val_set, dataset_right_val_set])\n",
        "\n",
        "print(\"Length of concatenated train is {}, length of concatenated test is {}, length of concatenated val is {}.\".format(len(dataset_both_train_set), len(dataset_both_test_set), len(dataset_both_val_set)))"
      ],
      "execution_count": null,
      "outputs": [
        {
          "output_type": "stream",
          "text": [
            "Length of concatenated train is 54000, length of concatenated test is 10000, length of concatenated val is 6000.\n"
          ],
          "name": "stdout"
        }
      ]
    },
    {
      "cell_type": "markdown",
      "metadata": {
        "id": "ovkuIeF8_zik"
      },
      "source": [
        "### Label and Pair Distribution"
      ]
    },
    {
      "cell_type": "markdown",
      "metadata": {
        "id": "nuL02uUS_zik"
      },
      "source": [
        "Visualize the distribution of the labels and pairs in the training, validation and testing sets."
      ]
    },
    {
      "cell_type": "code",
      "metadata": {
        "id": "zN9kU_te_zil",
        "colab": {
          "base_uri": "https://localhost:8080/",
          "height": 1000
        },
        "outputId": "1bf32301-906b-4ffd-e1d6-0e5948a2a9ae"
      },
      "source": [
        "import seaborn as sns; sns.set_theme()\n",
        "\n",
        "def calculate_distribution_of_labels(dataset):\n",
        "    hist = []\n",
        "    pairs = np.zeros((10,10))\n",
        "    for item in dataset:\n",
        "        hist.append(item[2])\n",
        "        pairs[item[2], item[3]] += 1\n",
        "    plt.rcdefaults()\n",
        "    plt.hist(hist)\n",
        "    plt.show()\n",
        "\n",
        "    sns.heatmap(pairs)\n",
        "    plt.show()\n",
        "    plt.rcdefaults()\n",
        "\n",
        "calculate_distribution_of_labels(dataset_both_train_set)\n",
        "calculate_distribution_of_labels(dataset_both_test_set)\n",
        "calculate_distribution_of_labels(dataset_both_val_set)\n"
      ],
      "execution_count": null,
      "outputs": [
        {
          "output_type": "display_data",
          "data": {
            "image/png": "[encoded data removed]",
            "text/plain": [
              "<Figure size 640x480 with 1 Axes>"
            ]
          },
          "metadata": {
            "tags": []
          }
        },
        {
          "output_type": "display_data",
          "data": {
            "image/png": "[encoded data removed]",
            "text/plain": [
              "<Figure size 640x480 with 2 Axes>"
            ]
          },
          "metadata": {
            "tags": []
          }
        },
        {
          "output_type": "display_data",
          "data": {
            "image/png": "[encoded data removed]",
            "text/plain": [
              "<Figure size 640x480 with 1 Axes>"
            ]
          },
          "metadata": {
            "tags": []
          }
        },
        {
          "output_type": "display_data",
          "data": {
            "image/png": "[encoded data removed]",
            "text/plain": [
              "<Figure size 640x480 with 2 Axes>"
            ]
          },
          "metadata": {
            "tags": []
          }
        },
        {
          "output_type": "display_data",
          "data": {
            "image/png": "[encoded data removed]",
            "text/plain": [
              "<Figure size 640x480 with 1 Axes>"
            ]
          },
          "metadata": {
            "tags": []
          }
        },
        {
          "output_type": "display_data",
          "data": {
            "image/png": "[encoded data removed]",
            "text/plain": [
              "<Figure size 640x480 with 2 Axes>"
            ]
          },
          "metadata": {
            "tags": []
          }
        }
      ]
    },
    {
      "cell_type": "markdown",
      "metadata": {
        "id": "J62fQVGC_zil"
      },
      "source": [
        "If the distribution of the labels in the test set differs from the one in the training set, we should expect a different performance of the model on the test set."
      ]
    },
    {
      "cell_type": "markdown",
      "metadata": {
        "id": "B5eQeqNE_zim"
      },
      "source": [
        "## Task 2. Design training settings"
      ]
    },
    {
      "cell_type": "markdown",
      "metadata": {
        "id": "qTxxF0-k_zim"
      },
      "source": [
        "Having the MnistPairs dataset implemented, we can now nicely wrap in with a DataLoader class for the ease of training."
      ]
    },
    {
      "cell_type": "code",
      "metadata": {
        "id": "Ht0OPdzj_zin"
      },
      "source": [
        "batch_size=128\n",
        "#Left\n",
        "train_left_loader = torch.utils.data.DataLoader(dataset_left_train_set, batch_size=batch_size, shuffle=True)\n",
        "val_left_loader = torch.utils.data.DataLoader(dataset_left_val_set, batch_size=batch_size, shuffle=False)\n",
        "test_left_loader = torch.utils.data.DataLoader(dataset_left_test_set, batch_size=batch_size, shuffle=False)\n",
        "#Right\n",
        "train_right_loader = torch.utils.data.DataLoader(dataset_right_train_set, batch_size=batch_size, shuffle=True)\n",
        "val_right_loader = torch.utils.data.DataLoader(dataset_right_val_set, batch_size=batch_size, shuffle=False)\n",
        "test_right_loader = torch.utils.data.DataLoader(dataset_right_test_set, batch_size=batch_size, shuffle=False)\n",
        "#Both\n",
        "train_both_loader = torch.utils.data.DataLoader(dataset_both_train_set, batch_size=batch_size, shuffle=True)\n",
        "val_both_loader = torch.utils.data.DataLoader(dataset_both_val_set, batch_size=batch_size, shuffle=False)\n",
        "test_both_loader = torch.utils.data.DataLoader(dataset_both_test_set, batch_size=batch_size, shuffle=False)"
      ],
      "execution_count": null,
      "outputs": []
    },
    {
      "cell_type": "markdown",
      "metadata": {
        "id": "65Slm7ld_zin"
      },
      "source": [
        "Define a bunch of models to test, the loss function and the optimizers."
      ]
    },
    {
      "cell_type": "code",
      "metadata": {
        "id": "QxZxOWfk_zio"
      },
      "source": [
        "class Module4Model(torch.nn.Module):\n",
        "    def __init__(self):\n",
        "        super(Module4Model, self).__init__()\n",
        "        self.main = nn.Sequential(nn.ReLU(),\n",
        "                                  nn.Linear(56*28, 256),\n",
        "                                  nn.ReLU(),\n",
        "                                  nn.Linear(256, 128),\n",
        "                                  nn.ReLU(),\n",
        "                                  nn.Linear(128, 10),\n",
        "                                  nn.LogSoftmax(dim=1))\n",
        "    \n",
        "    def forward(self, x):\n",
        "        out = x.view(x.size(0), 56*28)\n",
        "        out = self.main(out)\n",
        "        return out\n",
        "\n",
        "model = Module4Model()\n",
        "model = model.to(device)\n",
        "loss_fn = nn.CrossEntropyLoss()\n",
        "optimizer = torch.optim.SGD(model.parameters(), lr=0.05)"
      ],
      "execution_count": null,
      "outputs": []
    },
    {
      "cell_type": "markdown",
      "metadata": {
        "id": "QylOg4Jj_zio"
      },
      "source": [
        "Let us also define the metric we are going to use for the assesment of the model. We will simply use the accuracy of the model."
      ]
    },
    {
      "cell_type": "code",
      "metadata": {
        "id": "D0JJmbyj_zip"
      },
      "source": [
        "def accuracy(labels, predictions):\n",
        "    # Return the accuracy of predictions, i.e. the part of cases\n",
        "    # where the corresponding prediction matches the label.\n",
        "    pass"
      ],
      "execution_count": null,
      "outputs": []
    },
    {
      "cell_type": "markdown",
      "metadata": {
        "id": "lNudTV7M_zip"
      },
      "source": [
        "Write the training loop."
      ]
    },
    {
      "cell_type": "code",
      "metadata": {
        "id": "GPi_scOk_ziq"
      },
      "source": [
        "def train(model, dataloader, optimizer, loss_fn):\n",
        "    model.train()\n",
        "    for iteration, (images, labels, _, _) in enumerate((dataloader)):\n",
        "        ## TODO: fill the training loop\n",
        "        images = images.to(device)\n",
        "        labels = labels.to(device)\n",
        "        optimizer.zero_grad()\n",
        "        output = model(images)\n",
        "        loss = loss_fn(output, labels)\n",
        "        loss.backward()\n",
        "        optimizer.step()\n",
        "        # The code below will print loss every 100 iterations. Make sure the loss computer by loss_fn is in variable \"loss\"\n",
        "        #if iteration % 100 == 0:\n",
        "        #print('Training iteration {}: loss {:.4f}'.format(iteration, loss.item()))\n",
        "\n",
        "def train_model(model, dataloader, val_dataloader, optimizer, num_epochs, loss_fn):\n",
        "    for epoch in range(num_epochs):\n",
        "        train(model, dataloader, optimizer, loss_fn)\n",
        "        print('Epoch {}'.format(epoch+1))\n",
        "        print('Validation:\\t',end=''), evaluate_model(model, val_dataloader)\n",
        "        print('Train:\\t\\t',end=''), evaluate_model(model, dataloader)"
      ],
      "execution_count": null,
      "outputs": []
    },
    {
      "cell_type": "markdown",
      "metadata": {
        "id": "T3ZEUa9o_ziq"
      },
      "source": [
        "Write the evaluation code."
      ]
    },
    {
      "cell_type": "code",
      "metadata": {
        "id": "uqkTrNaZ_ziq"
      },
      "source": [
        "def evaluate_model(model, dataset_loader):\n",
        "    model.eval()\n",
        "    # TODO - initialize any variables if necessary\n",
        "    losses = []\n",
        "    correct_predictions = 0\n",
        "    with torch.no_grad():\n",
        "        for images, labels, _, _ in dataset_loader:\n",
        "            images = images.to(device)\n",
        "            labels = labels.to(device)\n",
        "            output = model(images)\n",
        "            loss = loss_fn(output, labels)\n",
        "            predicted_labels = output.argmax(dim=1)\n",
        "            correct_predictions += (predicted_labels == labels).sum().item()\n",
        "            losses.append(loss.item())\n",
        "\n",
        "    ## Store and print average test loss and accuracy\n",
        "    average_loss = sum(losses) / len(losses)\n",
        "    accuracy = correct_predictions / len(dataset_loader)\n",
        "    print('Test average loss: {:.4f}, accuracy: {:.3f}'.format(average_loss, accuracy))"
      ],
      "execution_count": null,
      "outputs": []
    },
    {
      "cell_type": "markdown",
      "metadata": {
        "id": "lU1Jqf7x_zir"
      },
      "source": [
        "## Task 3. Train on training 'right' set."
      ]
    },
    {
      "cell_type": "markdown",
      "metadata": {
        "id": "ouf8smGL_zir"
      },
      "source": [
        "Train the models on training 'right' set and select the best model on the validation set."
      ]
    },
    {
      "cell_type": "code",
      "metadata": {
        "id": "i5aRAb45_zis",
        "colab": {
          "base_uri": "https://localhost:8080/"
        },
        "outputId": "6d979207-fdb1-4c0c-bd19-de845730945b"
      },
      "source": [
        "train_model(model, train_right_loader, val_right_loader, optimizer, 50, loss_fn)\n",
        "evaluate_model(model, test_right_loader)"
      ],
      "execution_count": null,
      "outputs": [
        {
          "output_type": "stream",
          "text": [
            "Epoch 1\n",
            "Validation:\tTest average loss: 2.3004, accuracy: 14.792\n",
            "Train:\t\tTest average loss: 2.2993, accuracy: 16.118\n",
            "Epoch 2\n",
            "Validation:\tTest average loss: 2.2978, accuracy: 15.667\n",
            "Train:\t\tTest average loss: 2.2952, accuracy: 17.768\n",
            "Epoch 3\n",
            "Validation:\tTest average loss: 2.2931, accuracy: 19.000\n",
            "Train:\t\tTest average loss: 2.2888, accuracy: 22.915\n",
            "Epoch 4\n",
            "Validation:\tTest average loss: 2.2851, accuracy: 20.667\n",
            "Train:\t\tTest average loss: 2.2779, accuracy: 25.308\n",
            "Epoch 5\n",
            "Validation:\tTest average loss: 2.2670, accuracy: 23.542\n",
            "Train:\t\tTest average loss: 2.2566, accuracy: 29.801\n",
            "Epoch 6\n",
            "Validation:\tTest average loss: 2.2274, accuracy: 28.875\n",
            "Train:\t\tTest average loss: 2.2121, accuracy: 34.294\n",
            "Epoch 7\n",
            "Validation:\tTest average loss: 2.1328, accuracy: 35.167\n",
            "Train:\t\tTest average loss: 2.1040, accuracy: 40.758\n",
            "Epoch 8\n",
            "Validation:\tTest average loss: 1.9604, accuracy: 41.833\n",
            "Train:\t\tTest average loss: 1.9134, accuracy: 48.246\n",
            "Epoch 9\n",
            "Validation:\tTest average loss: 1.7979, accuracy: 48.292\n",
            "Train:\t\tTest average loss: 1.7196, accuracy: 54.389\n",
            "Epoch 10\n",
            "Validation:\tTest average loss: 1.6740, accuracy: 53.750\n",
            "Train:\t\tTest average loss: 1.5678, accuracy: 61.185\n",
            "Epoch 11\n",
            "Validation:\tTest average loss: 1.6467, accuracy: 54.583\n",
            "Train:\t\tTest average loss: 1.4951, accuracy: 63.659\n",
            "Epoch 12\n",
            "Validation:\tTest average loss: 1.5482, accuracy: 60.042\n",
            "Train:\t\tTest average loss: 1.3652, accuracy: 70.502\n",
            "Epoch 13\n",
            "Validation:\tTest average loss: 1.4354, accuracy: 65.500\n",
            "Train:\t\tTest average loss: 1.2222, accuracy: 78.175\n",
            "Epoch 14\n",
            "Validation:\tTest average loss: 1.3862, accuracy: 67.167\n",
            "Train:\t\tTest average loss: 1.1466, accuracy: 80.355\n",
            "Epoch 15\n",
            "Validation:\tTest average loss: 1.3498, accuracy: 69.208\n",
            "Train:\t\tTest average loss: 1.0818, accuracy: 82.953\n",
            "Epoch 16\n",
            "Validation:\tTest average loss: 1.2646, accuracy: 72.375\n",
            "Train:\t\tTest average loss: 0.9751, accuracy: 88.379\n",
            "Epoch 17\n",
            "Validation:\tTest average loss: 1.2545, accuracy: 72.542\n",
            "Train:\t\tTest average loss: 0.9071, accuracy: 90.929\n",
            "Epoch 18\n",
            "Validation:\tTest average loss: 1.2374, accuracy: 74.792\n",
            "Train:\t\tTest average loss: 0.8553, accuracy: 93.479\n",
            "Epoch 19\n",
            "Validation:\tTest average loss: 1.1730, accuracy: 78.167\n",
            "Train:\t\tTest average loss: 0.7675, accuracy: 97.512\n",
            "Epoch 20\n",
            "Validation:\tTest average loss: 1.1232, accuracy: 79.833\n",
            "Train:\t\tTest average loss: 0.6871, accuracy: 101.047\n",
            "Epoch 21\n",
            "Validation:\tTest average loss: 1.1542, accuracy: 78.208\n",
            "Train:\t\tTest average loss: 0.6566, accuracy: 102.227\n",
            "Epoch 22\n",
            "Validation:\tTest average loss: 1.1078, accuracy: 80.375\n",
            "Train:\t\tTest average loss: 0.5934, accuracy: 105.536\n",
            "Epoch 23\n",
            "Validation:\tTest average loss: 1.0895, accuracy: 82.042\n",
            "Train:\t\tTest average loss: 0.5250, accuracy: 108.825\n",
            "Epoch 24\n",
            "Validation:\tTest average loss: 1.1722, accuracy: 77.667\n",
            "Train:\t\tTest average loss: 0.5725, accuracy: 103.834\n",
            "Epoch 25\n",
            "Validation:\tTest average loss: 1.0870, accuracy: 81.292\n",
            "Train:\t\tTest average loss: 0.4425, accuracy: 112.336\n",
            "Epoch 26\n",
            "Validation:\tTest average loss: 1.0912, accuracy: 83.458\n",
            "Train:\t\tTest average loss: 0.4021, accuracy: 113.915\n",
            "Epoch 27\n",
            "Validation:\tTest average loss: 1.0915, accuracy: 83.792\n",
            "Train:\t\tTest average loss: 0.3561, accuracy: 116.114\n",
            "Epoch 28\n",
            "Validation:\tTest average loss: 1.1245, accuracy: 83.417\n",
            "Train:\t\tTest average loss: 0.3490, accuracy: 115.872\n",
            "Epoch 29\n",
            "Validation:\tTest average loss: 1.2290, accuracy: 78.875\n",
            "Train:\t\tTest average loss: 0.4019, accuracy: 111.673\n",
            "Epoch 30\n",
            "Validation:\tTest average loss: 1.3545, accuracy: 78.208\n",
            "Train:\t\tTest average loss: 0.4325, accuracy: 109.237\n",
            "Epoch 31\n",
            "Validation:\tTest average loss: 1.1797, accuracy: 83.000\n",
            "Train:\t\tTest average loss: 0.2511, accuracy: 120.403\n",
            "Epoch 32\n",
            "Validation:\tTest average loss: 1.1953, accuracy: 83.458\n",
            "Train:\t\tTest average loss: 0.2245, accuracy: 121.303\n",
            "Epoch 33\n",
            "Validation:\tTest average loss: 1.1810, accuracy: 83.875\n",
            "Train:\t\tTest average loss: 0.1917, accuracy: 123.152\n",
            "Epoch 34\n",
            "Validation:\tTest average loss: 1.2552, accuracy: 82.417\n",
            "Train:\t\tTest average loss: 0.2101, accuracy: 121.370\n",
            "Epoch 35\n",
            "Validation:\tTest average loss: 1.2584, accuracy: 83.958\n",
            "Train:\t\tTest average loss: 0.1597, accuracy: 124.114\n",
            "Epoch 36\n",
            "Validation:\tTest average loss: 1.2265, accuracy: 85.000\n",
            "Train:\t\tTest average loss: 0.1242, accuracy: 126.005\n",
            "Epoch 37\n",
            "Validation:\tTest average loss: 1.2734, accuracy: 84.083\n",
            "Train:\t\tTest average loss: 0.1237, accuracy: 125.483\n",
            "Epoch 38\n",
            "Validation:\tTest average loss: 1.3250, accuracy: 84.042\n",
            "Train:\t\tTest average loss: 0.1177, accuracy: 125.673\n",
            "Epoch 39\n",
            "Validation:\tTest average loss: 1.3271, accuracy: 84.292\n",
            "Train:\t\tTest average loss: 0.0853, accuracy: 127.114\n",
            "Epoch 40\n",
            "Validation:\tTest average loss: 1.3736, accuracy: 84.000\n",
            "Train:\t\tTest average loss: 0.0799, accuracy: 127.152\n",
            "Epoch 41\n",
            "Validation:\tTest average loss: 1.3789, accuracy: 85.208\n",
            "Train:\t\tTest average loss: 0.0662, accuracy: 127.583\n",
            "Epoch 42\n",
            "Validation:\tTest average loss: 1.3944, accuracy: 84.583\n",
            "Train:\t\tTest average loss: 0.0517, accuracy: 127.844\n",
            "Epoch 43\n",
            "Validation:\tTest average loss: 1.4185, accuracy: 84.708\n",
            "Train:\t\tTest average loss: 0.0464, accuracy: 127.900\n",
            "Epoch 44\n",
            "Validation:\tTest average loss: 1.4431, accuracy: 84.625\n",
            "Train:\t\tTest average loss: 0.0429, accuracy: 127.915\n",
            "Epoch 45\n",
            "Validation:\tTest average loss: 1.4561, accuracy: 84.292\n",
            "Train:\t\tTest average loss: 0.0342, accuracy: 127.953\n",
            "Epoch 46\n",
            "Validation:\tTest average loss: 1.4694, accuracy: 84.458\n",
            "Train:\t\tTest average loss: 0.0310, accuracy: 127.957\n",
            "Epoch 47\n",
            "Validation:\tTest average loss: 1.4920, accuracy: 83.958\n",
            "Train:\t\tTest average loss: 0.0294, accuracy: 127.962\n",
            "Epoch 48\n",
            "Validation:\tTest average loss: 1.5053, accuracy: 84.583\n",
            "Train:\t\tTest average loss: 0.0267, accuracy: 127.962\n",
            "Epoch 49\n",
            "Validation:\tTest average loss: 1.5206, accuracy: 84.833\n",
            "Train:\t\tTest average loss: 0.0238, accuracy: 127.962\n",
            "Epoch 50\n",
            "Validation:\tTest average loss: 1.5370, accuracy: 84.292\n",
            "Train:\t\tTest average loss: 0.0218, accuracy: 127.962\n",
            "Test average loss: 1.4830, accuracy: 84.375\n"
          ],
          "name": "stdout"
        }
      ]
    },
    {
      "cell_type": "markdown",
      "metadata": {
        "id": "v44OCs3U_zis"
      },
      "source": [
        "## Task 4. Train on concatenated training set."
      ]
    },
    {
      "cell_type": "markdown",
      "metadata": {
        "id": "8DzpVQZU_zit"
      },
      "source": [
        "Train the models on concatenated training set and select the best model on the validation set."
      ]
    },
    {
      "cell_type": "code",
      "metadata": {
        "id": "gIbE0aRO_zit"
      },
      "source": [
        ""
      ],
      "execution_count": null,
      "outputs": []
    },
    {
      "cell_type": "markdown",
      "metadata": {
        "id": "5iz9TzvA_ziu"
      },
      "source": [
        "##  Task 5. Evaluation"
      ]
    },
    {
      "cell_type": "markdown",
      "metadata": {
        "id": "s0GyPgEa_ziu"
      },
      "source": [
        "From the previously selected models select the one that shows the best results on the validation set. Let's denote this as the best model. How can you explain the differences in the accuracies of the models trained on different training sets?\n"
      ]
    },
    {
      "cell_type": "code",
      "metadata": {
        "id": "-L4zQOxp_ziv"
      },
      "source": [
        ""
      ],
      "execution_count": null,
      "outputs": []
    },
    {
      "cell_type": "markdown",
      "metadata": {
        "id": "UwtKoWGJ_ziv"
      },
      "source": [
        "Report the accuracy of the best model on the test set."
      ]
    },
    {
      "cell_type": "code",
      "metadata": {
        "id": "VvbZ4Osu_ziw"
      },
      "source": [
        ""
      ],
      "execution_count": null,
      "outputs": []
    },
    {
      "cell_type": "markdown",
      "metadata": {
        "id": "I-1sKAhK_ziw"
      },
      "source": [
        "## Task 6. Visualizations"
      ]
    },
    {
      "cell_type": "markdown",
      "metadata": {
        "id": "6ZDPTUxC_zix"
      },
      "source": [
        "Visualize some examples of the best model's successful and failure predictions on the test set. Visualize the accuaracy depending on the digit pairs. Why is the model better or worse on some digits? "
      ]
    },
    {
      "cell_type": "code",
      "metadata": {
        "id": "1y3sZQeU_zix"
      },
      "source": [
        ""
      ],
      "execution_count": null,
      "outputs": []
    },
    {
      "cell_type": "code",
      "metadata": {
        "id": "oQ28e6c9TjuT"
      },
      "source": [
        "!cp 'dataset.py' '/content/drive/My Drive/ATML/Assignments/Assignment1/'"
      ],
      "execution_count": null,
      "outputs": []
    }
  ]
}