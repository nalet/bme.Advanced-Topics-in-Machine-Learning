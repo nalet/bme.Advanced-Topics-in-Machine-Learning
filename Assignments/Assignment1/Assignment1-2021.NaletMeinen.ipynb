{
  "nbformat": 4,
  "nbformat_minor": 0,
  "metadata": {
    "kernelspec": {
      "display_name": "Python 3",
      "language": "python",
      "name": "python3"
    },
    "language_info": {
      "codemirror_mode": {
        "name": "ipython",
        "version": 3
      },
      "file_extension": ".py",
      "mimetype": "text/x-python",
      "name": "python",
      "nbconvert_exporter": "python",
      "pygments_lexer": "ipython3",
      "version": "3.8.2"
    },
    "colab": {
      "name": "Assignment1-2021.NaletMeinen.ipynb",
      "provenance": [],
      "collapsed_sections": [],
      "toc_visible": true
    },
    "accelerator": "GPU"
  },
  "cells": [
    {
      "cell_type": "markdown",
      "metadata": {
        "id": "g6pBgNvF_ziM"
      },
      "source": [
        "# Name: Nalet Meinen"
      ]
    },
    {
      "cell_type": "code",
      "metadata": {
        "id": "n5BWdNxT_zib"
      },
      "source": [
        "%matplotlib inline\n",
        "import torch\n",
        "import torchvision\n",
        "import torchvision.transforms as transforms\n",
        "import os\n",
        "\n",
        "import matplotlib.pyplot as plt\n",
        "import numpy as np\n",
        "\n",
        "from tqdm.notebook import tqdm\n",
        "from IPython.display import clear_output\n",
        "\n",
        "# Define which device to use for computations\n",
        "# If you have gpu, use 'cuda'\n",
        "device = torch.device('cuda')"
      ],
      "execution_count": 1,
      "outputs": []
    },
    {
      "cell_type": "markdown",
      "metadata": {
        "id": "KAxA-4LH_zid"
      },
      "source": [
        "# Assignment 1 ATML 2021"
      ]
    },
    {
      "cell_type": "code",
      "metadata": {
        "id": "lNNy8Sh2AATd",
        "colab": {
          "base_uri": "https://localhost:8080/"
        },
        "outputId": "c7192420-7735-4524-bc81-c20db7f4c843"
      },
      "source": [
        "!nvidia-smi\n",
        "if not os.path.isfile('dataset.py'):\n",
        "    from google.colab import drive\n",
        "    drive.mount('/content/drive')\n",
        "    !cp -r \"/content/drive/My Drive/ATML/Assignments/Assignment1/dataset.py\" \"dataset.py\""
      ],
      "execution_count": 2,
      "outputs": [
        {
          "output_type": "stream",
          "text": [
            "Sun Mar 21 20:36:56 2021       \n",
            "+-----------------------------------------------------------------------------+\n",
            "| NVIDIA-SMI 460.56       Driver Version: 460.32.03    CUDA Version: 11.2     |\n",
            "|-------------------------------+----------------------+----------------------+\n",
            "| GPU  Name        Persistence-M| Bus-Id        Disp.A | Volatile Uncorr. ECC |\n",
            "| Fan  Temp  Perf  Pwr:Usage/Cap|         Memory-Usage | GPU-Util  Compute M. |\n",
            "|                               |                      |               MIG M. |\n",
            "|===============================+======================+======================|\n",
            "|   0  Tesla T4            Off  | 00000000:00:04.0 Off |                    0 |\n",
            "| N/A   35C    P8     9W /  70W |      0MiB / 15109MiB |      0%      Default |\n",
            "|                               |                      |                  N/A |\n",
            "+-------------------------------+----------------------+----------------------+\n",
            "                                                                               \n",
            "+-----------------------------------------------------------------------------+\n",
            "| Processes:                                                                  |\n",
            "|  GPU   GI   CI        PID   Type   Process name                  GPU Memory |\n",
            "|        ID   ID                                                   Usage      |\n",
            "|=============================================================================|\n",
            "|  No running processes found                                                 |\n",
            "+-----------------------------------------------------------------------------+\n"
          ],
          "name": "stdout"
        }
      ]
    },
    {
      "cell_type": "markdown",
      "metadata": {
        "id": "XpjJHHYo_zie"
      },
      "source": [
        "## Task 1. Prepare data for training and model selection"
      ]
    },
    {
      "cell_type": "markdown",
      "metadata": {
        "id": "pAngWFu4_zif"
      },
      "source": [
        "PyTorch torchvision module provides you with some predesigned datasets. Like the MNIST dataset, that we are going to use (https://pytorch.org/vision/0.8/_modules/torchvision/datasets/mnist.html#MNIST). Let us build a simple MNIST dataset and visualise some samples."
      ]
    },
    {
      "cell_type": "code",
      "metadata": {
        "id": "R47vJ6c-_zig",
        "colab": {
          "base_uri": "https://localhost:8080/",
          "height": 300
        },
        "outputId": "f2012ffe-9876-439b-86a9-554577b5944f"
      },
      "source": [
        "mnist_dataset = torchvision.datasets.MNIST(root=\".\", train=True, download=True)\n",
        "print(len(mnist_dataset))\n",
        "image, label = mnist_dataset[0]\n",
        "plt.imshow(image, cmap='gray')\n",
        "print(label)"
      ],
      "execution_count": 3,
      "outputs": [
        {
          "output_type": "stream",
          "text": [
            "60000\n",
            "5\n"
          ],
          "name": "stdout"
        },
        {
          "output_type": "display_data",
          "data": {
            "image/png": "[encoded data removed]",
            "text/plain": [
              "<Figure size 432x288 with 1 Axes>"
            ]
          },
          "metadata": {
            "tags": [],
            "needs_background": "light"
          }
        }
      ]
    },
    {
      "cell_type": "markdown",
      "metadata": {
        "id": "ywP83lsF_zig"
      },
      "source": [
        "For the needs of this assignment you will have to implement a similar Dataset class which will yield an image pair and a label equal to the mode 10 sum of the labels in the pair. "
      ]
    },
    {
      "cell_type": "markdown",
      "metadata": {
        "id": "LV4FoZI8_zih"
      },
      "source": [
        "### MnistPairs dataset"
      ]
    },
    {
      "cell_type": "markdown",
      "metadata": {
        "id": "hXpVwaUr_zii"
      },
      "source": [
        "Implement the __getitem__ method in the dataset.py file. Build training and test sets with the 'right' and 'left' orders of the digits. Split the both training sets into training and validation sets with 90% and 10% of the data respectively. Concatenate the validation sets into one with both 'right' and 'test' orders. The same should be done with the test sets. Visualise some samples from the constructed datasets."
      ]
    },
    {
      "cell_type": "code",
      "metadata": {
        "id": "IaVAb2tZ_zii"
      },
      "source": [
        "from dataset import MnistPairs"
      ],
      "execution_count": 4,
      "outputs": []
    },
    {
      "cell_type": "code",
      "metadata": {
        "id": "o2MIb8SX_zij",
        "colab": {
          "base_uri": "https://localhost:8080/",
          "height": 1000
        },
        "outputId": "cffd3c25-847e-45e6-e8a2-e57ae5c81904"
      },
      "source": [
        "dataset = MnistPairs(root=\".\", train=True, download=True, order='right')\n",
        "print(\"Length of dataset:\",len(dataset))\n",
        "item = dataset[0]\n",
        "plt.subplot(1,2,1), plt.imshow(item[0], cmap='gray')\n",
        "plt.subplot(1,2,2), plt.imshow(item[1], cmap='gray')\n",
        "plt.suptitle(\"Right ordered with label {}\".format(item[2]))\n",
        "plt.show()\n",
        "\n",
        "dataset = MnistPairs(root=\".\", train=True, download=True, order='left')\n",
        "item = dataset[0]\n",
        "plt.subplot(1,2,1), plt.imshow(item[0], cmap='gray')\n",
        "plt.subplot(1,2,2), plt.imshow(item[1], cmap='gray')\n",
        "plt.suptitle(\"Right ordered with label {}\".format(item[2]))\n",
        "plt.show()\n",
        "\n",
        "dataset = MnistPairs(root=\".\", train=True, download=True, order='right', return_original_labels=True)\n",
        "item = dataset[len(dataset)-1] # test last item\n",
        "plt.subplot(1,2,1), plt.imshow(item[0], cmap='gray')\n",
        "plt.title(\"First image, label {}\".format(item[3]))\n",
        "plt.subplot(1,2,2), plt.imshow(item[1], cmap='gray')\n",
        "plt.title(\"Second image, label {}\".format(item[4]))\n",
        "plt.suptitle(\"Right ordered with label {}, return originals\".format(item[2]))\n",
        "plt.show()\n",
        "\n",
        "dataset = MnistPairs(root=\".\", train=True, download=True, order='left', return_original_labels=True)\n",
        "item = dataset[len(dataset)-1] # test last item\n",
        "plt.subplot(1,2,1), plt.imshow(item[0], cmap='gray')\n",
        "plt.title(\"First image, label {}\".format(item[3]))\n",
        "plt.subplot(1,2,2), plt.imshow(item[1], cmap='gray')\n",
        "plt.title(\"Second image, label {}\".format(item[4]))\n",
        "plt.suptitle(\"Right ordered with label {}, return originals\".format(item[2]))\n",
        "plt.show()"
      ],
      "execution_count": 5,
      "outputs": [
        {
          "output_type": "stream",
          "text": [
            "Length of dataset: 30000\n"
          ],
          "name": "stdout"
        },
        {
          "output_type": "display_data",
          "data": {
            "image/png": "[encoded data removed]",
            "text/plain": [
              "<Figure size 432x288 with 2 Axes>"
            ]
          },
          "metadata": {
            "tags": [],
            "needs_background": "light"
          }
        },
        {
          "output_type": "display_data",
          "data": {
            "image/png": "[encoded data removed]",
            "text/plain": [
              "<Figure size 432x288 with 2 Axes>"
            ]
          },
          "metadata": {
            "tags": [],
            "needs_background": "light"
          }
        },
        {
          "output_type": "display_data",
          "data": {
            "image/png": "[encoded data removed]",
            "text/plain": [
              "<Figure size 432x288 with 2 Axes>"
            ]
          },
          "metadata": {
            "tags": [],
            "needs_background": "light"
          }
        },
        {
          "output_type": "display_data",
          "data": {
            "image/png": "[encoded data removed]",
            "text/plain": [
              "<Figure size 432x288 with 2 Axes>"
            ]
          },
          "metadata": {
            "tags": [],
            "needs_background": "light"
          }
        }
      ]
    },
    {
      "cell_type": "code",
      "metadata": {
        "colab": {
          "base_uri": "https://localhost:8080/",
          "height": 507
        },
        "id": "DBGTLg9GgKj6",
        "outputId": "7008d27a-eea3-4cdd-d007-b6abfa840c9b"
      },
      "source": [
        "dataset = MnistPairs(root=\".\", train=True, download=True, order='right')\n",
        "train_set, val_set = torch.utils.data.random_split(dataset, [27000, 3000])\n",
        "item = train_set[0]\n",
        "plt.subplot(1,2,1), plt.imshow(item[0], cmap='gray')\n",
        "plt.subplot(1,2,2), plt.imshow(item[1], cmap='gray')\n",
        "plt.suptitle(\"Train set: Right ordered with label {}\".format(item[2]))\n",
        "plt.show()\n",
        "\n",
        "item = val_set[0] # test last item\n",
        "plt.subplot(1,2,1), plt.imshow(item[0], cmap='gray')\n",
        "plt.subplot(1,2,2), plt.imshow(item[1], cmap='gray')\n",
        "plt.suptitle(\"Validation Set: Right ordered with label {}\".format(item[2]))\n",
        "plt.show()"
      ],
      "execution_count": 19,
      "outputs": [
        {
          "output_type": "display_data",
          "data": {
            "image/png": "[encoded data removed]",
            "text/plain": [
              "<Figure size 432x288 with 2 Axes>"
            ]
          },
          "metadata": {
            "tags": [],
            "needs_background": "light"
          }
        },
        {
          "output_type": "display_data",
          "data": {
            "image/png": "[encoded data removed]",
            "text/plain": [
              "<Figure size 432x288 with 2 Axes>"
            ]
          },
          "metadata": {
            "tags": [],
            "needs_background": "light"
          }
        }
      ]
    },
    {
      "cell_type": "markdown",
      "metadata": {
        "id": "ovkuIeF8_zik"
      },
      "source": [
        "### Label and Pair Distribution"
      ]
    },
    {
      "cell_type": "markdown",
      "metadata": {
        "id": "nuL02uUS_zik"
      },
      "source": [
        "Visualize the distribution of the labels and pairs in the training, validation and testing sets."
      ]
    },
    {
      "cell_type": "code",
      "metadata": {
        "id": "zN9kU_te_zil"
      },
      "source": [
        "def calculate_distribution_of_labels(dataset):\n",
        "    pass"
      ],
      "execution_count": 7,
      "outputs": []
    },
    {
      "cell_type": "markdown",
      "metadata": {
        "id": "J62fQVGC_zil"
      },
      "source": [
        "If the distribution of the labels in the test set differs from the one in the training set, we should expect a different performance of the model on the test set."
      ]
    },
    {
      "cell_type": "markdown",
      "metadata": {
        "id": "B5eQeqNE_zim"
      },
      "source": [
        "## Task 2. Design training settings"
      ]
    },
    {
      "cell_type": "markdown",
      "metadata": {
        "id": "qTxxF0-k_zim"
      },
      "source": [
        "Having the MnistPairs dataset implemented, we can now nicely wrap in with a DataLoader class for the ease of training."
      ]
    },
    {
      "cell_type": "code",
      "metadata": {
        "id": "Ht0OPdzj_zin"
      },
      "source": [
        ""
      ],
      "execution_count": 7,
      "outputs": []
    },
    {
      "cell_type": "markdown",
      "metadata": {
        "id": "65Slm7ld_zin"
      },
      "source": [
        "Define a bunch of models to test, the loss function and the optimizers."
      ]
    },
    {
      "cell_type": "code",
      "metadata": {
        "id": "QxZxOWfk_zio"
      },
      "source": [
        ""
      ],
      "execution_count": 7,
      "outputs": []
    },
    {
      "cell_type": "markdown",
      "metadata": {
        "id": "QylOg4Jj_zio"
      },
      "source": [
        "Let us also define the metric we are going to use for the assesment of the model. We will simply use the accuracy of the model."
      ]
    },
    {
      "cell_type": "code",
      "metadata": {
        "id": "D0JJmbyj_zip"
      },
      "source": [
        "def accuracy(labels, predictions):\n",
        "    # Return the accuracy of predictions, i.e. the part of cases\n",
        "    # where the corresponding prediction matches the label.\n",
        "    pass"
      ],
      "execution_count": 8,
      "outputs": []
    },
    {
      "cell_type": "markdown",
      "metadata": {
        "id": "lNudTV7M_zip"
      },
      "source": [
        "Write the training loop."
      ]
    },
    {
      "cell_type": "code",
      "metadata": {
        "id": "GPi_scOk_ziq"
      },
      "source": [
        "def train_model(model, dataloader, optimizer, num_epochs):\n",
        "    pass"
      ],
      "execution_count": 9,
      "outputs": []
    },
    {
      "cell_type": "markdown",
      "metadata": {
        "id": "T3ZEUa9o_ziq"
      },
      "source": [
        "Write the evaluation code."
      ]
    },
    {
      "cell_type": "code",
      "metadata": {
        "id": "uqkTrNaZ_ziq"
      },
      "source": [
        "def evaluate_model(model, dataset_loader):\n",
        "    pass"
      ],
      "execution_count": 10,
      "outputs": []
    },
    {
      "cell_type": "markdown",
      "metadata": {
        "id": "lU1Jqf7x_zir"
      },
      "source": [
        "## Task 3. Train on training 'right' set."
      ]
    },
    {
      "cell_type": "markdown",
      "metadata": {
        "id": "ouf8smGL_zir"
      },
      "source": [
        "Train the models on training 'right' set and select the best model on the validation set."
      ]
    },
    {
      "cell_type": "code",
      "metadata": {
        "id": "i5aRAb45_zis"
      },
      "source": [
        ""
      ],
      "execution_count": 10,
      "outputs": []
    },
    {
      "cell_type": "markdown",
      "metadata": {
        "id": "v44OCs3U_zis"
      },
      "source": [
        "## Task 4. Train on concatenated training set."
      ]
    },
    {
      "cell_type": "markdown",
      "metadata": {
        "id": "8DzpVQZU_zit"
      },
      "source": [
        "Train the models on concatenated training set and select the best model on the validation set."
      ]
    },
    {
      "cell_type": "code",
      "metadata": {
        "id": "gIbE0aRO_zit"
      },
      "source": [
        ""
      ],
      "execution_count": 10,
      "outputs": []
    },
    {
      "cell_type": "markdown",
      "metadata": {
        "id": "5iz9TzvA_ziu"
      },
      "source": [
        "##  Task 5. Evaluation"
      ]
    },
    {
      "cell_type": "markdown",
      "metadata": {
        "id": "s0GyPgEa_ziu"
      },
      "source": [
        "From the previously selected models select the one that shows the best results on the validation set. Let's denote this as the best model. How can you explain the differences in the accuracies of the models trained on different training sets?\n"
      ]
    },
    {
      "cell_type": "code",
      "metadata": {
        "id": "-L4zQOxp_ziv"
      },
      "source": [
        ""
      ],
      "execution_count": 10,
      "outputs": []
    },
    {
      "cell_type": "markdown",
      "metadata": {
        "id": "UwtKoWGJ_ziv"
      },
      "source": [
        "Report the accuracy of the best model on the test set."
      ]
    },
    {
      "cell_type": "code",
      "metadata": {
        "id": "VvbZ4Osu_ziw"
      },
      "source": [
        ""
      ],
      "execution_count": 10,
      "outputs": []
    },
    {
      "cell_type": "markdown",
      "metadata": {
        "id": "I-1sKAhK_ziw"
      },
      "source": [
        "## Task 6. Visualizations"
      ]
    },
    {
      "cell_type": "markdown",
      "metadata": {
        "id": "6ZDPTUxC_zix"
      },
      "source": [
        "Visualize some examples of the best model's successful and failure predictions on the test set. Visualize the accuaracy depending on the digit pairs. Why is the model better or worse on some digits? "
      ]
    },
    {
      "cell_type": "code",
      "metadata": {
        "id": "1y3sZQeU_zix"
      },
      "source": [
        ""
      ],
      "execution_count": 10,
      "outputs": []
    },
    {
      "cell_type": "code",
      "metadata": {
        "id": "oQ28e6c9TjuT"
      },
      "source": [
        "!cp 'dataset.py' '/content/drive/My Drive/ATML/Assignments/Assignment1/'"
      ],
      "execution_count": 11,
      "outputs": []
    }
  ]
}