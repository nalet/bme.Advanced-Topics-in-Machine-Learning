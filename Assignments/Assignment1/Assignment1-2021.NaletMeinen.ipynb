{
  "nbformat": 4,
  "nbformat_minor": 0,
  "metadata": {
    "kernelspec": {
      "display_name": "Python 3",
      "language": "python",
      "name": "python3"
    },
    "language_info": {
      "codemirror_mode": {
        "name": "ipython",
        "version": 3
      },
      "file_extension": ".py",
      "mimetype": "text/x-python",
      "name": "python",
      "nbconvert_exporter": "python",
      "pygments_lexer": "ipython3",
      "version": "3.8.2"
    },
    "colab": {
      "name": "Assignment1-2021.NaletMeinen.ipynb",
      "provenance": [],
      "collapsed_sections": [],
      "toc_visible": true
    },
    "accelerator": "GPU",
    "widgets": {
      "application/vnd.jupyter.widget-state+json": {
        "17ef61cb7ba14877a8e229608ed943f3": {
          "model_module": "@jupyter-widgets/controls",
          "model_name": "HBoxModel",
          "state": {
            "_view_name": "HBoxView",
            "_dom_classes": [],
            "_model_name": "HBoxModel",
            "_view_module": "@jupyter-widgets/controls",
            "_model_module_version": "1.5.0",
            "_view_count": null,
            "_view_module_version": "1.5.0",
            "box_style": "",
            "layout": "IPY_MODEL_e6bd473614c44aaab74106e134c7961b",
            "_model_module": "@jupyter-widgets/controls",
            "children": [
              "IPY_MODEL_c26c0bc28822405c914fe11795abde03",
              "IPY_MODEL_99fad99d2e754c288c41500786171d23"
            ]
          }
        },
        "e6bd473614c44aaab74106e134c7961b": {
          "model_module": "@jupyter-widgets/base",
          "model_name": "LayoutModel",
          "state": {
            "_view_name": "LayoutView",
            "grid_template_rows": null,
            "right": null,
            "justify_content": null,
            "_view_module": "@jupyter-widgets/base",
            "overflow": null,
            "_model_module_version": "1.2.0",
            "_view_count": null,
            "flex_flow": null,
            "width": null,
            "min_width": null,
            "border": null,
            "align_items": null,
            "bottom": null,
            "_model_module": "@jupyter-widgets/base",
            "top": null,
            "grid_column": null,
            "overflow_y": null,
            "overflow_x": null,
            "grid_auto_flow": null,
            "grid_area": null,
            "grid_template_columns": null,
            "flex": null,
            "_model_name": "LayoutModel",
            "justify_items": null,
            "grid_row": null,
            "max_height": null,
            "align_content": null,
            "visibility": null,
            "align_self": null,
            "height": null,
            "min_height": null,
            "padding": null,
            "grid_auto_rows": null,
            "grid_gap": null,
            "max_width": null,
            "order": null,
            "_view_module_version": "1.2.0",
            "grid_template_areas": null,
            "object_position": null,
            "object_fit": null,
            "grid_auto_columns": null,
            "margin": null,
            "display": null,
            "left": null
          }
        },
        "c26c0bc28822405c914fe11795abde03": {
          "model_module": "@jupyter-widgets/controls",
          "model_name": "FloatProgressModel",
          "state": {
            "_view_name": "ProgressView",
            "style": "IPY_MODEL_4fb75c05f5864740be9764c0a79c3fb9",
            "_dom_classes": [],
            "description": "100%",
            "_model_name": "FloatProgressModel",
            "bar_style": "success",
            "max": 211,
            "_view_module": "@jupyter-widgets/controls",
            "_model_module_version": "1.5.0",
            "value": 211,
            "_view_count": null,
            "_view_module_version": "1.5.0",
            "orientation": "horizontal",
            "min": 0,
            "description_tooltip": null,
            "_model_module": "@jupyter-widgets/controls",
            "layout": "IPY_MODEL_d427ff6742de4bda8133d6c0e79d4bcf"
          }
        },
        "99fad99d2e754c288c41500786171d23": {
          "model_module": "@jupyter-widgets/controls",
          "model_name": "HTMLModel",
          "state": {
            "_view_name": "HTMLView",
            "style": "IPY_MODEL_12842a2fb1eb4701ba8de001c1fc285b",
            "_dom_classes": [],
            "description": "",
            "_model_name": "HTMLModel",
            "placeholder": "​",
            "_view_module": "@jupyter-widgets/controls",
            "_model_module_version": "1.5.0",
            "value": " 211/211 [00:08&lt;00:00, 25.52it/s]",
            "_view_count": null,
            "_view_module_version": "1.5.0",
            "description_tooltip": null,
            "_model_module": "@jupyter-widgets/controls",
            "layout": "IPY_MODEL_d5e3950c9f74476ab1c572db224c1665"
          }
        },
        "4fb75c05f5864740be9764c0a79c3fb9": {
          "model_module": "@jupyter-widgets/controls",
          "model_name": "ProgressStyleModel",
          "state": {
            "_view_name": "StyleView",
            "_model_name": "ProgressStyleModel",
            "description_width": "initial",
            "_view_module": "@jupyter-widgets/base",
            "_model_module_version": "1.5.0",
            "_view_count": null,
            "_view_module_version": "1.2.0",
            "bar_color": null,
            "_model_module": "@jupyter-widgets/controls"
          }
        },
        "d427ff6742de4bda8133d6c0e79d4bcf": {
          "model_module": "@jupyter-widgets/base",
          "model_name": "LayoutModel",
          "state": {
            "_view_name": "LayoutView",
            "grid_template_rows": null,
            "right": null,
            "justify_content": null,
            "_view_module": "@jupyter-widgets/base",
            "overflow": null,
            "_model_module_version": "1.2.0",
            "_view_count": null,
            "flex_flow": null,
            "width": null,
            "min_width": null,
            "border": null,
            "align_items": null,
            "bottom": null,
            "_model_module": "@jupyter-widgets/base",
            "top": null,
            "grid_column": null,
            "overflow_y": null,
            "overflow_x": null,
            "grid_auto_flow": null,
            "grid_area": null,
            "grid_template_columns": null,
            "flex": null,
            "_model_name": "LayoutModel",
            "justify_items": null,
            "grid_row": null,
            "max_height": null,
            "align_content": null,
            "visibility": null,
            "align_self": null,
            "height": null,
            "min_height": null,
            "padding": null,
            "grid_auto_rows": null,
            "grid_gap": null,
            "max_width": null,
            "order": null,
            "_view_module_version": "1.2.0",
            "grid_template_areas": null,
            "object_position": null,
            "object_fit": null,
            "grid_auto_columns": null,
            "margin": null,
            "display": null,
            "left": null
          }
        },
        "12842a2fb1eb4701ba8de001c1fc285b": {
          "model_module": "@jupyter-widgets/controls",
          "model_name": "DescriptionStyleModel",
          "state": {
            "_view_name": "StyleView",
            "_model_name": "DescriptionStyleModel",
            "description_width": "",
            "_view_module": "@jupyter-widgets/base",
            "_model_module_version": "1.5.0",
            "_view_count": null,
            "_view_module_version": "1.2.0",
            "_model_module": "@jupyter-widgets/controls"
          }
        },
        "d5e3950c9f74476ab1c572db224c1665": {
          "model_module": "@jupyter-widgets/base",
          "model_name": "LayoutModel",
          "state": {
            "_view_name": "LayoutView",
            "grid_template_rows": null,
            "right": null,
            "justify_content": null,
            "_view_module": "@jupyter-widgets/base",
            "overflow": null,
            "_model_module_version": "1.2.0",
            "_view_count": null,
            "flex_flow": null,
            "width": null,
            "min_width": null,
            "border": null,
            "align_items": null,
            "bottom": null,
            "_model_module": "@jupyter-widgets/base",
            "top": null,
            "grid_column": null,
            "overflow_y": null,
            "overflow_x": null,
            "grid_auto_flow": null,
            "grid_area": null,
            "grid_template_columns": null,
            "flex": null,
            "_model_name": "LayoutModel",
            "justify_items": null,
            "grid_row": null,
            "max_height": null,
            "align_content": null,
            "visibility": null,
            "align_self": null,
            "height": null,
            "min_height": null,
            "padding": null,
            "grid_auto_rows": null,
            "grid_gap": null,
            "max_width": null,
            "order": null,
            "_view_module_version": "1.2.0",
            "grid_template_areas": null,
            "object_position": null,
            "object_fit": null,
            "grid_auto_columns": null,
            "margin": null,
            "display": null,
            "left": null
          }
        }
      }
    }
  },
  "cells": [
    {
      "cell_type": "markdown",
      "metadata": {
        "id": "g6pBgNvF_ziM"
      },
      "source": [
        "# Name: Nalet Meinen"
      ]
    },
    {
      "cell_type": "code",
      "metadata": {
        "id": "n5BWdNxT_zib"
      },
      "source": [
        "%matplotlib inline\n",
        "import torch\n",
        "import torch.nn as nn\n",
        "import torchvision\n",
        "import torchvision.transforms as transforms\n",
        "import os\n",
        "from tqdm import tqdm\n",
        "\n",
        "import matplotlib.pyplot as plt\n",
        "import numpy as np\n",
        "\n",
        "from tqdm.notebook import tqdm\n",
        "from IPython.display import clear_output\n",
        "\n",
        "# Define which device to use for computations\n",
        "# If you have gpu, use 'cuda'\n",
        "device = torch.device('cuda')\n",
        "#device = torch.device('cpu')"
      ],
      "execution_count": 1,
      "outputs": []
    },
    {
      "cell_type": "markdown",
      "metadata": {
        "id": "KAxA-4LH_zid"
      },
      "source": [
        "# Assignment 1 ATML 2021"
      ]
    },
    {
      "cell_type": "code",
      "metadata": {
        "id": "lNNy8Sh2AATd",
        "colab": {
          "base_uri": "https://localhost:8080/"
        },
        "outputId": "2f3fbd76-f072-44d0-d1a6-1c970efe9b85"
      },
      "source": [
        "!nvidia-smi\n",
        "if not os.path.isfile('dataset.py'):\n",
        "    from google.colab import drive\n",
        "    drive.mount('/content/drive')\n",
        "    !cp -r \"/content/drive/My Drive/ATML/Assignments/Assignment1/dataset.py\" \"dataset.py\""
      ],
      "execution_count": 2,
      "outputs": [
        {
          "output_type": "stream",
          "text": [
            "Fri Mar 26 22:55:00 2021       \n",
            "+-----------------------------------------------------------------------------+\n",
            "| NVIDIA-SMI 460.56       Driver Version: 460.32.03    CUDA Version: 11.2     |\n",
            "|-------------------------------+----------------------+----------------------+\n",
            "| GPU  Name        Persistence-M| Bus-Id        Disp.A | Volatile Uncorr. ECC |\n",
            "| Fan  Temp  Perf  Pwr:Usage/Cap|         Memory-Usage | GPU-Util  Compute M. |\n",
            "|                               |                      |               MIG M. |\n",
            "|===============================+======================+======================|\n",
            "|   0  Tesla T4            Off  | 00000000:00:04.0 Off |                    0 |\n",
            "| N/A   48C    P8    10W /  70W |      0MiB / 15109MiB |      0%      Default |\n",
            "|                               |                      |                  N/A |\n",
            "+-------------------------------+----------------------+----------------------+\n",
            "                                                                               \n",
            "+-----------------------------------------------------------------------------+\n",
            "| Processes:                                                                  |\n",
            "|  GPU   GI   CI        PID   Type   Process name                  GPU Memory |\n",
            "|        ID   ID                                                   Usage      |\n",
            "|=============================================================================|\n",
            "|  No running processes found                                                 |\n",
            "+-----------------------------------------------------------------------------+\n"
          ],
          "name": "stdout"
        }
      ]
    },
    {
      "cell_type": "markdown",
      "metadata": {
        "id": "XpjJHHYo_zie"
      },
      "source": [
        "## Task 1. Prepare data for training and model selection"
      ]
    },
    {
      "cell_type": "markdown",
      "metadata": {
        "id": "pAngWFu4_zif"
      },
      "source": [
        "PyTorch torchvision module provides you with some predesigned datasets. Like the MNIST dataset, that we are going to use (https://pytorch.org/vision/0.8/_modules/torchvision/datasets/mnist.html#MNIST). Let us build a simple MNIST dataset and visualise some samples."
      ]
    },
    {
      "cell_type": "code",
      "metadata": {
        "id": "R47vJ6c-_zig",
        "colab": {
          "base_uri": "https://localhost:8080/",
          "height": 300
        },
        "outputId": "e2233e37-44fe-4cf6-c6b9-b8bb0f897bbe"
      },
      "source": [
        "mnist_dataset = torchvision.datasets.MNIST(root=\".\", train=True, download=True)\n",
        "print(len(mnist_dataset))\n",
        "image, label = mnist_dataset[0]\n",
        "plt.imshow(image, cmap='gray')\n",
        "print(label)"
      ],
      "execution_count": 3,
      "outputs": [
        {
          "output_type": "stream",
          "text": [
            "60000\n",
            "5\n"
          ],
          "name": "stdout"
        },
        {
          "output_type": "display_data",
          "data": {
            "image/png": "[encoded data removed]",
            "text/plain": [
              "<Figure size 432x288 with 1 Axes>"
            ]
          },
          "metadata": {
            "tags": [],
            "needs_background": "light"
          }
        }
      ]
    },
    {
      "cell_type": "markdown",
      "metadata": {
        "id": "ywP83lsF_zig"
      },
      "source": [
        "For the needs of this assignment you will have to implement a similar Dataset class which will yield an image pair and a label equal to the mode 10 sum of the labels in the pair. "
      ]
    },
    {
      "cell_type": "markdown",
      "metadata": {
        "id": "LV4FoZI8_zih"
      },
      "source": [
        "### MnistPairs dataset"
      ]
    },
    {
      "cell_type": "markdown",
      "metadata": {
        "id": "hXpVwaUr_zii"
      },
      "source": [
        "Implement the __getitem__ method in the dataset.py file. Build training and test sets with the 'right' and 'left' orders of the digits. Split the both training sets into training and validation sets with 90% and 10% of the data respectively. Concatenate the validation sets into one with both 'right' and 'test' orders. The same should be done with the test sets. Visualise some samples from the constructed datasets."
      ]
    },
    {
      "cell_type": "code",
      "metadata": {
        "id": "IaVAb2tZ_zii"
      },
      "source": [
        "from dataset import MnistPairs"
      ],
      "execution_count": 4,
      "outputs": []
    },
    {
      "cell_type": "code",
      "metadata": {
        "id": "o2MIb8SX_zij",
        "colab": {
          "base_uri": "https://localhost:8080/",
          "height": 1000
        },
        "outputId": "4788d931-6843-4647-d6b5-a9bb523a426a"
      },
      "source": [
        "dataset = MnistPairs(root=\".\", train=True, download=True, order='right')\n",
        "print(\"Length of dataset:\",len(dataset))\n",
        "item = dataset[0]\n",
        "plt.subplot(1,2,1), plt.imshow(item[0], cmap='gray')\n",
        "plt.subplot(1,2,2), plt.imshow(item[1], cmap='gray')\n",
        "plt.suptitle(\"Right ordered with label {}\".format(item[2]))\n",
        "plt.show()\n",
        "\n",
        "dataset = MnistPairs(root=\".\", train=True, download=True, order='left')\n",
        "item = dataset[0]\n",
        "plt.subplot(1,2,1), plt.imshow(item[0], cmap='gray')\n",
        "plt.subplot(1,2,2), plt.imshow(item[1], cmap='gray')\n",
        "plt.suptitle(\"Right ordered with label {}\".format(item[2]))\n",
        "plt.show()\n",
        "\n",
        "dataset = MnistPairs(root=\".\", train=True, download=True, order='right', return_original_labels=True)\n",
        "item = dataset[len(dataset)-1] # test last item\n",
        "plt.subplot(1,2,1), plt.imshow(item[0], cmap='gray')\n",
        "plt.title(\"First image, label {}\".format(item[3]))\n",
        "plt.subplot(1,2,2), plt.imshow(item[1], cmap='gray')\n",
        "plt.title(\"Second image, label {}\".format(item[4]))\n",
        "plt.suptitle(\"Right ordered with label {}, return originals\".format(item[2]))\n",
        "plt.show()\n",
        "\n",
        "dataset = MnistPairs(root=\".\", train=True, download=True, order='left', return_original_labels=True)\n",
        "item = dataset[len(dataset)-1] # test last item\n",
        "plt.subplot(1,2,1), plt.imshow(item[0], cmap='gray')\n",
        "plt.title(\"First image, label {}\".format(item[3]))\n",
        "plt.subplot(1,2,2), plt.imshow(item[1], cmap='gray')\n",
        "plt.title(\"Second image, label {}\".format(item[4]))\n",
        "plt.suptitle(\"Right ordered with label {}, return originals\".format(item[2]))\n",
        "plt.show()\n",
        "\n",
        "dataset = MnistPairs(root=\".\", train=True, download=True, order='right', return_original_labels=True, concatenated=True)\n",
        "item = dataset[len(dataset)-1] # test last item\n",
        "plt.imshow(item[0], cmap='gray')\n",
        "plt.suptitle(\"Right ordered with label {}\".format(item[1]))\n",
        "plt.show()\n",
        "\n",
        "dataset = MnistPairs(root=\".\", train=True, download=True, order='left', return_original_labels=True, concatenated=True)\n",
        "item = dataset[len(dataset)-1] # test last item\n",
        "plt.imshow(item[0], cmap='gray')\n",
        "plt.title(\"First image, label {}, second image {}\".format(item[2], item[3]))\n",
        "plt.suptitle(\"Left ordered with label {}, return originals\".format(item[1]))\n",
        "plt.show()"
      ],
      "execution_count": 5,
      "outputs": [
        {
          "output_type": "stream",
          "text": [
            "Length of dataset: 30000\n"
          ],
          "name": "stdout"
        },
        {
          "output_type": "display_data",
          "data": {
            "image/png": "[encoded data removed]",
            "text/plain": [
              "<Figure size 432x288 with 2 Axes>"
            ]
          },
          "metadata": {
            "tags": [],
            "needs_background": "light"
          }
        },
        {
          "output_type": "display_data",
          "data": {
            "image/png": "[encoded data removed]",
            "text/plain": [
              "<Figure size 432x288 with 2 Axes>"
            ]
          },
          "metadata": {
            "tags": [],
            "needs_background": "light"
          }
        },
        {
          "output_type": "display_data",
          "data": {
            "image/png": "[encoded data removed]",
            "text/plain": [
              "<Figure size 432x288 with 2 Axes>"
            ]
          },
          "metadata": {
            "tags": [],
            "needs_background": "light"
          }
        },
        {
          "output_type": "display_data",
          "data": {
            "image/png": "[encoded data removed]",
            "text/plain": [
              "<Figure size 432x288 with 2 Axes>"
            ]
          },
          "metadata": {
            "tags": [],
            "needs_background": "light"
          }
        },
        {
          "output_type": "display_data",
          "data": {
            "image/png": "[encoded data removed]",
            "text/plain": [
              "<Figure size 432x288 with 1 Axes>"
            ]
          },
          "metadata": {
            "tags": [],
            "needs_background": "light"
          }
        },
        {
          "output_type": "display_data",
          "data": {
            "image/png": "[encoded data removed]",
            "text/plain": [
              "<Figure size 432x288 with 1 Axes>"
            ]
          },
          "metadata": {
            "tags": [],
            "needs_background": "light"
          }
        }
      ]
    },
    {
      "cell_type": "code",
      "metadata": {
        "colab": {
          "base_uri": "https://localhost:8080/"
        },
        "id": "DBGTLg9GgKj6",
        "outputId": "3da04f98-069b-45e7-c5ab-c62f53da5e6f"
      },
      "source": [
        "transforms = torchvision.transforms.Compose([torchvision.transforms.ToTensor(),\n",
        "                                             torchvision.transforms.Normalize(mean=(0.5,), std=(0.5,))])\n",
        "\n",
        "dataset_left = MnistPairs(root=\".\", train=True, download=True, transform=transforms, order='left', return_original_labels=True, concatenated=True)\n",
        "dataset_left_test_set = MnistPairs(root=\".\", train=False, download=True, transform=transforms, order='left', return_original_labels=True, concatenated=True)\n",
        "dataset_left_train_set, dataset_left_val_set = torch.utils.data.random_split(dataset_left, [27000, 3000])\n",
        "#Right\n",
        "dataset_right = MnistPairs(root=\".\", train=True, download=True, transform=transforms, order='right', return_original_labels=True, concatenated=True)\n",
        "dataset_right_test_set = MnistPairs(root=\".\", train=False, download=True, transform=transforms, order='right', return_original_labels=True, concatenated=True)\n",
        "dataset_right_train_set, dataset_right_val_set = torch.utils.data.random_split(dataset_right, [27000, 3000])\n",
        "#Both\n",
        "dataset_both_train_set = torch.utils.data.ConcatDataset([dataset_left_train_set, dataset_right_train_set])\n",
        "dataset_both_test_set = torch.utils.data.ConcatDataset([dataset_left_test_set, dataset_right_test_set])\n",
        "dataset_both_val_set = torch.utils.data.ConcatDataset([dataset_left_val_set, dataset_right_val_set])\n",
        "\n",
        "print(\"Length of concatenated train is {}, length of concatenated test is {}, length of concatenated val is {}.\".format(len(dataset_both_train_set), len(dataset_both_test_set), len(dataset_both_val_set)))"
      ],
      "execution_count": 6,
      "outputs": [
        {
          "output_type": "stream",
          "text": [
            "Length of concatenated train is 54000, length of concatenated test is 10000, length of concatenated val is 6000.\n"
          ],
          "name": "stdout"
        }
      ]
    },
    {
      "cell_type": "markdown",
      "metadata": {
        "id": "ovkuIeF8_zik"
      },
      "source": [
        "### Label and Pair Distribution"
      ]
    },
    {
      "cell_type": "markdown",
      "metadata": {
        "id": "nuL02uUS_zik"
      },
      "source": [
        "Visualize the distribution of the labels and pairs in the training, validation and testing sets."
      ]
    },
    {
      "cell_type": "code",
      "metadata": {
        "id": "zN9kU_te_zil",
        "colab": {
          "base_uri": "https://localhost:8080/",
          "height": 1000
        },
        "outputId": "9b00cdb2-1ac7-4e12-a642-0ecbd7c7f8a4"
      },
      "source": [
        "import seaborn as sns; sns.set_theme()\n",
        "\n",
        "def calculate_distribution_of_labels(dataset):\n",
        "    hist = []\n",
        "    pairs = np.zeros((10,10))\n",
        "    for item in dataset:\n",
        "        hist.append(item[2])\n",
        "        pairs[item[2], item[3]] += 1\n",
        "    plt.rcdefaults()\n",
        "    plt.hist(hist)\n",
        "    plt.show()\n",
        "\n",
        "    sns.heatmap(pairs)\n",
        "    plt.show()\n",
        "    plt.rcdefaults()\n",
        "\n",
        "calculate_distribution_of_labels(dataset_both_train_set)\n",
        "calculate_distribution_of_labels(dataset_both_test_set)\n",
        "calculate_distribution_of_labels(dataset_both_val_set)\n"
      ],
      "execution_count": 7,
      "outputs": [
        {
          "output_type": "display_data",
          "data": {
            "image/png": "[encoded data removed]",
            "text/plain": [
              "<Figure size 640x480 with 1 Axes>"
            ]
          },
          "metadata": {
            "tags": []
          }
        },
        {
          "output_type": "display_data",
          "data": {
            "image/png": "[encoded data removed]",
            "text/plain": [
              "<Figure size 640x480 with 2 Axes>"
            ]
          },
          "metadata": {
            "tags": []
          }
        },
        {
          "output_type": "display_data",
          "data": {
            "image/png": "[encoded data removed]",
            "text/plain": [
              "<Figure size 640x480 with 1 Axes>"
            ]
          },
          "metadata": {
            "tags": []
          }
        },
        {
          "output_type": "display_data",
          "data": {
            "image/png": "[encoded data removed]",
            "text/plain": [
              "<Figure size 640x480 with 2 Axes>"
            ]
          },
          "metadata": {
            "tags": []
          }
        },
        {
          "output_type": "display_data",
          "data": {
            "image/png": "[encoded data removed]",
            "text/plain": [
              "<Figure size 640x480 with 1 Axes>"
            ]
          },
          "metadata": {
            "tags": []
          }
        },
        {
          "output_type": "display_data",
          "data": {
            "image/png": "[encoded data removed]",
            "text/plain": [
              "<Figure size 640x480 with 2 Axes>"
            ]
          },
          "metadata": {
            "tags": []
          }
        }
      ]
    },
    {
      "cell_type": "markdown",
      "metadata": {
        "id": "J62fQVGC_zil"
      },
      "source": [
        "If the distribution of the labels in the test set differs from the one in the training set, we should expect a different performance of the model on the test set."
      ]
    },
    {
      "cell_type": "markdown",
      "metadata": {
        "id": "B5eQeqNE_zim"
      },
      "source": [
        "## Task 2. Design training settings"
      ]
    },
    {
      "cell_type": "markdown",
      "metadata": {
        "id": "qTxxF0-k_zim"
      },
      "source": [
        "Having the MnistPairs dataset implemented, we can now nicely wrap in with a DataLoader class for the ease of training."
      ]
    },
    {
      "cell_type": "code",
      "metadata": {
        "id": "Ht0OPdzj_zin"
      },
      "source": [
        "batch_size=128\n",
        "#Left\n",
        "train_left_loader = torch.utils.data.DataLoader(dataset_left_train_set, batch_size=batch_size, shuffle=True)\n",
        "val_left_loader = torch.utils.data.DataLoader(dataset_left_val_set, batch_size=batch_size, shuffle=False)\n",
        "test_left_loader = torch.utils.data.DataLoader(dataset_left_test_set, batch_size=batch_size, shuffle=False)\n",
        "#Right\n",
        "train_right_loader = torch.utils.data.DataLoader(dataset_right_train_set, batch_size=batch_size, shuffle=True)\n",
        "val_right_loader = torch.utils.data.DataLoader(dataset_right_val_set, batch_size=batch_size, shuffle=False)\n",
        "test_right_loader = torch.utils.data.DataLoader(dataset_right_test_set, batch_size=batch_size, shuffle=False)\n",
        "#Both\n",
        "train_both_loader = torch.utils.data.DataLoader(dataset_both_train_set, batch_size=batch_size, shuffle=True)\n",
        "val_both_loader = torch.utils.data.DataLoader(dataset_both_val_set, batch_size=batch_size, shuffle=False)\n",
        "test_both_loader = torch.utils.data.DataLoader(dataset_both_test_set, batch_size=batch_size, shuffle=False)"
      ],
      "execution_count": 8,
      "outputs": []
    },
    {
      "cell_type": "markdown",
      "metadata": {
        "id": "65Slm7ld_zin"
      },
      "source": [
        "Define a bunch of models to test, the loss function and the optimizers."
      ]
    },
    {
      "cell_type": "code",
      "metadata": {
        "id": "QxZxOWfk_zio"
      },
      "source": [
        "class Module4Model(torch.nn.Module):\n",
        "    def __init__(self):\n",
        "        super(Module4Model, self).__init__()\n",
        "        self.main = nn.Sequential(nn.ReLU(),\n",
        "                                  nn.Linear(56*28, 256),\n",
        "                                  nn.ReLU(),\n",
        "                                  nn.Linear(256, 128),\n",
        "                                  nn.ReLU(),\n",
        "                                  nn.Linear(128, 10),\n",
        "                                  nn.LogSoftmax(dim=1))\n",
        "    \n",
        "    def forward(self, x):\n",
        "        out = x.view(x.size(0), 56*28)\n",
        "        out = self.main(out)\n",
        "        return out\n",
        "\n",
        "model = Module4Model()\n",
        "model = model.to(device)\n",
        "loss_fn = nn.CrossEntropyLoss()\n",
        "optimizer = torch.optim.SGD(model.parameters(), lr=0.05)"
      ],
      "execution_count": 12,
      "outputs": []
    },
    {
      "cell_type": "markdown",
      "metadata": {
        "id": "QylOg4Jj_zio"
      },
      "source": [
        "Let us also define the metric we are going to use for the assesment of the model. We will simply use the accuracy of the model."
      ]
    },
    {
      "cell_type": "code",
      "metadata": {
        "id": "D0JJmbyj_zip"
      },
      "source": [
        "def accuracy(labels, predictions):\n",
        "    # Return the accuracy of predictions, i.e. the part of cases\n",
        "    # where the corresponding prediction matches the label.\n",
        "    pass"
      ],
      "execution_count": 13,
      "outputs": []
    },
    {
      "cell_type": "markdown",
      "metadata": {
        "id": "lNudTV7M_zip"
      },
      "source": [
        "Write the training loop."
      ]
    },
    {
      "cell_type": "code",
      "metadata": {
        "id": "GPi_scOk_ziq"
      },
      "source": [
        "def train_model(model, dataloader, optimizer, num_epochs):\n",
        "    model.train()\n",
        "    for iteration, (images, labels, _, _) in enumerate(tqdm(dataloader)):\n",
        "        ## TODO: fill the training loop\n",
        "        images = images.to(device)\n",
        "        labels = labels.to(device)\n",
        "        optimizer.zero_grad()\n",
        "        output = model(images)\n",
        "        loss = loss_fn(output, labels)\n",
        "        loss.backward()\n",
        "        optimizer.step()\n",
        "        # The code below will print loss every 100 iterations. Make sure the loss computer by loss_fn is in variable \"loss\"\n",
        "        #if iteration % 100 == 0:\n",
        "        #print('Training iteration {}: loss {:.4f}'.format(iteration, loss.item()))"
      ],
      "execution_count": 14,
      "outputs": []
    },
    {
      "cell_type": "markdown",
      "metadata": {
        "id": "T3ZEUa9o_ziq"
      },
      "source": [
        "Write the evaluation code."
      ]
    },
    {
      "cell_type": "code",
      "metadata": {
        "id": "uqkTrNaZ_ziq"
      },
      "source": [
        "def evaluate_model(model, dataset_loader):\n",
        "    model.eval()\n",
        "    # TODO - initialize any variables if necessary\n",
        "    losses = []\n",
        "    correct_predictions = 0\n",
        "    with torch.no_grad():\n",
        "        for images, labels, _, _ in dataset_loader:\n",
        "            images = images.to(device)\n",
        "            labels = labels.to(device)\n",
        "            output = model(images)\n",
        "            loss = loss_fn(output, labels)\n",
        "            predicted_labels = output.argmax(dim=1)\n",
        "            correct_predictions += (predicted_labels == labels).sum().item()\n",
        "            losses.append(loss.item())\n",
        "\n",
        "    ## Store and print average test loss and accuracy\n",
        "    average_loss = sum(losses) / len(losses)\n",
        "    accuracy = correct_predictions / len(dataset_loader)\n",
        "    print('Test average loss: {:.4f}, accuracy: {:.3f}'.format(average_loss, accuracy))"
      ],
      "execution_count": 15,
      "outputs": []
    },
    {
      "cell_type": "markdown",
      "metadata": {
        "id": "lU1Jqf7x_zir"
      },
      "source": [
        "## Task 3. Train on training 'right' set."
      ]
    },
    {
      "cell_type": "markdown",
      "metadata": {
        "id": "ouf8smGL_zir"
      },
      "source": [
        "Train the models on training 'right' set and select the best model on the validation set."
      ]
    },
    {
      "cell_type": "code",
      "metadata": {
        "id": "i5aRAb45_zis",
        "colab": {
          "base_uri": "https://localhost:8080/",
          "height": 119,
          "referenced_widgets": [
            "17ef61cb7ba14877a8e229608ed943f3",
            "e6bd473614c44aaab74106e134c7961b",
            "c26c0bc28822405c914fe11795abde03",
            "99fad99d2e754c288c41500786171d23",
            "4fb75c05f5864740be9764c0a79c3fb9",
            "d427ff6742de4bda8133d6c0e79d4bcf",
            "12842a2fb1eb4701ba8de001c1fc285b",
            "d5e3950c9f74476ab1c572db224c1665"
          ]
        },
        "outputId": "6bce150b-5cbe-4224-ec3d-2f578490578e"
      },
      "source": [
        "n_epochs = 1\n",
        "for epoch in range(n_epochs):\n",
        "    print('Epoch {}'.format(epoch+1))\n",
        "    train_model(model, train_right_loader, optimizer, n_epochs)\n",
        "    evaluate_model(model, val_right_loader)\n",
        "\n",
        "evaluate_model(model, test_right_loader)"
      ],
      "execution_count": 18,
      "outputs": [
        {
          "output_type": "stream",
          "text": [
            "Epoch 1\n"
          ],
          "name": "stdout"
        },
        {
          "output_type": "display_data",
          "data": {
            "application/vnd.jupyter.widget-view+json": {
              "model_id": "17ef61cb7ba14877a8e229608ed943f3",
              "version_minor": 0,
              "version_major": 2
            },
            "text/plain": [
              "HBox(children=(FloatProgress(value=0.0, max=211.0), HTML(value='')))"
            ]
          },
          "metadata": {
            "tags": []
          }
        },
        {
          "output_type": "stream",
          "text": [
            "\n",
            "Test average loss: 1.7493, accuracy: 82.917\n",
            "Test average loss: 1.6900, accuracy: 84.575\n"
          ],
          "name": "stdout"
        }
      ]
    },
    {
      "cell_type": "markdown",
      "metadata": {
        "id": "v44OCs3U_zis"
      },
      "source": [
        "## Task 4. Train on concatenated training set."
      ]
    },
    {
      "cell_type": "markdown",
      "metadata": {
        "id": "8DzpVQZU_zit"
      },
      "source": [
        "Train the models on concatenated training set and select the best model on the validation set."
      ]
    },
    {
      "cell_type": "code",
      "metadata": {
        "id": "gIbE0aRO_zit"
      },
      "source": [
        ""
      ],
      "execution_count": null,
      "outputs": []
    },
    {
      "cell_type": "markdown",
      "metadata": {
        "id": "5iz9TzvA_ziu"
      },
      "source": [
        "##  Task 5. Evaluation"
      ]
    },
    {
      "cell_type": "markdown",
      "metadata": {
        "id": "s0GyPgEa_ziu"
      },
      "source": [
        "From the previously selected models select the one that shows the best results on the validation set. Let's denote this as the best model. How can you explain the differences in the accuracies of the models trained on different training sets?\n"
      ]
    },
    {
      "cell_type": "code",
      "metadata": {
        "id": "-L4zQOxp_ziv"
      },
      "source": [
        ""
      ],
      "execution_count": null,
      "outputs": []
    },
    {
      "cell_type": "markdown",
      "metadata": {
        "id": "UwtKoWGJ_ziv"
      },
      "source": [
        "Report the accuracy of the best model on the test set."
      ]
    },
    {
      "cell_type": "code",
      "metadata": {
        "id": "VvbZ4Osu_ziw"
      },
      "source": [
        ""
      ],
      "execution_count": null,
      "outputs": []
    },
    {
      "cell_type": "markdown",
      "metadata": {
        "id": "I-1sKAhK_ziw"
      },
      "source": [
        "## Task 6. Visualizations"
      ]
    },
    {
      "cell_type": "markdown",
      "metadata": {
        "id": "6ZDPTUxC_zix"
      },
      "source": [
        "Visualize some examples of the best model's successful and failure predictions on the test set. Visualize the accuaracy depending on the digit pairs. Why is the model better or worse on some digits? "
      ]
    },
    {
      "cell_type": "code",
      "metadata": {
        "id": "1y3sZQeU_zix"
      },
      "source": [
        ""
      ],
      "execution_count": null,
      "outputs": []
    },
    {
      "cell_type": "code",
      "metadata": {
        "id": "oQ28e6c9TjuT"
      },
      "source": [
        "!cp 'dataset.py' '/content/drive/My Drive/ATML/Assignments/Assignment1/'"
      ],
      "execution_count": null,
      "outputs": []
    }
  ]
}